{
 "cells": [
  {
   "cell_type": "markdown",
   "id": "28b37b0c",
   "metadata": {},
   "source": [
    "## Getting Started with the Maxar Geospatial Platform basemaps SDK\n",
    "This sample workflow will guide a user through using the Maxar Geospatial Platform basemaps SDK with real world examples. The process will go through:\n",
    "\n",
    "* Search for a basemaps/seamlines image\n",
    "* Select a basemaps/seamlines image\n",
    "* Download a basemaps/seamlines image\n",
    "* Download basemaps/seamlines tiles\n",
    "\n",
    "**To start with this workflow a user will need the .MGP-config file pre-installed. See Documentation for installing the .MGP-config file [here](https://maxar-geospatial-platform.readthedocs.io/en/latest/)**"
   ]
  },
  {
   "cell_type": "markdown",
   "id": "68434326",
   "metadata": {},
   "source": [
    "#### Initialize the Maxar Geospatial Platform SDK Module"
   ]
  },
  {
   "cell_type": "code",
   "execution_count": null,
   "id": "66ca722e",
   "metadata": {},
   "outputs": [],
   "source": [
    "from MGP_SDK.interface import Interface\n",
    "\n",
    "try:\n",
    "  interface = Interface() # if .MGP-config was created\n",
    "except:\n",
    "  interface = Interface('<user_name>','<user_password>', '<user_client_id>') # if .MGP-config was not created"
   ]
  },
  {
   "cell_type": "markdown",
   "id": "d8361d56",
   "metadata": {},
   "source": [
    "#### Initialize the basemaps protion of the Maxar Geospatial Platform SDK"
   ]
  },
  {
   "cell_type": "code",
   "execution_count": null,
   "id": "846c0b67",
   "metadata": {},
   "outputs": [],
   "source": [
    "basemaps_mgp = interface.basemap_service"
   ]
  },
  {
   "cell_type": "markdown",
   "id": "1a1c9b93",
   "metadata": {},
   "source": [
    "#### Search for a basemaps image\n",
    "This function will search for basemaps imagery on the below bounding box. The return will be a list of dictionaries containing metadata and results for your search"
   ]
  },
  {
   "cell_type": "code",
   "execution_count": null,
   "id": "84e77d51",
   "metadata": {},
   "outputs": [],
   "source": [
    "bbox = \"39.84387,-105.05608,39.95133,-104.94827\"\n",
    "search_results = basemaps_mgp.search(bbox=bbox, filter=\"productName='VIVID_BASIC'\")\n",
    "print(search_results)"
   ]
  },
  {
   "cell_type": "markdown",
   "id": "150c5b2c",
   "metadata": {},
   "source": [
    "To search for seamlines data, include the boolean `seamlines` and set it to `True`"
   ]
  },
  {
   "cell_type": "code",
   "execution_count": null,
   "id": "03580353",
   "metadata": {},
   "outputs": [],
   "source": [
    "seamlines_results = basemaps_mgp.search(bbox=bbox, seamlines=True, \n",
    "                                        filter=\"product_name='VIVID_BASIC'\")\n",
    "print(seamlines_results)"
   ]
  },
  {
   "cell_type": "markdown",
   "id": "511467c8",
   "metadata": {},
   "source": [
    "#### Select a basemaps image\n",
    "With the search results populated, a user can now isolate certain features. Below, features will be a list of dictionaries where each dictionary in the list is a unique feature"
   ]
  },
  {
   "cell_type": "code",
   "execution_count": null,
   "id": "c61ff63f",
   "metadata": {},
   "outputs": [],
   "source": [
    "basemap_features = [i for i in search_results if i['properties']['source'] == \"Multiple\"]\n",
    "print(basemap_features)"
   ]
  },
  {
   "cell_type": "code",
   "execution_count": null,
   "id": "c4090ac7",
   "metadata": {},
   "outputs": [],
   "source": [
    "wv02_seamlines = [i for i in seamlines_results if i['properties']['sensor'] == \"wv02\"]\n",
    "print(wv02_seamlines)"
   ]
  },
  {
   "cell_type": "markdown",
   "id": "5d5fad47",
   "metadata": {},
   "source": [
    "Now a user can select an image from their specified search. In this example, the first image in the `wv02_features` and the `wv02_seamlines` lists will be selected. Because a feature profile was not specified, the default profile will return features based on age. The first image will then be the newest image"
   ]
  },
  {
   "cell_type": "code",
   "execution_count": null,
   "id": "ea62e330",
   "metadata": {},
   "outputs": [],
   "source": [
    "desired_image = basemap_features[0]\n",
    "desired_featureid = desired_image['id']\n",
    "print(desired_image)\n",
    "print(desired_featureid)"
   ]
  },
  {
   "cell_type": "code",
   "execution_count": null,
   "id": "a5d5ec45",
   "metadata": {},
   "outputs": [],
   "source": [
    "desired_seamline = wv02_seamlines[0]\n",
    "desired_seamline_id = desired_seamline['id']\n",
    "print(desired_seamline)\n",
    "print(desired_seamline_id)"
   ]
  },
  {
   "cell_type": "markdown",
   "id": "6b8bba14",
   "metadata": {},
   "source": [
    "#### Download a basemap image\n",
    "With the desired features isolated, a user can now download a feature. A download location on the machine will need to be specified. *Note: This sets the output location to the current working directory*"
   ]
  },
  {
   "cell_type": "code",
   "execution_count": null,
   "id": "bda5809c",
   "metadata": {},
   "outputs": [],
   "source": [
    "import os\n",
    "output_location_basemap = os.path.join(os.getcwd(), \"my_basemap_image.jpeg\")\n",
    "print(output_location_basemap)\n",
    "output_location_seamline = os.path.join(os.getcwd(), \"my_seamline_image.jpeg\")\n",
    "print(output_location_seamline)"
   ]
  },
  {
   "cell_type": "markdown",
   "id": "dd8dec94",
   "metadata": {},
   "source": [
    "The user can now proceed to download the jpeg of the desired image"
   ]
  },
  {
   "cell_type": "code",
   "execution_count": null,
   "id": "f2fc4abe",
   "metadata": {},
   "outputs": [],
   "source": [
    "download_basemap = basemaps_mgp.download_image_by_pixel_count(bbox=bbox, height=512, width=512, img_format='jpeg', \n",
    "                                                              featurecollection=desired_featureid, \n",
    "                                                              outputpath=output_location_basemap, display=True)\n",
    "print(download_basemap)"
   ]
  },
  {
   "cell_type": "code",
   "execution_count": null,
   "id": "fa562fbf",
   "metadata": {},
   "outputs": [],
   "source": [
    "download_seamline = basemaps_mgp.download_image_by_pixel_count(bbox=bbox, height=512, width=512, img_format='jpeg', \n",
    "                                                               featurecollection=desired_seamline_id, \n",
    "                                                               outputpath=output_location_seamline, seamlines=True, \n",
    "                                                               display=True)\n",
    "print(download_seamline)"
   ]
  },
  {
   "cell_type": "markdown",
   "id": "1a54eae4",
   "metadata": {},
   "source": [
    "#### Download basemap tiles\n",
    "A user can also download the desired image in tiles utilizing the below function. For this example a smaller bbox is supplied for quicker results"
   ]
  },
  {
   "cell_type": "code",
   "execution_count": null,
   "id": "9cc301ed",
   "metadata": {},
   "outputs": [],
   "source": [
    "small_bbox = \"39.844527,-104.968400,39.856256,-104.950032\"\n",
    "basemap_tiles = basemaps_mgp.download_tiles(bbox=small_bbox, zoom_level=13, img_format='jpeg', \n",
    "                                            featurecollection=desired_featureid, outputpath=output_location_basemap, \n",
    "                                            display=True)\n",
    "print(basemap_tiles)"
   ]
  },
  {
   "cell_type": "code",
   "execution_count": null,
   "id": "2277e77b",
   "metadata": {},
   "outputs": [],
   "source": [
    "seamlines_tiles = basemaps_mgp.download_tiles(bbox=small_bbox, zoom_level=13, img_format='jpeg', \n",
    "                                            featurecollection=desired_seamline_id, outputpath=output_location_seamline, \n",
    "                                            seamlines=True, display=True)\n",
    "print(seamlines_tiles)"
   ]
  }
 ],
 "metadata": {
  "kernelspec": {
   "display_name": "Python 3 (ipykernel)",
   "language": "python",
   "name": "python3"
  },
  "language_info": {
   "codemirror_mode": {
    "name": "ipython",
    "version": 3
   },
   "file_extension": ".py",
   "mimetype": "text/x-python",
   "name": "python",
   "nbconvert_exporter": "python",
   "pygments_lexer": "ipython3",
   "version": "3.7.16"
  }
 },
 "nbformat": 4,
 "nbformat_minor": 5
}
