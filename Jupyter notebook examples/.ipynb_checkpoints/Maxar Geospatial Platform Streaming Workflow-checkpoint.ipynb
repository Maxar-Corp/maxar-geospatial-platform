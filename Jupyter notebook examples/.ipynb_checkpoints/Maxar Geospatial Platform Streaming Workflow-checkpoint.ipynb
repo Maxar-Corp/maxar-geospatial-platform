{
 "cells": [
  {
   "cell_type": "markdown",
   "metadata": {},
   "source": [
    "## Getting Started with the Maxar Geospatial Platform streaming SDK.\n",
    "This sample workflow will guide you through using the Maxar Geospatial Platform streaming SDK with real world examples.\n",
    "The process will go through:\n",
    "* Search for an image\n",
    "* Select an image\n",
    "* Download an image \n",
    "* Download full resolution image\n",
    "\n",
    "##### To start with this workflow you need the .MGP-config file pre installed. See Documentation for installing .MGP-config file here https://maxar-geospatial-platform.readthedocs.io/en/latest/"
   ]
  },
  {
   "cell_type": "markdown",
   "metadata": {},
   "source": [
    "#### Initialize the Maxar Geospatial Platform SDK Module"
   ]
  },
  {
   "cell_type": "code",
   "execution_count": 1,
   "metadata": {},
   "outputs": [],
   "source": [
    "from MGP_SDK.interface import Interface\n",
    "\n",
    "try:\n",
    "  interface = Interface() # if .MGP-config was created\n",
    "except:\n",
    "  interface = Interface('<user_name>','<user_password>', '<user_client_id>') # if .MGP-config was not created"
   ]
  },
  {
   "cell_type": "markdown",
   "metadata": {},
   "source": [
    "#### Initialize the streaming portion of the Maxar Geospatial Platform SDK"
   ]
  },
  {
   "cell_type": "code",
   "execution_count": null,
   "metadata": {},
   "outputs": [],
   "source": [
    "streaming_mgp = interface.streaming"
   ]
  },
  {
   "cell_type": "markdown",
   "metadata": {},
   "source": [
    "#### Search for an Image\n",
    "This function will search for imagery on the below Bbox. The return will be a dictionary containing metadata and results for your search."
   ]
  },
  {
   "cell_type": "code",
   "execution_count": null,
   "metadata": {},
   "outputs": [],
   "source": [
    "bbox = \"39.84387,-105.05608,39.95133,-104.94827\"\n",
    "search_results = streaming_mgp.search(bbox=bbox)\n",
    "print(search_results)"
   ]
  },
  {
   "cell_type": "markdown",
   "metadata": {},
   "source": [
    "#### Select an Image\n",
    "Next we will isolate the features from the results above. Below, features will be a list of dictionaries where each dictionary in the list is a unique feature."
   ]
  },
  {
   "cell_type": "code",
   "execution_count": null,
   "metadata": {},
   "outputs": [],
   "source": [
    "WV02_features = [i for i in search_results if i['properties']['source'] == 'WV02']\n",
    "print(WV02_features)"
   ]
  },
  {
   "cell_type": "markdown",
   "metadata": {},
   "source": [
    "Now we will select an image from our specified search. We will take the first image in the WV02_features list. Because we did not specify a feature profile, the default profile will return features based on age. The first image will then be the newest image."
   ]
  },
  {
   "cell_type": "code",
   "execution_count": null,
   "metadata": {},
   "outputs": [],
   "source": [
    "desired_image = WV02_features[0]\n",
    "desired_featureid = desired_image['id']\n",
    "print(desired_image)\n",
    "print(desired_featureid)"
   ]
  },
  {
   "cell_type": "markdown",
   "metadata": {},
   "source": [
    "#### Download an Image\n",
    "Now that we have isolated the feature that we want to download we will need to specify a download location on our machine.\n",
    "Note: This sets the output location to the current working directory."
   ]
  },
  {
   "cell_type": "code",
   "execution_count": null,
   "metadata": {},
   "outputs": [],
   "source": [
    "import os\n",
    "output_location = os.path.join(os.getcwd(), 'my_image.jpeg')\n",
    "print(output_location)"
   ]
  },
  {
   "cell_type": "markdown",
   "metadata": {},
   "source": [
    "Now we can proceed to download the jpeg of the image. The second line of the cell is optional and displays the image within Jupyter Notebooks"
   ]
  },
  {
   "cell_type": "code",
   "execution_count": null,
   "metadata": {
    "scrolled": true
   },
   "outputs": [],
   "source": [
    "download_image = streaming_mgp.download_image_by_pixel_count(bbox=bbox, height=512, width=512, img_format='jpeg', featurecollection=desired_featureid, outputpath=output_location)\n",
    "print(download_image)"
   ]
  },
  {
   "cell_type": "markdown",
   "metadata": {},
   "source": [
    "#### Download Full Resolution Image"
   ]
  },
  {
   "cell_type": "markdown",
   "metadata": {},
   "source": [
    "######  This will be a large download of several files. \n",
    "The following command will download the full resolution of the imagery within the bbox. To download an entire strip in full resolution, omit the bbox variable. When declaring an output directory for a full resolution download, it must be a directory as opposed to a filename. Printing the download_full_res object will return a message when the process is complete as well as the location of the files."
   ]
  },
  {
   "cell_type": "code",
   "execution_count": null,
   "metadata": {},
   "outputs": [],
   "source": [
    "full_res_location = os.getcwd()\n",
    "download_full_res = streaming_mgp.get_full_res_image(desired_featureid, bbox=bbox, outputdirectory=full_res_location)\n",
    "print(download_full_res)"
   ]
  },
  {
   "cell_type": "markdown",
   "metadata": {},
   "source": [
    "Included in the download will be a file name \"Grid_cell_coordinates.txt\" It will include a list of coordinates for all the downloaded image sections. With this you can reconstruct and geolocate the image. "
   ]
  }
 ],
 "metadata": {
  "kernelspec": {
   "display_name": "Python 3 (ipykernel)",
   "language": "python",
   "name": "python3"
  },
  "language_info": {
   "codemirror_mode": {
    "name": "ipython",
    "version": 3
   },
   "file_extension": ".py",
   "mimetype": "text/x-python",
   "name": "python",
   "nbconvert_exporter": "python",
   "pygments_lexer": "ipython3",
   "version": "3.7.16"
  }
 },
 "nbformat": 4,
 "nbformat_minor": 4
}
