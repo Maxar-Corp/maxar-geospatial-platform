{
 "cells": [
  {
   "cell_type": "markdown",
   "id": "d71b5cbf",
   "metadata": {},
   "source": [
    "## Usage"
   ]
  },
  {
   "cell_type": "markdown",
   "id": "9120a487",
   "metadata": {},
   "source": [
    "#### The following functionality is intended for account administrators and will not work with base user permissions"
   ]
  },
  {
   "cell_type": "markdown",
   "id": "67be30dd",
   "metadata": {},
   "source": [
    "#### Initialize the Maxar Geospatial Platform SDK Module"
   ]
  },
  {
   "cell_type": "code",
   "execution_count": 1,
   "id": "6c2ad630",
   "metadata": {},
   "outputs": [],
   "source": [
    "from MGP_SDK.interface import Interface\n",
    "\n",
    "try:\n",
    "  interface = Interface() # if .MGP-config was created\n",
    "except:\n",
    "  interface = Interface('<user_name>','<user_password>', '<user_client_id>') # if .MGP-config was not created"
   ]
  },
  {
   "cell_type": "markdown",
   "id": "f7e99ef6",
   "metadata": {},
   "source": [
    "#### Initialize the usage portion of the account-services class for Maxar Geospatial Platform SDK"
   ]
  },
  {
   "cell_type": "code",
   "execution_count": 2,
   "id": "b271e22a",
   "metadata": {},
   "outputs": [],
   "source": [
    "mgp_usage = interface.account_service.usage"
   ]
  },
  {
   "cell_type": "markdown",
   "id": "812e051a",
   "metadata": {},
   "source": [
    "#### Get usage for an account\n",
    "The following command will detail usage and amounts for your account."
   ]
  },
  {
   "cell_type": "code",
   "execution_count": 3,
   "id": "12bcffce",
   "metadata": {},
   "outputs": [
    {
     "name": "stdout",
     "output_type": "stream",
     "text": [
      "{'accounts': [{'id': 1, 'accountNumber': 'ACC-024-428', 'name': 'Portal', 'sapLicenseId': '', 'licensee': 'Maxar', 'soldTo': 'Maxar', 'totalCreditsUsed': 11047.590906251231, 'numberOfActivations': 13, 'numberOfUsers': 24}, {'id': 2, 'accountNumber': 'ACC-725-858', 'name': 'Maxar Internal - Okta', 'sapLicenseId': '', 'licensee': 'Maxar', 'soldTo': 'Maxar', 'totalCreditsUsed': 597843.46395421, 'numberOfActivations': 29, 'numberOfUsers': 139}, {'id': 38, 'accountNumber': 'ACC-038-986', 'name': 'MGP Pro Internal (Maxar employees only)', 'sapLicenseId': None, 'licensee': 'Maxar', 'soldTo': 'Maxar', 'totalCreditsUsed': 1160747.6906909575, 'numberOfActivations': 12, 'numberOfUsers': 265}, {'id': 188, 'accountNumber': 'ACC-111-261', 'name': 'QA Test Account - Secure Watch', 'sapLicenseId': '', 'licensee': 'Maxar', 'soldTo': 'Maxar', 'totalCreditsUsed': 35265.24070420463, 'numberOfActivations': 6, 'numberOfUsers': 19}, {'id': 281, 'accountNumber': 'ACC-604-272', 'name': 'Discovery', 'sapLicenseId': None, 'licensee': 'Maxar', 'soldTo': 'Maxar', 'totalCreditsUsed': 0.0, 'numberOfActivations': 4, 'numberOfUsers': 2}, {'id': 486, 'accountNumber': 'ACC-615-682', 'name': 'Ordering', 'sapLicenseId': None, 'licensee': 'Maxar', 'soldTo': 'Maxar', 'totalCreditsUsed': 1117.5810722182457, 'numberOfActivations': 7, 'numberOfUsers': 14}, {'id': 487, 'accountNumber': 'ACC-939-266', 'name': 'Imstrat', 'sapLicenseId': '0000057157', 'licensee': 'ImStrat Corp', 'soldTo': 'ImStrat Corp', 'totalCreditsUsed': 0.0, 'numberOfActivations': 5, 'numberOfUsers': 1}, {'id': 488, 'accountNumber': 'ACC-220-278', 'name': \"Crow's Nest\", 'sapLicenseId': None, 'licensee': 'Maxar', 'soldTo': 'Maxar', 'totalCreditsUsed': 0.0, 'numberOfActivations': 2, 'numberOfUsers': 2}, {'id': 489, 'accountNumber': 'ACC-369-676', 'name': 'Crows Nest Internal', 'sapLicenseId': None, 'licensee': 'Maxar', 'soldTo': 'Maxar', 'totalCreditsUsed': 0.0, 'numberOfActivations': 2, 'numberOfUsers': 1}, {'id': 491, 'accountNumber': 'ACC-154-776', 'name': 'Hatfield Consultants Africa Pty Ltd', 'sapLicenseId': '0000055280', 'licensee': 'Hatfield Consultants Africa Pty Ltd', 'soldTo': 'Hatfield Consultants Africa Pty Ltd', 'totalCreditsUsed': 0.0, 'numberOfActivations': 3, 'numberOfUsers': 1}, {'id': 493, 'accountNumber': 'ACC-342-033', 'name': 'Pipelines', 'sapLicenseId': None, 'licensee': 'Maxar', 'soldTo': 'Maxar', 'totalCreditsUsed': 28744.1267089844, 'numberOfActivations': 2, 'numberOfUsers': 2}, {'id': 495, 'accountNumber': 'ACC-397-454', 'name': 'Cape Analytics, Inc', 'sapLicenseId': '0000050141', 'licensee': 'Cape Analytics, Inc', 'soldTo': 'Cape Analytics, Inc', 'totalCreditsUsed': 2.89626637473702, 'numberOfActivations': 1, 'numberOfUsers': 7}, {'id': 502, 'accountNumber': 'ACC-936-454', 'name': 'QA Test Account - Credit Limit ', 'sapLicenseId': None, 'licensee': 'Maxar', 'soldTo': 'Maxar', 'totalCreditsUsed': 0.0, 'numberOfActivations': 5, 'numberOfUsers': 0}, {'id': 503, 'accountNumber': 'ACC-630-757', 'name': 'Armed Forces of the Philippines', 'sapLicenseId': '0000068095', 'licensee': 'Armed Forces of the Philippines', 'soldTo': 'PDR Technology (Asia) Inc', 'totalCreditsUsed': 158.833789785393, 'numberOfActivations': 6, 'numberOfUsers': 7}, {'id': 509, 'accountNumber': 'ACC-741-507', 'name': \"Jane's Group UK Limited\", 'sapLicenseId': '0000065944', 'licensee': \"Jane's Group UK Limited\", 'soldTo': \"Jane's Group UK Limited\", 'totalCreditsUsed': 177.6601810157297, 'numberOfActivations': 6, 'numberOfUsers': 1}, {'id': 510, 'accountNumber': 'ACC-702-156', 'name': 'Allsource Analysis', 'sapLicenseId': '0000046290', 'licensee': 'Allsource Analysis', 'soldTo': 'Allsource Analysis', 'totalCreditsUsed': 1989.979658269789, 'numberOfActivations': 4, 'numberOfUsers': 7}, {'id': 512, 'accountNumber': 'ACC-881-421', 'name': 'GEGD Testing', 'sapLicenseId': None, 'licensee': 'Maxar', 'soldTo': 'Maxar', 'totalCreditsUsed': 0.0, 'numberOfActivations': 8, 'numberOfUsers': 3}, {'id': 545, 'accountNumber': 'ACC-657-850', 'name': 'Marianas Testing Jake', 'sapLicenseId': None, 'licensee': 'Maxar', 'soldTo': 'Maxar', 'totalCreditsUsed': 0.0, 'numberOfActivations': 2, 'numberOfUsers': 0}, {'id': 600, 'accountNumber': 'ACC-755-023', 'name': 'PikeTest', 'sapLicenseId': None, 'licensee': None, 'soldTo': None, 'totalCreditsUsed': 0.0, 'numberOfActivations': 1, 'numberOfUsers': 2}, {'id': 601, 'accountNumber': 'ACC-470-924', 'name': 'Aechelon Technology Inc', 'sapLicenseId': '0000023750', 'licensee': 'Aechelon Technology Inc', 'soldTo': 'Aechelon Technology Inc', 'totalCreditsUsed': 172.902180982754, 'numberOfActivations': 1, 'numberOfUsers': 1}], 'totalElements': 35}\n"
     ]
    }
   ],
   "source": [
    "my_account_usage = mgp_usage.get_account_usage()\n",
    "print(my_account_usage)"
   ]
  },
  {
   "cell_type": "markdown",
   "id": "03a2a099",
   "metadata": {},
   "source": [
    "#### Get usage for an activation\n",
    "The following command will detail usage and amounts for your activation."
   ]
  },
  {
   "cell_type": "code",
   "execution_count": 4,
   "id": "782ba3ec",
   "metadata": {},
   "outputs": [
    {
     "name": "stdout",
     "output_type": "stream",
     "text": [
      "{'activations': [{'id': 1, 'activationNumber': 'ACT-3303231', 'sapContractIdentifier': '1234567890', 'sapLineItem': '999999', 'startDate': '2022-01-01T00:00:00.000+00:00', 'endDate': None, 'creditLimit': -1.0, 'totalCreditsUsed': 2118.69024944585, 'creditsUsedPercentage': -1.0, 'numberOfUsers': None, 'totalUsers': 23, 'accountTotalUsers': None, 'accountName': 'Portal', 'accountNumber': 'ACC-024-428', 'accountSapLicenseId': '', 'accountLicensee': 'Maxar', 'accountSoldTo': 'Maxar', 'userLimit': None, 'dailyCreditLimitTotal': -1, 'dailyCreditLimitUsed': 0.0, 'clientContextId': 'd9bd4ba2-9c44-4c27-be4a-03c525ddcbb4'}, {'id': 2, 'activationNumber': 'ACT-4539529', 'sapContractIdentifier': '1234567890', 'sapLineItem': '999999', 'startDate': '2022-01-01T00:00:00.000+00:00', 'endDate': None, 'creditLimit': -1.0, 'totalCreditsUsed': 16227.2918453384, 'creditsUsedPercentage': -1.0, 'numberOfUsers': None, 'totalUsers': 32, 'accountTotalUsers': None, 'accountName': 'Maxar Internal - Okta', 'accountNumber': 'ACC-725-858', 'accountSapLicenseId': '', 'accountLicensee': 'Maxar', 'accountSoldTo': 'Maxar', 'userLimit': None, 'dailyCreditLimitTotal': -1, 'dailyCreditLimitUsed': 0.0, 'clientContextId': '37ab1268-5708-4027-9f28-1398d576df88'}, {'id': 147, 'activationNumber': 'ACT-3428888', 'sapContractIdentifier': '1234567890', 'sapLineItem': '999999', 'startDate': '2022-11-30T00:00:00.000+00:00', 'endDate': '2023-11-30T00:00:00.000+00:00', 'creditLimit': -1.0, 'totalCreditsUsed': 2.1447998508811, 'creditsUsedPercentage': -1.0, 'numberOfUsers': None, 'totalUsers': 7, 'accountTotalUsers': None, 'accountName': 'Maxar Internal - Okta', 'accountNumber': 'ACC-725-858', 'accountSapLicenseId': '', 'accountLicensee': 'Maxar', 'accountSoldTo': 'Maxar', 'userLimit': None, 'dailyCreditLimitTotal': -1, 'dailyCreditLimitUsed': 0.0, 'clientContextId': '37ab1268-5708-4027-9f28-1398d576df88'}, {'id': 151, 'activationNumber': 'ACT-8953046', 'sapContractIdentifier': None, 'sapLineItem': None, 'startDate': '2022-11-29T00:00:00.000+00:00', 'endDate': None, 'creditLimit': -1.0, 'totalCreditsUsed': 33120.7790724437, 'creditsUsedPercentage': -1.0, 'numberOfUsers': None, 'totalUsers': 13, 'accountTotalUsers': None, 'accountName': 'QA Test Account - Secure Watch', 'accountNumber': 'ACC-111-261', 'accountSapLicenseId': '', 'accountLicensee': 'Maxar', 'accountSoldTo': 'Maxar', 'userLimit': None, 'dailyCreditLimitTotal': -1, 'dailyCreditLimitUsed': 0.0, 'clientContextId': '7b31c61f-fbd3-41ed-8413-1fde8ed6c04e'}, {'id': 347, 'activationNumber': 'ACT-3506768', 'sapContractIdentifier': None, 'sapLineItem': None, 'startDate': '2023-01-01T00:00:00.000+00:00', 'endDate': '2023-12-31T00:00:00.000+00:00', 'creditLimit': -1.0, 'totalCreditsUsed': 0.0, 'creditsUsedPercentage': -1.0, 'numberOfUsers': None, 'totalUsers': 0, 'accountTotalUsers': None, 'accountName': 'Ordering', 'accountNumber': 'ACC-615-682', 'accountSapLicenseId': None, 'accountLicensee': 'Maxar', 'accountSoldTo': 'Maxar', 'userLimit': None, 'dailyCreditLimitTotal': -1, 'dailyCreditLimitUsed': 0.0, 'clientContextId': None}, {'id': 348, 'activationNumber': 'ACT-3754042', 'sapContractIdentifier': None, 'sapLineItem': None, 'startDate': '2023-01-23T00:00:00.000+00:00', 'endDate': '2023-12-31T00:00:00.000+00:00', 'creditLimit': -1.0, 'totalCreditsUsed': 0.0, 'creditsUsedPercentage': -1.0, 'numberOfUsers': None, 'totalUsers': 1, 'accountTotalUsers': None, 'accountName': 'Discovery', 'accountNumber': 'ACC-604-272', 'accountSapLicenseId': None, 'accountLicensee': 'Maxar', 'accountSoldTo': 'Maxar', 'userLimit': None, 'dailyCreditLimitTotal': -1, 'dailyCreditLimitUsed': 0.0, 'clientContextId': 'd9bd4ba2-9c44-4c27-be4a-03c525ddcbb4'}, {'id': 351, 'activationNumber': 'ACT-4836002', 'sapContractIdentifier': None, 'sapLineItem': None, 'startDate': '2023-02-01T00:00:00.000+00:00', 'endDate': None, 'creditLimit': -1.0, 'totalCreditsUsed': 0.0, 'creditsUsedPercentage': -1.0, 'numberOfUsers': None, 'totalUsers': 0, 'accountTotalUsers': None, 'accountName': \"Crow's Nest\", 'accountNumber': 'ACC-220-278', 'accountSapLicenseId': None, 'accountLicensee': 'Maxar', 'accountSoldTo': 'Maxar', 'userLimit': None, 'dailyCreditLimitTotal': -1, 'dailyCreditLimitUsed': 0.0, 'clientContextId': None}, {'id': 352, 'activationNumber': 'ACT-2165106', 'sapContractIdentifier': None, 'sapLineItem': None, 'startDate': '2023-02-07T00:00:00.000+00:00', 'endDate': '2030-01-31T00:00:00.000+00:00', 'creditLimit': -1.0, 'totalCreditsUsed': 0.0, 'creditsUsedPercentage': -1.0, 'numberOfUsers': None, 'totalUsers': 13, 'accountTotalUsers': None, 'accountName': 'Ordering', 'accountNumber': 'ACC-615-682', 'accountSapLicenseId': None, 'accountLicensee': 'Maxar', 'accountSoldTo': 'Maxar', 'userLimit': None, 'dailyCreditLimitTotal': -1, 'dailyCreditLimitUsed': 0.0, 'clientContextId': 'd9bd4ba2-9c44-4c27-be4a-03c525ddcbb4'}, {'id': 357, 'activationNumber': 'ACT-8436878', 'sapContractIdentifier': None, 'sapLineItem': None, 'startDate': '2023-02-13T00:00:00.000+00:00', 'endDate': None, 'creditLimit': -1.0, 'totalCreditsUsed': 0.0, 'creditsUsedPercentage': -1.0, 'numberOfUsers': None, 'totalUsers': 2, 'accountTotalUsers': None, 'accountName': 'Pipelines', 'accountNumber': 'ACC-342-033', 'accountSapLicenseId': None, 'accountLicensee': 'Maxar', 'accountSoldTo': 'Maxar', 'userLimit': None, 'dailyCreditLimitTotal': -1, 'dailyCreditLimitUsed': 0.0, 'clientContextId': 'd9bd4ba2-9c44-4c27-be4a-03c525ddcbb4'}, {'id': 362, 'activationNumber': 'ACT-0079589', 'sapContractIdentifier': None, 'sapLineItem': None, 'startDate': '2023-03-09T00:00:00.000+00:00', 'endDate': None, 'creditLimit': 1.0, 'totalCreditsUsed': 0.0, 'creditsUsedPercentage': 0.0, 'numberOfUsers': None, 'totalUsers': 0, 'accountTotalUsers': None, 'accountName': 'QA Test Account - Credit Limit ', 'accountNumber': 'ACC-936-454', 'accountSapLicenseId': None, 'accountLicensee': 'Maxar', 'accountSoldTo': 'Maxar', 'userLimit': None, 'dailyCreditLimitTotal': 1, 'dailyCreditLimitUsed': 0.0, 'clientContextId': '7b31c61f-fbd3-41ed-8413-1fde8ed6c04e'}, {'id': 363, 'activationNumber': 'ACT-2521551', 'sapContractIdentifier': None, 'sapLineItem': None, 'startDate': '2023-03-13T00:00:00.000+00:00', 'endDate': '2023-05-13T00:00:00.000+00:00', 'creditLimit': 2000.0, 'totalCreditsUsed': 158.833789785393, 'creditsUsedPercentage': 0.0794168948926965, 'numberOfUsers': None, 'totalUsers': 7, 'accountTotalUsers': None, 'accountName': 'Armed Forces of the Philippines', 'accountNumber': 'ACC-630-757', 'accountSapLicenseId': '0000068095', 'accountLicensee': 'Armed Forces of the Philippines', 'accountSoldTo': 'PDR Technology (Asia) Inc', 'userLimit': None, 'dailyCreditLimitTotal': -1, 'dailyCreditLimitUsed': 0.0, 'clientContextId': '7b31c61f-fbd3-41ed-8413-1fde8ed6c04e'}, {'id': 372, 'activationNumber': 'ACT-7399986', 'sapContractIdentifier': None, 'sapLineItem': None, 'startDate': '2023-03-17T00:00:00.000+00:00', 'endDate': '2023-05-17T00:00:00.000+00:00', 'creditLimit': 2000.0, 'totalCreditsUsed': 155.307916802354, 'creditsUsedPercentage': 0.077653958401177, 'numberOfUsers': None, 'totalUsers': 1, 'accountTotalUsers': None, 'accountName': \"Jane's Group UK Limited\", 'accountNumber': 'ACC-741-507', 'accountSapLicenseId': '0000065944', 'accountLicensee': \"Jane's Group UK Limited\", 'accountSoldTo': \"Jane's Group UK Limited\", 'userLimit': None, 'dailyCreditLimitTotal': -1, 'dailyCreditLimitUsed': 0.0, 'clientContextId': '7b31c61f-fbd3-41ed-8413-1fde8ed6c04e'}, {'id': 373, 'activationNumber': 'ACT-5078827', 'sapContractIdentifier': None, 'sapLineItem': None, 'startDate': '2023-03-17T00:00:00.000+00:00', 'endDate': '2023-05-17T00:00:00.000+00:00', 'creditLimit': 2000.0, 'totalCreditsUsed': 834.81734858267, 'creditsUsedPercentage': 0.417408674291335, 'numberOfUsers': None, 'totalUsers': 7, 'accountTotalUsers': None, 'accountName': 'Allsource Analysis', 'accountNumber': 'ACC-702-156', 'accountSapLicenseId': '0000046290', 'accountLicensee': 'Allsource Analysis', 'accountSoldTo': 'Allsource Analysis', 'userLimit': None, 'dailyCreditLimitTotal': -1, 'dailyCreditLimitUsed': 0.0, 'clientContextId': '7b31c61f-fbd3-41ed-8413-1fde8ed6c04e'}, {'id': 377, 'activationNumber': 'ACT-3993052', 'sapContractIdentifier': None, 'sapLineItem': None, 'startDate': '2023-03-01T00:00:00.000+00:00', 'endDate': None, 'creditLimit': -1.0, 'totalCreditsUsed': 0.0, 'creditsUsedPercentage': -1.0, 'numberOfUsers': None, 'totalUsers': 3, 'accountTotalUsers': None, 'accountName': 'GEGD Testing', 'accountNumber': 'ACC-881-421', 'accountSapLicenseId': None, 'accountLicensee': 'Maxar', 'accountSoldTo': 'Maxar', 'userLimit': None, 'dailyCreditLimitTotal': -1, 'dailyCreditLimitUsed': 0.0, 'clientContextId': '37ab1268-5708-4027-9f28-1398d576df88'}, {'id': 396, 'activationNumber': 'ACT-4100655', 'sapContractIdentifier': '1234567890', 'sapLineItem': '999999', 'startDate': '2022-01-01T00:00:00.000+00:00', 'endDate': None, 'creditLimit': -1.0, 'totalCreditsUsed': 59795.4017798132, 'creditsUsedPercentage': -1.0, 'numberOfUsers': None, 'totalUsers': 9, 'accountTotalUsers': None, 'accountName': 'Maxar Internal - Okta', 'accountNumber': 'ACC-725-858', 'accountSapLicenseId': '', 'accountLicensee': 'Maxar', 'accountSoldTo': 'Maxar', 'userLimit': None, 'dailyCreditLimitTotal': -1, 'dailyCreditLimitUsed': 0.0, 'clientContextId': '6ee64d91-125c-4022-b99d-97f797ce108d'}, {'id': 397, 'activationNumber': 'ACT-0838371', 'sapContractIdentifier': '1234567890', 'sapLineItem': '999999', 'startDate': '2022-01-01T00:00:00.000+00:00', 'endDate': None, 'creditLimit': -1.0, 'totalCreditsUsed': 0.0, 'creditsUsedPercentage': -1.0, 'numberOfUsers': None, 'totalUsers': 26, 'accountTotalUsers': None, 'accountName': 'Maxar Internal - Okta', 'accountNumber': 'ACC-725-858', 'accountSapLicenseId': '', 'accountLicensee': 'Maxar', 'accountSoldTo': 'Maxar', 'userLimit': None, 'dailyCreditLimitTotal': -1, 'dailyCreditLimitUsed': 0.0, 'clientContextId': 'd9bd4ba2-9c44-4c27-be4a-03c525ddcbb4'}, {'id': 398, 'activationNumber': 'ACT-8677619', 'sapContractIdentifier': '1234567890', 'sapLineItem': '999999', 'startDate': '2022-01-01T00:00:00.000+00:00', 'endDate': None, 'creditLimit': -1.0, 'totalCreditsUsed': 59795.4017798132, 'creditsUsedPercentage': -1.0, 'numberOfUsers': None, 'totalUsers': 3, 'accountTotalUsers': None, 'accountName': 'Maxar Internal - Okta', 'accountNumber': 'ACC-725-858', 'accountSapLicenseId': '', 'accountLicensee': 'Maxar', 'accountSoldTo': 'Maxar', 'userLimit': None, 'dailyCreditLimitTotal': -1, 'dailyCreditLimitUsed': 0.0, 'clientContextId': '97159084-4597-4b44-8241-0fef923ea127'}, {'id': 399, 'activationNumber': 'ACT-6748837', 'sapContractIdentifier': '1234567890', 'sapLineItem': '999999', 'startDate': '2022-01-01T00:00:00.000+00:00', 'endDate': None, 'creditLimit': -1.0, 'totalCreditsUsed': 2118.69024944585, 'creditsUsedPercentage': -1.0, 'numberOfUsers': None, 'totalUsers': 23, 'accountTotalUsers': None, 'accountName': 'Portal', 'accountNumber': 'ACC-024-428', 'accountSapLicenseId': '', 'accountLicensee': 'Maxar', 'accountSoldTo': 'Maxar', 'userLimit': None, 'dailyCreditLimitTotal': -1, 'dailyCreditLimitUsed': 0.0, 'clientContextId': '37ab1268-5708-4027-9f28-1398d576df88'}, {'id': 400, 'activationNumber': 'ACT-3802618', 'sapContractIdentifier': '1234567890', 'sapLineItem': '999999', 'startDate': '2022-01-01T00:00:00.000+00:00', 'endDate': None, 'creditLimit': -1.0, 'totalCreditsUsed': 2118.69024944585, 'creditsUsedPercentage': -1.0, 'numberOfUsers': None, 'totalUsers': 12, 'accountTotalUsers': None, 'accountName': 'Portal', 'accountNumber': 'ACC-024-428', 'accountSapLicenseId': '', 'accountLicensee': 'Maxar', 'accountSoldTo': 'Maxar', 'userLimit': None, 'dailyCreditLimitTotal': -1, 'dailyCreditLimitUsed': 0.0, 'clientContextId': '7b31c61f-fbd3-41ed-8413-1fde8ed6c04e'}, {'id': 401, 'activationNumber': 'ACT-8921730', 'sapContractIdentifier': '1234567890', 'sapLineItem': '999999', 'startDate': '2022-01-01T00:00:00.000+00:00', 'endDate': None, 'creditLimit': -1.0, 'totalCreditsUsed': 2118.69024944585, 'creditsUsedPercentage': -1.0, 'numberOfUsers': None, 'totalUsers': 1, 'accountTotalUsers': None, 'accountName': 'Portal', 'accountNumber': 'ACC-024-428', 'accountSapLicenseId': '', 'accountLicensee': 'Maxar', 'accountSoldTo': 'Maxar', 'userLimit': None, 'dailyCreditLimitTotal': -1, 'dailyCreditLimitUsed': 0.0, 'clientContextId': '6ee64d91-125c-4022-b99d-97f797ce108d'}], 'totalElements': 134}\n"
     ]
    }
   ],
   "source": [
    "my_activation_usage = mgp_usage.get_activation_usage()\n",
    "print(my_activation_usage)"
   ]
  },
  {
   "cell_type": "markdown",
   "id": "18485e5b",
   "metadata": {},
   "source": [
    "#### Get usage for a user\n",
    "The following command will detail usage and amounts for all users under the same activation."
   ]
  },
  {
   "cell_type": "code",
   "execution_count": 5,
   "id": "1cf627f0",
   "metadata": {},
   "outputs": [
    {
     "name": "stdout",
     "output_type": "stream",
     "text": [
      "{'users': [{'id': 1, 'username': 'system-admin-swonline@maxar.com', 'accountId': None, 'activationNumber': None, 'accountNumber': None, 'accountSapLicenseId': None, 'accountLicensee': None, 'accountSoldTo': None, 'totalCreditsUsed': 0.0, 'dailyCreditLimitTotal': -1.0, 'dailyCreditLimitUsed': 0.0, 'userType': 'SYSTEM_ADMIN', 'clientContextId': None}, {'id': 2, 'username': 'greg.murray@maxar.com', 'accountId': 2, 'activationNumber': 'ACT-4919007', 'accountNumber': 'ACC-725-858', 'accountSapLicenseId': '', 'accountLicensee': 'Maxar', 'accountSoldTo': 'Maxar', 'totalCreditsUsed': 8.07706628646702, 'dailyCreditLimitTotal': -1.0, 'dailyCreditLimitUsed': 0.0, 'userType': 'SYSTEM_ADMIN', 'clientContextId': 'b4e8d573-56ee-4e79-abcd-7b161f93ea17'}, {'id': 5, 'username': 'ross.anderson@maxar.com', 'accountId': 2, 'activationNumber': 'ACT-4539529', 'accountNumber': 'ACC-725-858', 'accountSapLicenseId': '', 'accountLicensee': 'Maxar', 'accountSoldTo': 'Maxar', 'totalCreditsUsed': 40472.6355554624, 'dailyCreditLimitTotal': -1.0, 'dailyCreditLimitUsed': 0.0, 'userType': 'GLOBAL_ADMIN', 'clientContextId': '37ab1268-5708-4027-9f28-1398d576df88'}, {'id': 5, 'username': 'ross.anderson@maxar.com', 'accountId': 2, 'activationNumber': 'ACT-4100655', 'accountNumber': 'ACC-725-858', 'accountSapLicenseId': '', 'accountLicensee': 'Maxar', 'accountSoldTo': 'Maxar', 'totalCreditsUsed': 40472.6355554624, 'dailyCreditLimitTotal': -1.0, 'dailyCreditLimitUsed': 0.0, 'userType': 'GLOBAL_ADMIN', 'clientContextId': '6ee64d91-125c-4022-b99d-97f797ce108d'}, {'id': 5, 'username': 'ross.anderson@maxar.com', 'accountId': 2, 'activationNumber': 'ACT-3604182', 'accountNumber': 'ACC-725-858', 'accountSapLicenseId': '', 'accountLicensee': 'Maxar', 'accountSoldTo': 'Maxar', 'totalCreditsUsed': 40472.6355554624, 'dailyCreditLimitTotal': -1.0, 'dailyCreditLimitUsed': 0.0, 'userType': 'GLOBAL_ADMIN', 'clientContextId': 'b4e8d573-56ee-4e79-abcd-7b161f93ea17'}, {'id': 6, 'username': 'tim.sullivan@maxar.com', 'accountId': 2, 'activationNumber': 'ACT-4552166', 'accountNumber': 'ACC-725-858', 'accountSapLicenseId': '', 'accountLicensee': 'Maxar', 'accountSoldTo': 'Maxar', 'totalCreditsUsed': 5722.62499277294, 'dailyCreditLimitTotal': -1.0, 'dailyCreditLimitUsed': 0.0, 'userType': 'SYSTEM_ADMIN', 'clientContextId': 'b4e8d573-56ee-4e79-abcd-7b161f93ea17'}, {'id': 7, 'username': 'mihai.petcu@maxar.com', 'accountId': 2, 'activationNumber': 'ACT-4539529', 'accountNumber': 'ACC-725-858', 'accountSapLicenseId': '', 'accountLicensee': 'Maxar', 'accountSoldTo': 'Maxar', 'totalCreditsUsed': 72.8141951560974, 'dailyCreditLimitTotal': -1.0, 'dailyCreditLimitUsed': 0.0, 'userType': 'GLOBAL_ADMIN', 'clientContextId': '37ab1268-5708-4027-9f28-1398d576df88'}, {'id': 7, 'username': 'mihai.petcu@maxar.com', 'accountId': 2, 'activationNumber': 'ACT-0838371', 'accountNumber': 'ACC-725-858', 'accountSapLicenseId': '', 'accountLicensee': 'Maxar', 'accountSoldTo': 'Maxar', 'totalCreditsUsed': 72.8141951560974, 'dailyCreditLimitTotal': -1.0, 'dailyCreditLimitUsed': 0.0, 'userType': 'GLOBAL_ADMIN', 'clientContextId': 'd9bd4ba2-9c44-4c27-be4a-03c525ddcbb4'}, {'id': 7, 'username': 'mihai.petcu@maxar.com', 'accountId': 2, 'activationNumber': 'ACT-4919007', 'accountNumber': 'ACC-725-858', 'accountSapLicenseId': '', 'accountLicensee': 'Maxar', 'accountSoldTo': 'Maxar', 'totalCreditsUsed': 72.8141951560974, 'dailyCreditLimitTotal': -1.0, 'dailyCreditLimitUsed': 0.0, 'userType': 'GLOBAL_ADMIN', 'clientContextId': 'b4e8d573-56ee-4e79-abcd-7b161f93ea17'}, {'id': 12, 'username': 'robert.clarke@maxar.com', 'accountId': 1, 'activationNumber': 'ACT-3303231', 'accountNumber': 'ACC-024-428', 'accountSapLicenseId': '', 'accountLicensee': 'Maxar', 'accountSoldTo': 'Maxar', 'totalCreditsUsed': 0.0, 'dailyCreditLimitTotal': -1.0, 'dailyCreditLimitUsed': 0.0, 'userType': 'GLOBAL_ADMIN', 'clientContextId': 'd9bd4ba2-9c44-4c27-be4a-03c525ddcbb4'}, {'id': 12, 'username': 'robert.clarke@maxar.com', 'accountId': 1, 'activationNumber': 'ACT-6748837', 'accountNumber': 'ACC-024-428', 'accountSapLicenseId': '', 'accountLicensee': 'Maxar', 'accountSoldTo': 'Maxar', 'totalCreditsUsed': 0.0, 'dailyCreditLimitTotal': -1.0, 'dailyCreditLimitUsed': 0.0, 'userType': 'GLOBAL_ADMIN', 'clientContextId': '37ab1268-5708-4027-9f28-1398d576df88'}, {'id': 12, 'username': 'robert.clarke@maxar.com', 'accountId': 1, 'activationNumber': 'ACT-3802618', 'accountNumber': 'ACC-024-428', 'accountSapLicenseId': '', 'accountLicensee': 'Maxar', 'accountSoldTo': 'Maxar', 'totalCreditsUsed': 0.0, 'dailyCreditLimitTotal': -1.0, 'dailyCreditLimitUsed': 0.0, 'userType': 'GLOBAL_ADMIN', 'clientContextId': '7b31c61f-fbd3-41ed-8413-1fde8ed6c04e'}, {'id': 12, 'username': 'robert.clarke@maxar.com', 'accountId': 1, 'activationNumber': 'ACT-7838971', 'accountNumber': 'ACC-024-428', 'accountSapLicenseId': '', 'accountLicensee': 'Maxar', 'accountSoldTo': 'Maxar', 'totalCreditsUsed': 0.0, 'dailyCreditLimitTotal': -1.0, 'dailyCreditLimitUsed': 0.0, 'userType': 'GLOBAL_ADMIN', 'clientContextId': 'b4e8d573-56ee-4e79-abcd-7b161f93ea17'}, {'id': 14, 'username': 'harrison.mullins@maxar.com', 'accountId': 38, 'activationNumber': 'ACT-9504656', 'accountNumber': 'ACC-038-986', 'accountSapLicenseId': None, 'accountLicensee': 'Maxar', 'accountSoldTo': 'Maxar', 'totalCreditsUsed': 0.0, 'dailyCreditLimitTotal': -1.0, 'dailyCreditLimitUsed': 0.0, 'userType': 'SYSTEM_ADMIN', 'clientContextId': 'b4e8d573-56ee-4e79-abcd-7b161f93ea17'}, {'id': 18, 'username': 'ed.hankin@maxar.com', 'accountId': 2, 'activationNumber': 'ACT-9193673', 'accountNumber': 'ACC-725-858', 'accountSapLicenseId': '', 'accountLicensee': 'Maxar', 'accountSoldTo': 'Maxar', 'totalCreditsUsed': 452.341987463413, 'dailyCreditLimitTotal': -1.0, 'dailyCreditLimitUsed': 0.0, 'userType': 'GLOBAL_ADMIN', 'clientContextId': 'b4e8d573-56ee-4e79-abcd-7b161f93ea17'}, {'id': 20, 'username': 'josh.burns@maxar.com', 'accountId': 1, 'activationNumber': 'ACT-3303231', 'accountNumber': 'ACC-024-428', 'accountSapLicenseId': '', 'accountLicensee': 'Maxar', 'accountSoldTo': 'Maxar', 'totalCreditsUsed': 0.0, 'dailyCreditLimitTotal': -1.0, 'dailyCreditLimitUsed': 0.0, 'userType': 'BASE_USER', 'clientContextId': 'd9bd4ba2-9c44-4c27-be4a-03c525ddcbb4'}, {'id': 20, 'username': 'josh.burns@maxar.com', 'accountId': 1, 'activationNumber': 'ACT-6748837', 'accountNumber': 'ACC-024-428', 'accountSapLicenseId': '', 'accountLicensee': 'Maxar', 'accountSoldTo': 'Maxar', 'totalCreditsUsed': 0.0, 'dailyCreditLimitTotal': -1.0, 'dailyCreditLimitUsed': 0.0, 'userType': 'BASE_USER', 'clientContextId': '37ab1268-5708-4027-9f28-1398d576df88'}, {'id': 20, 'username': 'josh.burns@maxar.com', 'accountId': 1, 'activationNumber': 'ACT-4281855', 'accountNumber': 'ACC-024-428', 'accountSapLicenseId': '', 'accountLicensee': 'Maxar', 'accountSoldTo': 'Maxar', 'totalCreditsUsed': 0.0, 'dailyCreditLimitTotal': -1.0, 'dailyCreditLimitUsed': 0.0, 'userType': 'BASE_USER', 'clientContextId': 'b4e8d573-56ee-4e79-abcd-7b161f93ea17'}, {'id': 21, 'username': 'tyler.hoehn@maxar.com', 'accountId': 2, 'activationNumber': 'ACT-9193673', 'accountNumber': 'ACC-725-858', 'accountSapLicenseId': '', 'accountLicensee': 'Maxar', 'accountSoldTo': 'Maxar', 'totalCreditsUsed': 3888.16680251155, 'dailyCreditLimitTotal': -1.0, 'dailyCreditLimitUsed': 172.0293305218206, 'userType': 'SYSTEM_ADMIN', 'clientContextId': 'b4e8d573-56ee-4e79-abcd-7b161f93ea17'}, {'id': 23, 'username': 'jcrandle@gmail.com', 'accountId': 1, 'activationNumber': 'ACT-3303231', 'accountNumber': 'ACC-024-428', 'accountSapLicenseId': '', 'accountLicensee': 'Maxar', 'accountSoldTo': 'Maxar', 'totalCreditsUsed': 0.0, 'dailyCreditLimitTotal': 30.0, 'dailyCreditLimitUsed': 0.0, 'userType': 'BASE_USER', 'clientContextId': 'd9bd4ba2-9c44-4c27-be4a-03c525ddcbb4'}], 'totalElements': 757}\n"
     ]
    }
   ],
   "source": [
    "my_users_usage = mgp_usage.get_user_usage()\n",
    "print(my_users_usage)"
   ]
  },
  {
   "cell_type": "markdown",
   "id": "3d393b10",
   "metadata": {},
   "source": [
    "Users can also be sorted by a variety of values. The below example shows how users can be sorted by username."
   ]
  },
  {
   "cell_type": "code",
   "execution_count": 6,
   "id": "79cc96f7",
   "metadata": {},
   "outputs": [
    {
     "name": "stdout",
     "output_type": "stream",
     "text": [
      "{'users': [{'id': 187, 'username': 'aaron.drake@maxar.com', 'accountId': 38, 'activationNumber': 'ACT-9504656', 'accountNumber': 'ACC-038-986', 'accountSapLicenseId': None, 'accountLicensee': 'Maxar', 'accountSoldTo': 'Maxar', 'totalCreditsUsed': 0.0, 'dailyCreditLimitTotal': -1.0, 'dailyCreditLimitUsed': 0.0, 'userType': 'ACCOUNT_ADMIN', 'clientContextId': 'b4e8d573-56ee-4e79-abcd-7b161f93ea17'}, {'id': 506, 'username': 'aaron.tirrell@maxar.com', 'accountId': 38, 'activationNumber': 'ACT-1824364', 'accountNumber': 'ACC-038-986', 'accountSapLicenseId': None, 'accountLicensee': 'Maxar', 'accountSoldTo': 'Maxar', 'totalCreditsUsed': 29.3121974123642, 'dailyCreditLimitTotal': -1.0, 'dailyCreditLimitUsed': 0.0, 'userType': 'GLOBAL_ADMIN', 'clientContextId': '37ab1268-5708-4027-9f28-1398d576df88'}, {'id': 506, 'username': 'aaron.tirrell@maxar.com', 'accountId': 38, 'activationNumber': 'ACT-6231494', 'accountNumber': 'ACC-038-986', 'accountSapLicenseId': None, 'accountLicensee': 'Maxar', 'accountSoldTo': 'Maxar', 'totalCreditsUsed': 29.3121974123642, 'dailyCreditLimitTotal': -1.0, 'dailyCreditLimitUsed': 0.0, 'userType': 'GLOBAL_ADMIN', 'clientContextId': 'b4e8d573-56ee-4e79-abcd-7b161f93ea17'}, {'id': 593, 'username': 'aaron.wyand@maxar.com', 'accountId': 38, 'activationNumber': 'ACT-9504656', 'accountNumber': 'ACC-038-986', 'accountSapLicenseId': None, 'accountLicensee': 'Maxar', 'accountSoldTo': 'Maxar', 'totalCreditsUsed': 41.1842623539269, 'dailyCreditLimitTotal': -1.0, 'dailyCreditLimitUsed': 0.0, 'userType': 'ACCOUNT_ADMIN', 'clientContextId': 'b4e8d573-56ee-4e79-abcd-7b161f93ea17'}, {'id': 769, 'username': 'abby.evans@maxar.com', 'accountId': 38, 'activationNumber': None, 'accountNumber': 'ACC-038-986', 'accountSapLicenseId': None, 'accountLicensee': 'Maxar', 'accountSoldTo': 'Maxar', 'totalCreditsUsed': 0.0, 'dailyCreditLimitTotal': -1.0, 'dailyCreditLimitUsed': 0.0, 'userType': 'ACCOUNT_ADMIN', 'clientContextId': None}, {'id': 828, 'username': 'achillest81@gmail.com', 'accountId': 503, 'activationNumber': 'ACT-2521551', 'accountNumber': 'ACC-630-757', 'accountSapLicenseId': '0000068095', 'accountLicensee': 'Armed Forces of the Philippines', 'accountSoldTo': 'PDR Technology (Asia) Inc', 'totalCreditsUsed': 0.0, 'dailyCreditLimitTotal': -1.0, 'dailyCreditLimitUsed': 0.0, 'userType': 'ACCOUNT_ADMIN', 'clientContextId': '7b31c61f-fbd3-41ed-8413-1fde8ed6c04e'}, {'id': 828, 'username': 'achillest81@gmail.com', 'accountId': 503, 'activationNumber': 'ACT-4081743', 'accountNumber': 'ACC-630-757', 'accountSapLicenseId': '0000068095', 'accountLicensee': 'Armed Forces of the Philippines', 'accountSoldTo': 'PDR Technology (Asia) Inc', 'totalCreditsUsed': 0.0, 'dailyCreditLimitTotal': -1.0, 'dailyCreditLimitUsed': 0.0, 'userType': 'ACCOUNT_ADMIN', 'clientContextId': 'b4e8d573-56ee-4e79-abcd-7b161f93ea17'}, {'id': 968, 'username': 'acserran3+aa@gmail.com', 'accountId': 188, 'activationNumber': 'ACT-8953046', 'accountNumber': 'ACC-111-261', 'accountSapLicenseId': '', 'accountLicensee': 'Maxar', 'accountSoldTo': 'Maxar', 'totalCreditsUsed': 11.9450653903186, 'dailyCreditLimitTotal': -1.0, 'dailyCreditLimitUsed': 0.0, 'userType': 'ACCOUNT_ADMIN', 'clientContextId': '7b31c61f-fbd3-41ed-8413-1fde8ed6c04e'}, {'id': 968, 'username': 'acserran3+aa@gmail.com', 'accountId': 188, 'activationNumber': 'ACT-8699202', 'accountNumber': 'ACC-111-261', 'accountSapLicenseId': '', 'accountLicensee': 'Maxar', 'accountSoldTo': 'Maxar', 'totalCreditsUsed': 11.9450653903186, 'dailyCreditLimitTotal': -1.0, 'dailyCreditLimitUsed': 0.0, 'userType': 'ACCOUNT_ADMIN', 'clientContextId': 'b4e8d573-56ee-4e79-abcd-7b161f93ea17'}, {'id': 969, 'username': 'acserran3+bu@gmail.com', 'accountId': 188, 'activationNumber': 'ACT-8953046', 'accountNumber': 'ACC-111-261', 'accountSapLicenseId': '', 'accountLicensee': 'Maxar', 'accountSoldTo': 'Maxar', 'totalCreditsUsed': 8.5353990746662, 'dailyCreditLimitTotal': -1.0, 'dailyCreditLimitUsed': 0.0, 'userType': 'BASE_USER', 'clientContextId': '7b31c61f-fbd3-41ed-8413-1fde8ed6c04e'}, {'id': 969, 'username': 'acserran3+bu@gmail.com', 'accountId': 188, 'activationNumber': 'ACT-8699202', 'accountNumber': 'ACC-111-261', 'accountSapLicenseId': '', 'accountLicensee': 'Maxar', 'accountSoldTo': 'Maxar', 'totalCreditsUsed': 8.5353990746662, 'dailyCreditLimitTotal': -1.0, 'dailyCreditLimitUsed': 0.0, 'userType': 'BASE_USER', 'clientContextId': 'b4e8d573-56ee-4e79-abcd-7b161f93ea17'}, {'id': 1114, 'username': 'adam.knight@maxar.com', 'accountId': 2, 'activationNumber': 'ACT-9193673', 'accountNumber': 'ACC-725-858', 'accountSapLicenseId': '', 'accountLicensee': 'Maxar', 'accountSoldTo': 'Maxar', 'totalCreditsUsed': 0.0, 'dailyCreditLimitTotal': -1.0, 'dailyCreditLimitUsed': 0.0, 'userType': 'BASE_USER', 'clientContextId': 'b4e8d573-56ee-4e79-abcd-7b161f93ea17'}, {'id': 848, 'username': 'adavenport@allsourceanalysis.com', 'accountId': 510, 'activationNumber': 'ACT-5078827', 'accountNumber': 'ACC-702-156', 'accountSapLicenseId': '0000046290', 'accountLicensee': 'Allsource Analysis', 'accountSoldTo': 'Allsource Analysis', 'totalCreditsUsed': 0.0, 'dailyCreditLimitTotal': -1.0, 'dailyCreditLimitUsed': 0.0, 'userType': 'ACCOUNT_ADMIN', 'clientContextId': '7b31c61f-fbd3-41ed-8413-1fde8ed6c04e'}, {'id': 848, 'username': 'adavenport@allsourceanalysis.com', 'accountId': 510, 'activationNumber': 'ACT-7558280', 'accountNumber': 'ACC-702-156', 'accountSapLicenseId': '0000046290', 'accountLicensee': 'Allsource Analysis', 'accountSoldTo': 'Allsource Analysis', 'totalCreditsUsed': 0.0, 'dailyCreditLimitTotal': -1.0, 'dailyCreditLimitUsed': 0.0, 'userType': 'ACCOUNT_ADMIN', 'clientContextId': '97159084-4597-4b44-8241-0fef923ea127'}, {'id': 848, 'username': 'adavenport@allsourceanalysis.com', 'accountId': 510, 'activationNumber': 'ACT-9046491', 'accountNumber': 'ACC-702-156', 'accountSapLicenseId': '0000046290', 'accountLicensee': 'Allsource Analysis', 'accountSoldTo': 'Allsource Analysis', 'totalCreditsUsed': 0.0, 'dailyCreditLimitTotal': -1.0, 'dailyCreditLimitUsed': 0.0, 'userType': 'ACCOUNT_ADMIN', 'clientContextId': 'b4e8d573-56ee-4e79-abcd-7b161f93ea17'}, {'id': 786, 'username': 'aimee.drugan@maxar.com', 'accountId': 38, 'activationNumber': 'ACT-1595719', 'accountNumber': 'ACC-038-986', 'accountSapLicenseId': None, 'accountLicensee': 'Maxar', 'accountSoldTo': 'Maxar', 'totalCreditsUsed': 18.6714654294774, 'dailyCreditLimitTotal': -1.0, 'dailyCreditLimitUsed': 0.0, 'userType': 'BASE_USER', 'clientContextId': 'd9bd4ba2-9c44-4c27-be4a-03c525ddcbb4'}, {'id': 1174, 'username': 'akolymparis@plexscape.com', 'accountId': 608, 'activationNumber': 'ACT-2737381', 'accountNumber': 'ACC-177-679', 'accountSapLicenseId': '0000065885', 'accountLicensee': 'Plexscape', 'accountSoldTo': 'Plexscape', 'totalCreditsUsed': 0.0103333322331309, 'dailyCreditLimitTotal': 100.0, 'dailyCreditLimitUsed': 0.0, 'userType': 'BASE_USER', 'clientContextId': 'b4e8d573-56ee-4e79-abcd-7b161f93ea17'}, {'id': 1098, 'username': 'alan.schoen@maxar.com', 'accountId': 2, 'activationNumber': 'ACT-3604182', 'accountNumber': 'ACC-725-858', 'accountSapLicenseId': '', 'accountLicensee': 'Maxar', 'accountSoldTo': 'Maxar', 'totalCreditsUsed': 0.0, 'dailyCreditLimitTotal': -1.0, 'dailyCreditLimitUsed': 0.0, 'userType': 'BASE_USER', 'clientContextId': 'b4e8d573-56ee-4e79-abcd-7b161f93ea17'}, {'id': 1123, 'username': 'alec.rieger@maxar.com', 'accountId': 38, 'activationNumber': 'ACT-6231494', 'accountNumber': 'ACC-038-986', 'accountSapLicenseId': None, 'accountLicensee': 'Maxar', 'accountSoldTo': 'Maxar', 'totalCreditsUsed': 0.0, 'dailyCreditLimitTotal': -1.0, 'dailyCreditLimitUsed': 0.0, 'userType': 'BASE_USER', 'clientContextId': 'b4e8d573-56ee-4e79-abcd-7b161f93ea17'}, {'id': 1058, 'username': 'alejandro.ramirez@maxar.com', 'accountId': 2, 'activationNumber': 'ACT-3604182', 'accountNumber': 'ACC-725-858', 'accountSapLicenseId': '', 'accountLicensee': 'Maxar', 'accountSoldTo': 'Maxar', 'totalCreditsUsed': 5.67146606184542, 'dailyCreditLimitTotal': -1.0, 'dailyCreditLimitUsed': 0.0, 'userType': 'BASE_USER', 'clientContextId': 'b4e8d573-56ee-4e79-abcd-7b161f93ea17'}], 'totalElements': 757}\n"
     ]
    }
   ],
   "source": [
    "my_sorted_users_usage = mgp_usage.get_user_usage(sortBy='username')\n",
    "print(my_sorted_users_usage)"
   ]
  },
  {
   "cell_type": "markdown",
   "id": "6d537ffe",
   "metadata": {},
   "source": [
    "#### Check Usage Overview\n",
    "The following command will detail how to see an overview of the usage used for each product on your activation."
   ]
  },
  {
   "cell_type": "markdown",
   "id": "a262a132",
   "metadata": {},
   "source": [
    "#### Initialize the usage-service class for Maxar Geospatial Platform SDK"
   ]
  },
  {
   "cell_type": "code",
   "execution_count": null,
   "id": "396eb86f",
   "metadata": {},
   "outputs": [],
   "source": [
    "mgp_usage = interface.usage_service"
   ]
  },
  {
   "cell_type": "code",
   "execution_count": null,
   "id": "c4017260",
   "metadata": {},
   "outputs": [],
   "source": [
    "my_usage_overview = mgp_usage.get_usage_overview()\n",
    "print(my_usage_overview)"
   ]
  }
 ],
 "metadata": {
  "kernelspec": {
   "display_name": "Python 3 (ipykernel)",
   "language": "python",
   "name": "python3"
  },
  "language_info": {
   "codemirror_mode": {
    "name": "ipython",
    "version": 3
   },
   "file_extension": ".py",
   "mimetype": "text/x-python",
   "name": "python",
   "nbconvert_exporter": "python",
   "pygments_lexer": "ipython3",
   "version": "3.7.16"
  }
 },
 "nbformat": 4,
 "nbformat_minor": 5
}
