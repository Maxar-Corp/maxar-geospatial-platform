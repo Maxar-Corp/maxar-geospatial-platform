{
 "cells": [
  {
   "cell_type": "markdown",
   "id": "85288769",
   "metadata": {},
   "source": [
    "## Accounts"
   ]
  },
  {
   "cell_type": "markdown",
   "id": "cc363646",
   "metadata": {},
   "source": [
    "#### The following functionality is intended for account administrators and will not work with base user permissions"
   ]
  },
  {
   "cell_type": "markdown",
   "id": "dd8178c3",
   "metadata": {},
   "source": [
    "#### Initialize the Maxar Geospatial Platform SDK Module"
   ]
  },
  {
   "cell_type": "code",
   "execution_count": 1,
   "id": "b20e59e5",
   "metadata": {},
   "outputs": [],
   "source": [
    "from MGP_SDK.interface import Interface\n",
    "\n",
    "try:\n",
    "  interface = Interface() # if .MGP-config was created\n",
    "except:\n",
    "  interface = Interface('<user_name>','<user_password>', '<user_client_id>') # if .MGP-config was not created"
   ]
  },
  {
   "cell_type": "markdown",
   "id": "94a88bfd",
   "metadata": {},
   "source": [
    "#### Initialize the accounts portion of the account-services class for Maxar Portal SDK"
   ]
  },
  {
   "cell_type": "code",
   "execution_count": 2,
   "id": "3d9c3935",
   "metadata": {},
   "outputs": [],
   "source": [
    "admin_mgp = interface.account_service.account_info"
   ]
  },
  {
   "cell_type": "markdown",
   "id": "0059ce84",
   "metadata": {},
   "source": [
    "#### List account information\n",
    "The following command will return dictionary with all of the information for the account that the user is tied to."
   ]
  },
  {
   "cell_type": "code",
   "execution_count": 3,
   "id": "999217d5",
   "metadata": {},
   "outputs": [
    {
     "name": "stdout",
     "output_type": "stream",
     "text": [
      "{'accounts': [{'id': 1, 'accountNumber': 'ACC-024-428', 'name': 'Portal', 'sapLicenseId': '', 'soldTo': 'Maxar', 'licensee': 'Maxar', 'accountType': {'id': 15000, 'name': 'INTERNAL', 'description': 'Internal', 'createDate': '2022-10-29T20:20:26.952+00:00', 'updateDate': '2022-10-29T20:20:26.952+00:00'}, 'isActive': True, 'address': {'id': 2, 'streetAddress1': '1300 W 120th Avenue', 'streetAddress2': '', 'city': 'Westminster', 'country': 'United States', 'state': 'CO', 'postalCode': '80234', 'phone': None, 'createdDate': '2022-10-29T21:33:25.095357Z', 'updatedDate': '2023-05-10T15:27:22.973807Z'}, 'pointsOfContact': None, 'comments': None, 'createdDate': '2022-10-29T21:33:25.101019Z', 'updatedDate': '2023-05-10T15:27:22.978516Z'}, {'id': 2, 'accountNumber': 'ACC-725-858', 'name': 'Maxar Internal - Okta', 'sapLicenseId': '', 'soldTo': 'Maxar', 'licensee': 'Maxar', 'accountType': {'id': 15000, 'name': 'INTERNAL', 'description': 'Internal', 'createDate': '2022-10-29T20:20:26.952+00:00', 'updateDate': '2022-10-29T20:20:26.952+00:00'}, 'isActive': True, 'address': {'id': 3, 'streetAddress1': '1300 W 120th Avenue', 'streetAddress2': '', 'city': 'Westminster', 'country': 'United States', 'state': 'CO', 'postalCode': '80234', 'phone': None, 'createdDate': '2022-10-29T21:33:25.665723Z', 'updatedDate': '2023-05-10T15:27:40.263414Z'}, 'pointsOfContact': None, 'comments': None, 'createdDate': '2022-10-29T21:33:25.666904Z', 'updatedDate': '2023-05-10T15:27:40.266174Z'}, {'id': 38, 'accountNumber': 'ACC-038-986', 'name': 'MGP Pro Internal (Maxar employees only)', 'sapLicenseId': None, 'soldTo': 'Maxar', 'licensee': 'Maxar', 'accountType': {'id': 15000, 'name': 'INTERNAL', 'description': 'Internal', 'createDate': '2022-10-29T20:20:26.952+00:00', 'updateDate': '2022-10-29T20:20:26.952+00:00'}, 'isActive': False, 'address': {'id': 124, 'streetAddress1': None, 'streetAddress2': None, 'city': None, 'country': None, 'state': None, 'postalCode': None, 'phone': None, 'createdDate': '2022-11-07T22:48:14.153897Z', 'updatedDate': '2023-05-10T15:27:55.811533Z'}, 'pointsOfContact': None, 'comments': None, 'createdDate': '2022-11-07T22:48:14.162968Z', 'updatedDate': '2023-05-10T15:27:55.814296Z'}, {'id': 188, 'accountNumber': 'ACC-111-261', 'name': 'QA Test Account - Secure Watch', 'sapLicenseId': '', 'soldTo': 'Maxar', 'licensee': 'Maxar', 'accountType': {'id': 15000, 'name': 'INTERNAL', 'description': 'Internal', 'createDate': '2022-10-29T20:20:26.952+00:00', 'updateDate': '2022-10-29T20:20:26.952+00:00'}, 'isActive': False, 'address': {'id': 579, 'streetAddress1': None, 'streetAddress2': None, 'city': None, 'country': None, 'state': None, 'postalCode': None, 'phone': None, 'createdDate': '2022-11-30T20:21:47.892605Z', 'updatedDate': '2023-05-10T15:28:16.040165Z'}, 'pointsOfContact': None, 'comments': None, 'createdDate': '2022-11-30T20:21:47.893564Z', 'updatedDate': '2023-05-10T15:28:16.042977Z'}, {'id': 281, 'accountNumber': 'ACC-604-272', 'name': 'Discovery', 'sapLicenseId': None, 'soldTo': 'Maxar', 'licensee': 'Maxar', 'accountType': {'id': 15000, 'name': 'INTERNAL', 'description': 'Internal', 'createDate': '2022-10-29T20:20:26.952+00:00', 'updateDate': '2022-10-29T20:20:26.952+00:00'}, 'isActive': False, 'address': {'id': 831, 'streetAddress1': None, 'streetAddress2': None, 'city': None, 'country': 'United States', 'state': None, 'postalCode': None, 'phone': None, 'createdDate': '2022-12-06T21:59:46.200272Z', 'updatedDate': '2023-05-10T15:31:21.14919Z'}, 'pointsOfContact': None, 'comments': None, 'createdDate': '2022-12-06T21:59:46.20264Z', 'updatedDate': '2023-05-10T15:31:21.15287Z'}, {'id': 486, 'accountNumber': 'ACC-615-682', 'name': 'Ordering', 'sapLicenseId': None, 'soldTo': 'Maxar', 'licensee': 'Maxar', 'accountType': {'id': 15000, 'name': 'INTERNAL', 'description': 'Internal', 'createDate': '2022-10-29T20:20:26.952+00:00', 'updateDate': '2022-10-29T20:20:26.952+00:00'}, 'isActive': False, 'address': {'id': 1254, 'streetAddress1': None, 'streetAddress2': None, 'city': None, 'country': None, 'state': None, 'postalCode': None, 'phone': None, 'createdDate': '2023-01-19T21:17:56.25247Z', 'updatedDate': '2023-05-10T15:31:32.6671Z'}, 'pointsOfContact': None, 'comments': None, 'createdDate': '2023-01-19T21:17:56.253764Z', 'updatedDate': '2023-05-10T15:31:32.670684Z'}, {'id': 487, 'accountNumber': 'ACC-939-266', 'name': 'Imstrat', 'sapLicenseId': '0000057157', 'soldTo': 'ImStrat Corp', 'licensee': 'ImStrat Corp', 'accountType': {'id': 15001, 'name': 'REVENUE', 'description': 'Revenue', 'createDate': '2022-10-29T20:20:26.952+00:00', 'updateDate': '2022-10-29T20:20:26.952+00:00'}, 'isActive': False, 'address': {'id': 1256, 'streetAddress1': None, 'streetAddress2': None, 'city': None, 'country': None, 'state': None, 'postalCode': None, 'phone': None, 'createdDate': '2023-01-20T16:05:42.80376Z', 'updatedDate': '2023-02-08T18:58:32.754826Z'}, 'pointsOfContact': None, 'comments': None, 'createdDate': '2023-01-20T16:05:42.806212Z', 'updatedDate': '2023-02-08T18:58:32.81986Z'}, {'id': 488, 'accountNumber': 'ACC-220-278', 'name': \"Crow's Nest\", 'sapLicenseId': None, 'soldTo': 'Maxar', 'licensee': 'Maxar', 'accountType': {'id': 15000, 'name': 'INTERNAL', 'description': 'Internal', 'createDate': '2022-10-29T20:20:26.952+00:00', 'updateDate': '2022-10-29T20:20:26.952+00:00'}, 'isActive': False, 'address': {'id': 1278, 'streetAddress1': None, 'streetAddress2': None, 'city': None, 'country': None, 'state': None, 'postalCode': None, 'phone': None, 'createdDate': '2023-02-01T21:27:29.493824Z', 'updatedDate': '2023-05-10T15:31:53.275606Z'}, 'pointsOfContact': None, 'comments': None, 'createdDate': '2023-02-01T21:27:29.528095Z', 'updatedDate': '2023-05-10T15:31:53.318571Z'}, {'id': 489, 'accountNumber': 'ACC-369-676', 'name': 'Crows Nest Internal', 'sapLicenseId': None, 'soldTo': 'Maxar', 'licensee': 'Maxar', 'accountType': {'id': 15000, 'name': 'INTERNAL', 'description': 'Internal', 'createDate': '2022-10-29T20:20:26.952+00:00', 'updateDate': '2022-10-29T20:20:26.952+00:00'}, 'isActive': False, 'address': {'id': 1288, 'streetAddress1': '1300 W 120th Ave', 'streetAddress2': None, 'city': 'Westminster', 'country': 'United States', 'state': 'Colorado', 'postalCode': '80234', 'phone': None, 'createdDate': '2023-02-02T17:00:43.068697Z', 'updatedDate': '2023-05-10T15:32:04.586913Z'}, 'pointsOfContact': None, 'comments': None, 'createdDate': '2023-02-02T17:00:43.07092Z', 'updatedDate': '2023-05-10T15:32:04.590216Z'}, {'id': 491, 'accountNumber': 'ACC-154-776', 'name': 'Hatfield Consultants Africa Pty Ltd', 'sapLicenseId': '0000055280', 'soldTo': 'Hatfield Consultants Africa Pty Ltd', 'licensee': 'Hatfield Consultants Africa Pty Ltd', 'accountType': {'id': 15001, 'name': 'REVENUE', 'description': 'Revenue', 'createDate': '2022-10-29T20:20:26.952+00:00', 'updateDate': '2022-10-29T20:20:26.952+00:00'}, 'isActive': False, 'address': {'id': 1333, 'streetAddress1': None, 'streetAddress2': None, 'city': None, 'country': None, 'state': None, 'postalCode': None, 'phone': None, 'createdDate': '2023-02-13T00:12:07.1039Z', 'updatedDate': '2023-05-10T18:33:12.44597Z'}, 'pointsOfContact': None, 'comments': None, 'createdDate': '2023-02-13T00:12:07.177623Z', 'updatedDate': '2023-05-10T18:33:12.450408Z'}, {'id': 493, 'accountNumber': 'ACC-342-033', 'name': 'Pipelines', 'sapLicenseId': None, 'soldTo': 'Maxar', 'licensee': 'Maxar', 'accountType': {'id': 15000, 'name': 'INTERNAL', 'description': 'Internal', 'createDate': '2022-10-29T20:20:26.952+00:00', 'updateDate': '2022-10-29T20:20:26.952+00:00'}, 'isActive': False, 'address': {'id': 1340, 'streetAddress1': None, 'streetAddress2': None, 'city': None, 'country': None, 'state': None, 'postalCode': None, 'phone': None, 'createdDate': '2023-02-14T17:55:38.276704Z', 'updatedDate': '2023-05-10T16:13:25.459054Z'}, 'pointsOfContact': None, 'comments': None, 'createdDate': '2023-02-14T17:55:38.280875Z', 'updatedDate': '2023-05-10T16:13:25.462777Z'}, {'id': 495, 'accountNumber': 'ACC-397-454', 'name': 'Cape Analytics, Inc', 'sapLicenseId': '0000050141', 'soldTo': 'Cape Analytics, Inc', 'licensee': 'Cape Analytics, Inc', 'accountType': {'id': 15001, 'name': 'REVENUE', 'description': 'Revenue', 'createDate': '2022-10-29T20:20:26.952+00:00', 'updateDate': '2022-10-29T20:20:26.952+00:00'}, 'isActive': False, 'address': {'id': 1347, 'streetAddress1': '411 High St', 'streetAddress2': None, 'city': 'Palo Alto', 'country': 'United States', 'state': 'CA', 'postalCode': '94301', 'phone': None, 'createdDate': '2023-02-15T19:47:49.991145Z', 'updatedDate': '2023-05-10T18:34:20.895155Z'}, 'pointsOfContact': None, 'comments': None, 'createdDate': '2023-02-15T19:47:50.006197Z', 'updatedDate': '2023-05-10T18:34:20.89874Z'}, {'id': 502, 'accountNumber': 'ACC-936-454', 'name': 'QA Test Account - Credit Limit ', 'sapLicenseId': None, 'soldTo': 'Maxar', 'licensee': 'Maxar', 'accountType': {'id': 15000, 'name': 'INTERNAL', 'description': 'Internal', 'createDate': '2022-10-29T20:20:26.952+00:00', 'updateDate': '2022-10-29T20:20:26.952+00:00'}, 'isActive': False, 'address': {'id': 1424, 'streetAddress1': None, 'streetAddress2': None, 'city': None, 'country': None, 'state': None, 'postalCode': None, 'phone': None, 'createdDate': '2023-03-10T23:32:30.339379Z', 'updatedDate': '2023-05-10T19:23:42.896778Z'}, 'pointsOfContact': None, 'comments': None, 'createdDate': '2023-03-10T23:32:30.629386Z', 'updatedDate': '2023-05-10T19:23:42.899914Z'}, {'id': 503, 'accountNumber': 'ACC-630-757', 'name': 'Armed Forces of the Philippines', 'sapLicenseId': '0000068095', 'soldTo': 'PDR Technology (Asia) Inc', 'licensee': 'Armed Forces of the Philippines', 'accountType': {'id': 15001, 'name': 'REVENUE', 'description': 'Revenue', 'createDate': '2022-10-29T20:20:26.952+00:00', 'updateDate': '2022-10-29T20:20:26.952+00:00'}, 'isActive': False, 'address': {'id': 1428, 'streetAddress1': None, 'streetAddress2': None, 'city': None, 'country': None, 'state': None, 'postalCode': None, 'phone': None, 'createdDate': '2023-03-13T18:49:59.48843Z', 'updatedDate': '2023-05-10T18:39:00.1084Z'}, 'pointsOfContact': None, 'comments': None, 'createdDate': '2023-03-13T18:49:59.491065Z', 'updatedDate': '2023-05-10T18:39:00.111597Z'}, {'id': 509, 'accountNumber': 'ACC-741-507', 'name': \"Jane's Group UK Limited\", 'sapLicenseId': '0000065944', 'soldTo': \"Jane's Group UK Limited\", 'licensee': \"Jane's Group UK Limited\", 'accountType': {'id': 15001, 'name': 'REVENUE', 'description': 'Revenue', 'createDate': '2022-10-29T20:20:26.952+00:00', 'updateDate': '2022-10-29T20:20:26.952+00:00'}, 'isActive': False, 'address': {'id': 1452, 'streetAddress1': None, 'streetAddress2': None, 'city': None, 'country': None, 'state': None, 'postalCode': None, 'phone': None, 'createdDate': '2023-03-17T17:23:51.152148Z', 'updatedDate': '2023-05-10T18:36:04.817577Z'}, 'pointsOfContact': None, 'comments': None, 'createdDate': '2023-03-17T17:23:51.158514Z', 'updatedDate': '2023-05-10T18:36:04.821597Z'}, {'id': 510, 'accountNumber': 'ACC-702-156', 'name': 'Allsource Analysis', 'sapLicenseId': '0000046290', 'soldTo': 'Allsource Analysis', 'licensee': 'Allsource Analysis', 'accountType': {'id': 15001, 'name': 'REVENUE', 'description': 'Revenue', 'createDate': '2022-10-29T20:20:26.952+00:00', 'updateDate': '2022-10-29T20:20:26.952+00:00'}, 'isActive': False, 'address': {'id': 1456, 'streetAddress1': None, 'streetAddress2': None, 'city': None, 'country': None, 'state': None, 'postalCode': None, 'phone': None, 'createdDate': '2023-03-17T20:03:04.611234Z', 'updatedDate': '2023-05-10T18:37:40.747402Z'}, 'pointsOfContact': None, 'comments': None, 'createdDate': '2023-03-17T20:03:04.617965Z', 'updatedDate': '2023-05-10T18:37:40.750748Z'}, {'id': 512, 'accountNumber': 'ACC-881-421', 'name': 'GEGD Testing', 'sapLicenseId': None, 'soldTo': 'Maxar', 'licensee': 'Maxar', 'accountType': {'id': 15000, 'name': 'INTERNAL', 'description': 'Internal', 'createDate': '2022-10-29T20:20:26.952+00:00', 'updateDate': '2022-10-29T20:20:26.952+00:00'}, 'isActive': False, 'address': {'id': 1476, 'streetAddress1': None, 'streetAddress2': None, 'city': None, 'country': 'United States', 'state': None, 'postalCode': None, 'phone': None, 'createdDate': '2023-03-28T20:08:58.258306Z', 'updatedDate': '2023-05-12T14:52:28.017465Z'}, 'pointsOfContact': None, 'comments': None, 'createdDate': '2023-03-28T20:08:58.259154Z', 'updatedDate': '2023-05-12T14:52:28.022861Z'}, {'id': 545, 'accountNumber': 'ACC-657-850', 'name': 'Marianas Testing Jake', 'sapLicenseId': None, 'soldTo': 'Maxar', 'licensee': 'Maxar', 'accountType': {'id': 15000, 'name': 'INTERNAL', 'description': 'Internal', 'createDate': '2022-10-29T20:20:26.952+00:00', 'updateDate': '2022-10-29T20:20:26.952+00:00'}, 'isActive': False, 'address': {'id': 1552, 'streetAddress1': None, 'streetAddress2': None, 'city': None, 'country': None, 'state': None, 'postalCode': None, 'phone': None, 'createdDate': '2023-04-04T21:56:02.724355Z', 'updatedDate': '2023-05-10T16:13:52.212492Z'}, 'pointsOfContact': None, 'comments': None, 'createdDate': '2023-04-04T21:56:02.726241Z', 'updatedDate': '2023-05-10T16:13:52.216064Z'}, {'id': 600, 'accountNumber': 'ACC-755-023', 'name': 'PikeTest', 'sapLicenseId': None, 'soldTo': None, 'licensee': None, 'accountType': {'id': 15000, 'name': 'INTERNAL', 'description': 'Internal', 'createDate': '2022-10-29T20:20:26.952+00:00', 'updateDate': '2022-10-29T20:20:26.952+00:00'}, 'isActive': False, 'address': {'id': 1673, 'streetAddress1': '', 'streetAddress2': None, 'city': None, 'country': None, 'state': None, 'postalCode': None, 'phone': None, 'createdDate': '2023-04-13T22:24:04.32192Z', 'updatedDate': '2023-05-10T19:19:25.672771Z'}, 'pointsOfContact': None, 'comments': None, 'createdDate': '2023-04-13T22:24:04.324161Z', 'updatedDate': '2023-05-10T19:19:25.676667Z'}, {'id': 601, 'accountNumber': 'ACC-470-924', 'name': 'Aechelon Technology Inc', 'sapLicenseId': '0000023750', 'soldTo': 'Aechelon Technology Inc', 'licensee': 'Aechelon Technology Inc', 'accountType': {'id': 15001, 'name': 'REVENUE', 'description': 'Revenue', 'createDate': '2022-10-29T20:20:26.952+00:00', 'updateDate': '2022-10-29T20:20:26.952+00:00'}, 'isActive': False, 'address': {'id': 1693, 'streetAddress1': None, 'streetAddress2': None, 'city': None, 'country': None, 'state': None, 'postalCode': None, 'phone': None, 'createdDate': '2023-04-14T15:53:23.160611Z', 'updatedDate': '2023-05-10T15:38:52.052002Z'}, 'pointsOfContact': None, 'comments': None, 'createdDate': '2023-04-14T15:53:23.162825Z', 'updatedDate': '2023-05-10T15:38:52.056767Z'}], 'totalElements': 35}\n"
     ]
    }
   ],
   "source": [
    "my_account = admin_mgp.get_accounts()\n",
    "print(my_account)"
   ]
  },
  {
   "cell_type": "markdown",
   "id": "5faf0bcd",
   "metadata": {},
   "source": [
    "If the user knows their specific account id or account name, those values can be passed into the get_accounts function for more detailed information."
   ]
  },
  {
   "cell_type": "code",
   "execution_count": 4,
   "id": "1ba6d17b",
   "metadata": {},
   "outputs": [
    {
     "name": "stdout",
     "output_type": "stream",
     "text": [
      "{'id': 2, 'accountNumber': 'ACC-725-858', 'name': 'Maxar Internal - Okta', 'sapLicenseId': '', 'soldTo': 'Maxar', 'licensee': 'Maxar', 'accountType': {'id': 15000, 'name': 'INTERNAL', 'description': 'Internal', 'createDate': '2022-10-29T20:20:26.952+00:00', 'updateDate': '2022-10-29T20:20:26.952+00:00'}, 'isActive': True, 'address': {'id': 3, 'streetAddress1': '1300 W 120th Avenue', 'streetAddress2': '', 'city': 'Westminster', 'country': 'United States', 'state': 'CO', 'postalCode': '80234', 'phone': None, 'createdDate': '2022-10-29T21:33:25.665723Z', 'updatedDate': '2023-05-10T15:27:40.263414Z'}, 'pointsOfContact': [{'id': 2, 'firstName': 'Maxar Internal', 'lastName': 'Okta', 'emailAddress': 'portal-internal-account@maxar.com', 'country': 'United States', 'phone': '+13676389667', 'createdDate': '2022-10-29T21:33:25.975216Z', 'updatedDate': '2023-05-10T15:27:40.267285Z'}], 'comments': [], 'createdDate': '2022-10-29T21:33:25.666904Z', 'updatedDate': '2023-05-10T15:27:40.266174Z'}\n"
     ]
    }
   ],
   "source": [
    "my_account = admin_mgp.get_accounts(account_id=2)\n",
    "print(my_account)"
   ]
  },
  {
   "cell_type": "code",
   "execution_count": null,
   "id": "df3a3b92",
   "metadata": {},
   "outputs": [],
   "source": []
  }
 ],
 "metadata": {
  "kernelspec": {
   "display_name": "Python 3 (ipykernel)",
   "language": "python",
   "name": "python3"
  },
  "language_info": {
   "codemirror_mode": {
    "name": "ipython",
    "version": 3
   },
   "file_extension": ".py",
   "mimetype": "text/x-python",
   "name": "python",
   "nbconvert_exporter": "python",
   "pygments_lexer": "ipython3",
   "version": "3.7.16"
  }
 },
 "nbformat": 4,
 "nbformat_minor": 5
}
