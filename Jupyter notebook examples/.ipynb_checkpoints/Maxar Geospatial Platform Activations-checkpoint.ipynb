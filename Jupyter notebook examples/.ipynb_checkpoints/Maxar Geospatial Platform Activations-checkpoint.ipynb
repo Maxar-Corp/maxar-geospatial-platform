{
 "cells": [
  {
   "cell_type": "markdown",
   "id": "88a37820",
   "metadata": {},
   "source": [
    "## Activations"
   ]
  },
  {
   "cell_type": "markdown",
   "id": "d940d5bf",
   "metadata": {},
   "source": [
    "#### The following functionality is intended for account administrators and will not work with base user permissions"
   ]
  },
  {
   "cell_type": "markdown",
   "id": "199eeb46",
   "metadata": {},
   "source": [
    "#### Initialize the Maxar Geospatial Platform SDK Module"
   ]
  },
  {
   "cell_type": "code",
   "execution_count": 1,
   "id": "8671b525",
   "metadata": {},
   "outputs": [],
   "source": [
    "from MGP_SDK.interface import Interface\n",
    "\n",
    "try:\n",
    "  interface = Interface() # if .MGP-config was created\n",
    "except:\n",
    "  interface = Interface('<user_name>','<user_password>', '<user_client_id>') # if .MGP-config was not created"
   ]
  },
  {
   "cell_type": "markdown",
   "id": "ae630830",
   "metadata": {},
   "source": [
    "#### Initialize the activations portion of the account-services class for Maxar Portal SDK"
   ]
  },
  {
   "cell_type": "code",
   "execution_count": 2,
   "id": "a30ad945",
   "metadata": {},
   "outputs": [],
   "source": [
    "admin_mgp = interface.account_service.activations"
   ]
  },
  {
   "cell_type": "markdown",
   "id": "1e9437cf",
   "metadata": {},
   "source": [
    "#### List all activations within an account\n",
    "The following command will return a dictionary with all of the information of the activation or activations that are tied to the user's account"
   ]
  },
  {
   "cell_type": "code",
   "execution_count": 3,
   "id": "6ba050ca",
   "metadata": {},
   "outputs": [
    {
     "name": "stdout",
     "output_type": "stream",
     "text": [
      "{'activations': [{'id': 1, 'activationNumber': 'ACT-3303231', 'sapContractIdentifier': '1234567890', 'sapLineItem': '999999', 'startDate': '2022-01-01T00:00:00.000+00:00', 'endDate': None, 'creditLimit': -1.0, 'totalCreditsUsed': 2118.69024944585, 'creditsUsedPercentage': -1.0, 'numberOfUsers': 23, 'totalUsers': None, 'accountTotalUsers': None, 'accountName': 'Portal', 'accountNumber': 'ACC-024-428', 'accountSapLicenseId': '', 'accountLicensee': 'Maxar', 'accountSoldTo': 'Maxar', 'userLimit': -1, 'dailyCreditLimitTotal': -1, 'dailyCreditLimitUsed': 0.0, 'clientContextId': 'd9bd4ba2-9c44-4c27-be4a-03c525ddcbb4'}, {'id': 2, 'activationNumber': 'ACT-4539529', 'sapContractIdentifier': '1234567890', 'sapLineItem': '999999', 'startDate': '2022-01-01T00:00:00.000+00:00', 'endDate': None, 'creditLimit': -1.0, 'totalCreditsUsed': 16227.2918453384, 'creditsUsedPercentage': -1.0, 'numberOfUsers': 32, 'totalUsers': None, 'accountTotalUsers': None, 'accountName': 'Maxar Internal - Okta', 'accountNumber': 'ACC-725-858', 'accountSapLicenseId': '', 'accountLicensee': 'Maxar', 'accountSoldTo': 'Maxar', 'userLimit': -1, 'dailyCreditLimitTotal': -1, 'dailyCreditLimitUsed': 0.0, 'clientContextId': '37ab1268-5708-4027-9f28-1398d576df88'}, {'id': 147, 'activationNumber': 'ACT-3428888', 'sapContractIdentifier': '1234567890', 'sapLineItem': '999999', 'startDate': '2022-11-30T00:00:00.000+00:00', 'endDate': '2023-11-30T00:00:00.000+00:00', 'creditLimit': -1.0, 'totalCreditsUsed': 2.1447998508811, 'creditsUsedPercentage': -1.0, 'numberOfUsers': 7, 'totalUsers': None, 'accountTotalUsers': None, 'accountName': 'Maxar Internal - Okta', 'accountNumber': 'ACC-725-858', 'accountSapLicenseId': '', 'accountLicensee': 'Maxar', 'accountSoldTo': 'Maxar', 'userLimit': -1, 'dailyCreditLimitTotal': -1, 'dailyCreditLimitUsed': 0.0, 'clientContextId': '37ab1268-5708-4027-9f28-1398d576df88'}, {'id': 151, 'activationNumber': 'ACT-8953046', 'sapContractIdentifier': None, 'sapLineItem': None, 'startDate': '2022-11-29T00:00:00.000+00:00', 'endDate': None, 'creditLimit': -1.0, 'totalCreditsUsed': 33120.7790724437, 'creditsUsedPercentage': -1.0, 'numberOfUsers': 13, 'totalUsers': None, 'accountTotalUsers': None, 'accountName': 'QA Test Account - Secure Watch', 'accountNumber': 'ACC-111-261', 'accountSapLicenseId': '', 'accountLicensee': 'Maxar', 'accountSoldTo': 'Maxar', 'userLimit': -1, 'dailyCreditLimitTotal': -1, 'dailyCreditLimitUsed': 0.0, 'clientContextId': '7b31c61f-fbd3-41ed-8413-1fde8ed6c04e'}, {'id': 347, 'activationNumber': 'ACT-3506768', 'sapContractIdentifier': None, 'sapLineItem': None, 'startDate': '2023-01-01T00:00:00.000+00:00', 'endDate': '2023-12-31T00:00:00.000+00:00', 'creditLimit': -1.0, 'totalCreditsUsed': 0.0, 'creditsUsedPercentage': -1.0, 'numberOfUsers': 0, 'totalUsers': None, 'accountTotalUsers': None, 'accountName': 'Ordering', 'accountNumber': 'ACC-615-682', 'accountSapLicenseId': None, 'accountLicensee': 'Maxar', 'accountSoldTo': 'Maxar', 'userLimit': -1, 'dailyCreditLimitTotal': -1, 'dailyCreditLimitUsed': 0.0, 'clientContextId': None}, {'id': 348, 'activationNumber': 'ACT-3754042', 'sapContractIdentifier': None, 'sapLineItem': None, 'startDate': '2023-01-23T00:00:00.000+00:00', 'endDate': '2023-12-31T00:00:00.000+00:00', 'creditLimit': -1.0, 'totalCreditsUsed': 0.0, 'creditsUsedPercentage': -1.0, 'numberOfUsers': 1, 'totalUsers': None, 'accountTotalUsers': None, 'accountName': 'Discovery', 'accountNumber': 'ACC-604-272', 'accountSapLicenseId': None, 'accountLicensee': 'Maxar', 'accountSoldTo': 'Maxar', 'userLimit': -1, 'dailyCreditLimitTotal': -1, 'dailyCreditLimitUsed': 0.0, 'clientContextId': 'd9bd4ba2-9c44-4c27-be4a-03c525ddcbb4'}, {'id': 351, 'activationNumber': 'ACT-4836002', 'sapContractIdentifier': None, 'sapLineItem': None, 'startDate': '2023-02-01T00:00:00.000+00:00', 'endDate': None, 'creditLimit': -1.0, 'totalCreditsUsed': 0.0, 'creditsUsedPercentage': -1.0, 'numberOfUsers': 0, 'totalUsers': None, 'accountTotalUsers': None, 'accountName': \"Crow's Nest\", 'accountNumber': 'ACC-220-278', 'accountSapLicenseId': None, 'accountLicensee': 'Maxar', 'accountSoldTo': 'Maxar', 'userLimit': -1, 'dailyCreditLimitTotal': -1, 'dailyCreditLimitUsed': 0.0, 'clientContextId': None}, {'id': 352, 'activationNumber': 'ACT-2165106', 'sapContractIdentifier': None, 'sapLineItem': None, 'startDate': '2023-02-07T00:00:00.000+00:00', 'endDate': '2030-01-31T00:00:00.000+00:00', 'creditLimit': -1.0, 'totalCreditsUsed': 0.0, 'creditsUsedPercentage': -1.0, 'numberOfUsers': 13, 'totalUsers': None, 'accountTotalUsers': None, 'accountName': 'Ordering', 'accountNumber': 'ACC-615-682', 'accountSapLicenseId': None, 'accountLicensee': 'Maxar', 'accountSoldTo': 'Maxar', 'userLimit': -1, 'dailyCreditLimitTotal': -1, 'dailyCreditLimitUsed': 0.0, 'clientContextId': 'd9bd4ba2-9c44-4c27-be4a-03c525ddcbb4'}, {'id': 357, 'activationNumber': 'ACT-8436878', 'sapContractIdentifier': None, 'sapLineItem': None, 'startDate': '2023-02-13T00:00:00.000+00:00', 'endDate': None, 'creditLimit': -1.0, 'totalCreditsUsed': 0.0, 'creditsUsedPercentage': -1.0, 'numberOfUsers': 2, 'totalUsers': None, 'accountTotalUsers': None, 'accountName': 'Pipelines', 'accountNumber': 'ACC-342-033', 'accountSapLicenseId': None, 'accountLicensee': 'Maxar', 'accountSoldTo': 'Maxar', 'userLimit': -1, 'dailyCreditLimitTotal': -1, 'dailyCreditLimitUsed': 0.0, 'clientContextId': 'd9bd4ba2-9c44-4c27-be4a-03c525ddcbb4'}, {'id': 362, 'activationNumber': 'ACT-0079589', 'sapContractIdentifier': None, 'sapLineItem': None, 'startDate': '2023-03-09T00:00:00.000+00:00', 'endDate': None, 'creditLimit': 1.0, 'totalCreditsUsed': 0.0, 'creditsUsedPercentage': 0.0, 'numberOfUsers': 0, 'totalUsers': None, 'accountTotalUsers': None, 'accountName': 'QA Test Account - Credit Limit ', 'accountNumber': 'ACC-936-454', 'accountSapLicenseId': None, 'accountLicensee': 'Maxar', 'accountSoldTo': 'Maxar', 'userLimit': 1, 'dailyCreditLimitTotal': 1, 'dailyCreditLimitUsed': 0.0, 'clientContextId': '7b31c61f-fbd3-41ed-8413-1fde8ed6c04e'}, {'id': 363, 'activationNumber': 'ACT-2521551', 'sapContractIdentifier': None, 'sapLineItem': None, 'startDate': '2023-03-13T00:00:00.000+00:00', 'endDate': '2023-05-13T00:00:00.000+00:00', 'creditLimit': 2000.0, 'totalCreditsUsed': 158.833789785393, 'creditsUsedPercentage': 0.0794168948926965, 'numberOfUsers': 7, 'totalUsers': None, 'accountTotalUsers': None, 'accountName': 'Armed Forces of the Philippines', 'accountNumber': 'ACC-630-757', 'accountSapLicenseId': '0000068095', 'accountLicensee': 'Armed Forces of the Philippines', 'accountSoldTo': 'PDR Technology (Asia) Inc', 'userLimit': -1, 'dailyCreditLimitTotal': -1, 'dailyCreditLimitUsed': 0.0, 'clientContextId': '7b31c61f-fbd3-41ed-8413-1fde8ed6c04e'}, {'id': 372, 'activationNumber': 'ACT-7399986', 'sapContractIdentifier': None, 'sapLineItem': None, 'startDate': '2023-03-17T00:00:00.000+00:00', 'endDate': '2023-05-17T00:00:00.000+00:00', 'creditLimit': 2000.0, 'totalCreditsUsed': 155.307916802354, 'creditsUsedPercentage': 0.077653958401177, 'numberOfUsers': 1, 'totalUsers': None, 'accountTotalUsers': None, 'accountName': \"Jane's Group UK Limited\", 'accountNumber': 'ACC-741-507', 'accountSapLicenseId': '0000065944', 'accountLicensee': \"Jane's Group UK Limited\", 'accountSoldTo': \"Jane's Group UK Limited\", 'userLimit': -1, 'dailyCreditLimitTotal': -1, 'dailyCreditLimitUsed': 0.0, 'clientContextId': '7b31c61f-fbd3-41ed-8413-1fde8ed6c04e'}, {'id': 373, 'activationNumber': 'ACT-5078827', 'sapContractIdentifier': None, 'sapLineItem': None, 'startDate': '2023-03-17T00:00:00.000+00:00', 'endDate': '2023-05-17T00:00:00.000+00:00', 'creditLimit': 2000.0, 'totalCreditsUsed': 834.81734858267, 'creditsUsedPercentage': 0.417408674291335, 'numberOfUsers': 7, 'totalUsers': None, 'accountTotalUsers': None, 'accountName': 'Allsource Analysis', 'accountNumber': 'ACC-702-156', 'accountSapLicenseId': '0000046290', 'accountLicensee': 'Allsource Analysis', 'accountSoldTo': 'Allsource Analysis', 'userLimit': -1, 'dailyCreditLimitTotal': -1, 'dailyCreditLimitUsed': 0.0, 'clientContextId': '7b31c61f-fbd3-41ed-8413-1fde8ed6c04e'}, {'id': 377, 'activationNumber': 'ACT-3993052', 'sapContractIdentifier': None, 'sapLineItem': None, 'startDate': '2023-03-01T00:00:00.000+00:00', 'endDate': None, 'creditLimit': -1.0, 'totalCreditsUsed': 0.0, 'creditsUsedPercentage': -1.0, 'numberOfUsers': 3, 'totalUsers': None, 'accountTotalUsers': None, 'accountName': 'GEGD Testing', 'accountNumber': 'ACC-881-421', 'accountSapLicenseId': None, 'accountLicensee': 'Maxar', 'accountSoldTo': 'Maxar', 'userLimit': -1, 'dailyCreditLimitTotal': -1, 'dailyCreditLimitUsed': 0.0, 'clientContextId': '37ab1268-5708-4027-9f28-1398d576df88'}, {'id': 396, 'activationNumber': 'ACT-4100655', 'sapContractIdentifier': '1234567890', 'sapLineItem': '999999', 'startDate': '2022-01-01T00:00:00.000+00:00', 'endDate': None, 'creditLimit': -1.0, 'totalCreditsUsed': 59795.4017798132, 'creditsUsedPercentage': -1.0, 'numberOfUsers': 9, 'totalUsers': None, 'accountTotalUsers': None, 'accountName': 'Maxar Internal - Okta', 'accountNumber': 'ACC-725-858', 'accountSapLicenseId': '', 'accountLicensee': 'Maxar', 'accountSoldTo': 'Maxar', 'userLimit': -1, 'dailyCreditLimitTotal': -1, 'dailyCreditLimitUsed': 0.0, 'clientContextId': '6ee64d91-125c-4022-b99d-97f797ce108d'}, {'id': 397, 'activationNumber': 'ACT-0838371', 'sapContractIdentifier': '1234567890', 'sapLineItem': '999999', 'startDate': '2022-01-01T00:00:00.000+00:00', 'endDate': None, 'creditLimit': -1.0, 'totalCreditsUsed': 0.0, 'creditsUsedPercentage': -1.0, 'numberOfUsers': 26, 'totalUsers': None, 'accountTotalUsers': None, 'accountName': 'Maxar Internal - Okta', 'accountNumber': 'ACC-725-858', 'accountSapLicenseId': '', 'accountLicensee': 'Maxar', 'accountSoldTo': 'Maxar', 'userLimit': -1, 'dailyCreditLimitTotal': -1, 'dailyCreditLimitUsed': 0.0, 'clientContextId': 'd9bd4ba2-9c44-4c27-be4a-03c525ddcbb4'}, {'id': 398, 'activationNumber': 'ACT-8677619', 'sapContractIdentifier': '1234567890', 'sapLineItem': '999999', 'startDate': '2022-01-01T00:00:00.000+00:00', 'endDate': None, 'creditLimit': -1.0, 'totalCreditsUsed': 59795.4017798132, 'creditsUsedPercentage': -1.0, 'numberOfUsers': 3, 'totalUsers': None, 'accountTotalUsers': None, 'accountName': 'Maxar Internal - Okta', 'accountNumber': 'ACC-725-858', 'accountSapLicenseId': '', 'accountLicensee': 'Maxar', 'accountSoldTo': 'Maxar', 'userLimit': -1, 'dailyCreditLimitTotal': -1, 'dailyCreditLimitUsed': 0.0, 'clientContextId': '97159084-4597-4b44-8241-0fef923ea127'}, {'id': 399, 'activationNumber': 'ACT-6748837', 'sapContractIdentifier': '1234567890', 'sapLineItem': '999999', 'startDate': '2022-01-01T00:00:00.000+00:00', 'endDate': None, 'creditLimit': -1.0, 'totalCreditsUsed': 2118.69024944585, 'creditsUsedPercentage': -1.0, 'numberOfUsers': 23, 'totalUsers': None, 'accountTotalUsers': None, 'accountName': 'Portal', 'accountNumber': 'ACC-024-428', 'accountSapLicenseId': '', 'accountLicensee': 'Maxar', 'accountSoldTo': 'Maxar', 'userLimit': -1, 'dailyCreditLimitTotal': -1, 'dailyCreditLimitUsed': 0.0, 'clientContextId': '37ab1268-5708-4027-9f28-1398d576df88'}, {'id': 400, 'activationNumber': 'ACT-3802618', 'sapContractIdentifier': '1234567890', 'sapLineItem': '999999', 'startDate': '2022-01-01T00:00:00.000+00:00', 'endDate': None, 'creditLimit': -1.0, 'totalCreditsUsed': 2118.69024944585, 'creditsUsedPercentage': -1.0, 'numberOfUsers': 12, 'totalUsers': None, 'accountTotalUsers': None, 'accountName': 'Portal', 'accountNumber': 'ACC-024-428', 'accountSapLicenseId': '', 'accountLicensee': 'Maxar', 'accountSoldTo': 'Maxar', 'userLimit': -1, 'dailyCreditLimitTotal': -1, 'dailyCreditLimitUsed': 0.0, 'clientContextId': '7b31c61f-fbd3-41ed-8413-1fde8ed6c04e'}, {'id': 401, 'activationNumber': 'ACT-8921730', 'sapContractIdentifier': '1234567890', 'sapLineItem': '999999', 'startDate': '2022-01-01T00:00:00.000+00:00', 'endDate': None, 'creditLimit': -1.0, 'totalCreditsUsed': 2118.69024944585, 'creditsUsedPercentage': -1.0, 'numberOfUsers': 1, 'totalUsers': None, 'accountTotalUsers': None, 'accountName': 'Portal', 'accountNumber': 'ACC-024-428', 'accountSapLicenseId': '', 'accountLicensee': 'Maxar', 'accountSoldTo': 'Maxar', 'userLimit': -1, 'dailyCreditLimitTotal': -1, 'dailyCreditLimitUsed': 0.0, 'clientContextId': '6ee64d91-125c-4022-b99d-97f797ce108d'}], 'totalElements': 134}\n"
     ]
    }
   ],
   "source": [
    "my_activation = admin_mgp.get_activations()\n",
    "print(my_activation)"
   ]
  },
  {
   "cell_type": "markdown",
   "id": "56ce96f2",
   "metadata": {},
   "source": [
    "If the user knows their specific activation_id or activation_number, that can be passed into the get_activations function to return the information on that specific activation. NOTE: The activation id is not the activation number. The activation id is the identifier within the database."
   ]
  },
  {
   "cell_type": "code",
   "execution_count": 4,
   "id": "5c24c4e0",
   "metadata": {},
   "outputs": [
    {
     "name": "stdout",
     "output_type": "stream",
     "text": [
      "{'id': 2, 'activationNumber': 'ACT-4539529', 'accountId': 2, 'name': 'Maxar Internal - Okta', 'creatorName': 'SYSTEM', 'startDate': '2022-01-01T00:00:00.000+00:00', 'endDate': None, 'activationType': {'id': 15004, 'name': 'EDUCATION', 'description': 'Education', 'createDate': '2022-10-29T20:20:26.986+00:00', 'updateDate': '2022-10-29T20:20:26.986+00:00'}, 'notes': None, 'sapContractIdentifier': '1234567890', 'sapLineItem': '999999', 'isActive': True, 'createdDate': '2022-10-29T21:33:35.885309Z', 'updatedDate': '2023-03-29T20:12:39.6476Z', 'roles': None, 'purchasedRoles': None, 'creditLimit': -1, 'rateTableId': 1, 'totalCreditsUsed': 16227.2918453384, 'creditsUsedPercentage': -1.0, 'imageryHoldbackValue': 0, 'userLimit': -1, 'dailyCreditLimitTotal': -1, 'dailyCreditLimitUsed': 0.0, 'clientContextId': '37ab1268-5708-4027-9f28-1398d576df88'}\n"
     ]
    }
   ],
   "source": [
    "my_activation = admin_mgp.get_activations(2)\n",
    "print(my_activation)"
   ]
  },
  {
   "cell_type": "markdown",
   "id": "f682d10c",
   "metadata": {},
   "source": [
    "#### Searching activations\n",
    "In some cases there may be multiple activations tied to an account. In this example, a user can see how to search through activations with vague search terms in order to narrow down which activaiton is desired. Search terms can be activation numbers, account names, etc."
   ]
  },
  {
   "cell_type": "code",
   "execution_count": 5,
   "id": "bdc8434a",
   "metadata": {},
   "outputs": [
    {
     "name": "stdout",
     "output_type": "stream",
     "text": [
      "{'activations': [{'id': 2, 'activationNumber': 'ACT-4539529', 'sapContractIdentifier': '1234567890', 'sapLineItem': '999999', 'startDate': '2022-01-01T00:00:00.000+00:00', 'endDate': None, 'creditLimit': -1.0, 'totalCreditsUsed': 16227.2918453384, 'creditsUsedPercentage': -1.0, 'numberOfUsers': None, 'totalUsers': None, 'accountTotalUsers': None, 'accountName': 'Maxar Internal - Okta', 'accountNumber': 'ACC-725-858', 'accountSapLicenseId': '', 'accountLicensee': 'Maxar', 'accountSoldTo': 'Maxar', 'userLimit': -1, 'dailyCreditLimitTotal': -1, 'dailyCreditLimitUsed': 0.0, 'clientContextId': '37ab1268-5708-4027-9f28-1398d576df88'}, {'id': 147, 'activationNumber': 'ACT-3428888', 'sapContractIdentifier': '1234567890', 'sapLineItem': '999999', 'startDate': '2022-11-30T00:00:00.000+00:00', 'endDate': '2023-11-30T00:00:00.000+00:00', 'creditLimit': -1.0, 'totalCreditsUsed': 2.1447998508811, 'creditsUsedPercentage': -1.0, 'numberOfUsers': None, 'totalUsers': None, 'accountTotalUsers': None, 'accountName': 'Maxar Internal - Okta', 'accountNumber': 'ACC-725-858', 'accountSapLicenseId': '', 'accountLicensee': 'Maxar', 'accountSoldTo': 'Maxar', 'userLimit': -1, 'dailyCreditLimitTotal': -1, 'dailyCreditLimitUsed': 0.0, 'clientContextId': '37ab1268-5708-4027-9f28-1398d576df88'}, {'id': 396, 'activationNumber': 'ACT-4100655', 'sapContractIdentifier': '1234567890', 'sapLineItem': '999999', 'startDate': '2022-01-01T00:00:00.000+00:00', 'endDate': None, 'creditLimit': -1.0, 'totalCreditsUsed': 59795.4017798132, 'creditsUsedPercentage': -1.0, 'numberOfUsers': None, 'totalUsers': None, 'accountTotalUsers': None, 'accountName': 'Maxar Internal - Okta', 'accountNumber': 'ACC-725-858', 'accountSapLicenseId': '', 'accountLicensee': 'Maxar', 'accountSoldTo': 'Maxar', 'userLimit': -1, 'dailyCreditLimitTotal': -1, 'dailyCreditLimitUsed': 0.0, 'clientContextId': '6ee64d91-125c-4022-b99d-97f797ce108d'}, {'id': 397, 'activationNumber': 'ACT-0838371', 'sapContractIdentifier': '1234567890', 'sapLineItem': '999999', 'startDate': '2022-01-01T00:00:00.000+00:00', 'endDate': None, 'creditLimit': -1.0, 'totalCreditsUsed': 0.0, 'creditsUsedPercentage': -1.0, 'numberOfUsers': None, 'totalUsers': None, 'accountTotalUsers': None, 'accountName': 'Maxar Internal - Okta', 'accountNumber': 'ACC-725-858', 'accountSapLicenseId': '', 'accountLicensee': 'Maxar', 'accountSoldTo': 'Maxar', 'userLimit': -1, 'dailyCreditLimitTotal': -1, 'dailyCreditLimitUsed': 0.0, 'clientContextId': 'd9bd4ba2-9c44-4c27-be4a-03c525ddcbb4'}, {'id': 398, 'activationNumber': 'ACT-8677619', 'sapContractIdentifier': '1234567890', 'sapLineItem': '999999', 'startDate': '2022-01-01T00:00:00.000+00:00', 'endDate': None, 'creditLimit': -1.0, 'totalCreditsUsed': 59795.4017798132, 'creditsUsedPercentage': -1.0, 'numberOfUsers': None, 'totalUsers': None, 'accountTotalUsers': None, 'accountName': 'Maxar Internal - Okta', 'accountNumber': 'ACC-725-858', 'accountSapLicenseId': '', 'accountLicensee': 'Maxar', 'accountSoldTo': 'Maxar', 'userLimit': -1, 'dailyCreditLimitTotal': -1, 'dailyCreditLimitUsed': 0.0, 'clientContextId': '97159084-4597-4b44-8241-0fef923ea127'}, {'id': 404, 'activationNumber': 'ACT-1824364', 'sapContractIdentifier': None, 'sapLineItem': None, 'startDate': '2022-11-07T00:00:00.000+00:00', 'endDate': None, 'creditLimit': -1.0, 'totalCreditsUsed': 8527.5784691805, 'creditsUsedPercentage': -1.0, 'numberOfUsers': None, 'totalUsers': None, 'accountTotalUsers': None, 'accountName': 'MGP Pro Internal (Maxar employees only)', 'accountNumber': 'ACC-038-986', 'accountSapLicenseId': None, 'accountLicensee': 'Maxar', 'accountSoldTo': 'Maxar', 'userLimit': -1, 'dailyCreditLimitTotal': -1, 'dailyCreditLimitUsed': 0.0, 'clientContextId': '37ab1268-5708-4027-9f28-1398d576df88'}, {'id': 405, 'activationNumber': 'ACT-1595719', 'sapContractIdentifier': None, 'sapLineItem': None, 'startDate': '2022-11-07T00:00:00.000+00:00', 'endDate': None, 'creditLimit': -1.0, 'totalCreditsUsed': 8527.5784691805, 'creditsUsedPercentage': -1.0, 'numberOfUsers': None, 'totalUsers': None, 'accountTotalUsers': None, 'accountName': 'MGP Pro Internal (Maxar employees only)', 'accountNumber': 'ACC-038-986', 'accountSapLicenseId': None, 'accountLicensee': 'Maxar', 'accountSoldTo': 'Maxar', 'userLimit': -1, 'dailyCreditLimitTotal': -1, 'dailyCreditLimitUsed': 0.0, 'clientContextId': 'd9bd4ba2-9c44-4c27-be4a-03c525ddcbb4'}, {'id': 406, 'activationNumber': 'ACT-7455371', 'sapContractIdentifier': None, 'sapLineItem': None, 'startDate': '2022-11-07T00:00:00.000+00:00', 'endDate': None, 'creditLimit': -1.0, 'totalCreditsUsed': 8527.5784691805, 'creditsUsedPercentage': -1.0, 'numberOfUsers': None, 'totalUsers': None, 'accountTotalUsers': None, 'accountName': 'MGP Pro Internal (Maxar employees only)', 'accountNumber': 'ACC-038-986', 'accountSapLicenseId': None, 'accountLicensee': 'Maxar', 'accountSoldTo': 'Maxar', 'userLimit': -1, 'dailyCreditLimitTotal': -1, 'dailyCreditLimitUsed': 0.0, 'clientContextId': '6ee64d91-125c-4022-b99d-97f797ce108d'}, {'id': 411, 'activationNumber': 'ACT-1737242', 'sapContractIdentifier': '1234567890', 'sapLineItem': '999999', 'startDate': '2022-11-30T00:00:00.000+00:00', 'endDate': '2023-11-30T00:00:00.000+00:00', 'creditLimit': -1.0, 'totalCreditsUsed': 2.1447998508811, 'creditsUsedPercentage': -1.0, 'numberOfUsers': None, 'totalUsers': None, 'accountTotalUsers': None, 'accountName': 'Maxar Internal - Okta', 'accountNumber': 'ACC-725-858', 'accountSapLicenseId': '', 'accountLicensee': 'Maxar', 'accountSoldTo': 'Maxar', 'userLimit': -1, 'dailyCreditLimitTotal': -1, 'dailyCreditLimitUsed': 0.0, 'clientContextId': 'd9bd4ba2-9c44-4c27-be4a-03c525ddcbb4'}, {'id': 412, 'activationNumber': 'ACT-4084224', 'sapContractIdentifier': '1234567890', 'sapLineItem': '999999', 'startDate': '2022-11-30T00:00:00.000+00:00', 'endDate': '2023-11-30T00:00:00.000+00:00', 'creditLimit': -1.0, 'totalCreditsUsed': 18552.0086171394, 'creditsUsedPercentage': -1.0, 'numberOfUsers': None, 'totalUsers': None, 'accountTotalUsers': None, 'accountName': 'Maxar Internal - Okta', 'accountNumber': 'ACC-725-858', 'accountSapLicenseId': '', 'accountLicensee': 'Maxar', 'accountSoldTo': 'Maxar', 'userLimit': -1, 'dailyCreditLimitTotal': -1, 'dailyCreditLimitUsed': 0.0, 'clientContextId': '7b31c61f-fbd3-41ed-8413-1fde8ed6c04e'}, {'id': 426, 'activationNumber': 'ACT-4404230', 'sapContractIdentifier': None, 'sapLineItem': None, 'startDate': '2023-03-30T00:00:00.000+00:00', 'endDate': None, 'creditLimit': -1.0, 'totalCreditsUsed': 0.0, 'creditsUsedPercentage': -1.0, 'numberOfUsers': None, 'totalUsers': None, 'accountTotalUsers': None, 'accountName': 'MGP Pro Internal (Maxar employees only)', 'accountNumber': 'ACC-038-986', 'accountSapLicenseId': None, 'accountLicensee': 'Maxar', 'accountSoldTo': 'Maxar', 'userLimit': -1, 'dailyCreditLimitTotal': -1, 'dailyCreditLimitUsed': 0.0, 'clientContextId': 'f173a530-e9ee-421f-b134-b34c418d010f'}, {'id': 436, 'activationNumber': 'ACT-1431785', 'sapContractIdentifier': None, 'sapLineItem': None, 'startDate': '2023-03-30T00:00:00.000+00:00', 'endDate': None, 'creditLimit': -1.0, 'totalCreditsUsed': 0.0, 'creditsUsedPercentage': -1.0, 'numberOfUsers': None, 'totalUsers': None, 'accountTotalUsers': None, 'accountName': 'Maxar Internal - Okta', 'accountNumber': 'ACC-725-858', 'accountSapLicenseId': '', 'accountLicensee': 'Maxar', 'accountSoldTo': 'Maxar', 'userLimit': -1, 'dailyCreditLimitTotal': -1, 'dailyCreditLimitUsed': 0.0, 'clientContextId': '8815a6ec-308a-47f9-a45f-de99ad704a7d'}, {'id': 438, 'activationNumber': 'ACT-6142411', 'sapContractIdentifier': None, 'sapLineItem': None, 'startDate': '2023-03-30T00:00:00.000+00:00', 'endDate': None, 'creditLimit': -1.0, 'totalCreditsUsed': 262421.184978518, 'creditsUsedPercentage': -1.0, 'numberOfUsers': None, 'totalUsers': None, 'accountTotalUsers': None, 'accountName': 'Maxar Internal - Okta', 'accountNumber': 'ACC-725-858', 'accountSapLicenseId': '', 'accountLicensee': 'Maxar', 'accountSoldTo': 'Maxar', 'userLimit': -1, 'dailyCreditLimitTotal': -1, 'dailyCreditLimitUsed': 0.0, 'clientContextId': 'b4e8d573-56ee-4e79-abcd-7b161f93ea17'}, {'id': 442, 'activationNumber': 'ACT-3604182', 'sapContractIdentifier': None, 'sapLineItem': None, 'startDate': '2023-03-31T00:00:00.000+00:00', 'endDate': None, 'creditLimit': -1.0, 'totalCreditsUsed': 77600.8933719986, 'creditsUsedPercentage': -1.0, 'numberOfUsers': None, 'totalUsers': None, 'accountTotalUsers': None, 'accountName': 'Maxar Internal - Okta', 'accountNumber': 'ACC-725-858', 'accountSapLicenseId': '', 'accountLicensee': 'Maxar', 'accountSoldTo': 'Maxar', 'userLimit': -1, 'dailyCreditLimitTotal': -1, 'dailyCreditLimitUsed': 17.734864539379487, 'clientContextId': 'b4e8d573-56ee-4e79-abcd-7b161f93ea17'}, {'id': 443, 'activationNumber': 'ACT-6231494', 'sapContractIdentifier': None, 'sapLineItem': None, 'startDate': '2023-03-31T00:00:00.000+00:00', 'endDate': None, 'creditLimit': -1.0, 'totalCreditsUsed': 204654.573645558, 'creditsUsedPercentage': -1.0, 'numberOfUsers': None, 'totalUsers': None, 'accountTotalUsers': None, 'accountName': 'MGP Pro Internal (Maxar employees only)', 'accountNumber': 'ACC-038-986', 'accountSapLicenseId': None, 'accountLicensee': 'Maxar', 'accountSoldTo': 'Maxar', 'userLimit': -1, 'dailyCreditLimitTotal': -1, 'dailyCreditLimitUsed': 0.0, 'clientContextId': 'b4e8d573-56ee-4e79-abcd-7b161f93ea17'}, {'id': 446, 'activationNumber': 'ACT-3875049', 'sapContractIdentifier': None, 'sapLineItem': None, 'startDate': '2023-03-30T00:00:00.000+00:00', 'endDate': None, 'creditLimit': -1.0, 'totalCreditsUsed': 0.0, 'creditsUsedPercentage': -1.0, 'numberOfUsers': None, 'totalUsers': None, 'accountTotalUsers': None, 'accountName': 'MGP Pro Internal (Maxar employees only)', 'accountNumber': 'ACC-038-986', 'accountSapLicenseId': None, 'accountLicensee': 'Maxar', 'accountSoldTo': 'Maxar', 'userLimit': -1, 'dailyCreditLimitTotal': -1, 'dailyCreditLimitUsed': 0.0, 'clientContextId': '8815a6ec-308a-47f9-a45f-de99ad704a7d'}, {'id': 505, 'activationNumber': 'ACT-8649083', 'sapContractIdentifier': None, 'sapLineItem': None, 'startDate': '2023-04-10T00:00:00.000+00:00', 'endDate': None, 'creditLimit': -1.0, 'totalCreditsUsed': 0.0, 'creditsUsedPercentage': -1.0, 'numberOfUsers': None, 'totalUsers': None, 'accountTotalUsers': None, 'accountName': 'MGP Pro Internal (Maxar employees only)', 'accountNumber': 'ACC-038-986', 'accountSapLicenseId': None, 'accountLicensee': 'Maxar', 'accountSoldTo': 'Maxar', 'userLimit': -1, 'dailyCreditLimitTotal': -1, 'dailyCreditLimitUsed': 0.0, 'clientContextId': 'f924d13f-81f1-4e72-aa8b-93979c3d8112'}, {'id': 518, 'activationNumber': 'ACT-5038160', 'sapContractIdentifier': '1234567890', 'sapLineItem': '999999', 'startDate': '2022-01-01T00:00:00.000+00:00', 'endDate': None, 'creditLimit': -1.0, 'totalCreditsUsed': 0.0, 'creditsUsedPercentage': -1.0, 'numberOfUsers': None, 'totalUsers': None, 'accountTotalUsers': None, 'accountName': 'Maxar Internal - Okta', 'accountNumber': 'ACC-725-858', 'accountSapLicenseId': '', 'accountLicensee': 'Maxar', 'accountSoldTo': 'Maxar', 'userLimit': -1, 'dailyCreditLimitTotal': -1, 'dailyCreditLimitUsed': 0.0, 'clientContextId': 'b4e8d573-56ee-4e79-abcd-7b161f93ea17'}, {'id': 521, 'activationNumber': 'ACT-2228484', 'sapContractIdentifier': '1234567890', 'sapLineItem': '999999', 'startDate': '2022-01-01T00:00:00.000+00:00', 'endDate': None, 'creditLimit': -1.0, 'totalCreditsUsed': 0.0, 'creditsUsedPercentage': -1.0, 'numberOfUsers': None, 'totalUsers': None, 'accountTotalUsers': None, 'accountName': 'Maxar Internal - Okta', 'accountNumber': 'ACC-725-858', 'accountSapLicenseId': '', 'accountLicensee': 'Maxar', 'accountSoldTo': 'Maxar', 'userLimit': -1, 'dailyCreditLimitTotal': -1, 'dailyCreditLimitUsed': 0.0, 'clientContextId': 'b4e8d573-56ee-4e79-abcd-7b161f93ea17'}, {'id': 522, 'activationNumber': 'ACT-8820648', 'sapContractIdentifier': None, 'sapLineItem': None, 'startDate': '2022-11-07T00:00:00.000+00:00', 'endDate': '2023-04-26T00:00:00.000+00:00', 'creditLimit': -1.0, 'totalCreditsUsed': 0.0, 'creditsUsedPercentage': -1.0, 'numberOfUsers': None, 'totalUsers': None, 'accountTotalUsers': None, 'accountName': 'MGP Pro Internal (Maxar employees only)', 'accountNumber': 'ACC-038-986', 'accountSapLicenseId': None, 'accountLicensee': 'Maxar', 'accountSoldTo': 'Maxar', 'userLimit': -1, 'dailyCreditLimitTotal': -1, 'dailyCreditLimitUsed': 0.0, 'clientContextId': 'b4e8d573-56ee-4e79-abcd-7b161f93ea17'}], 'totalElements': 41}\n"
     ]
    }
   ],
   "source": [
    "my_search = admin_mgp.search(search=\"Maxar\")\n",
    "print(my_search)"
   ]
  },
  {
   "cell_type": "code",
   "execution_count": null,
   "id": "544f089c",
   "metadata": {},
   "outputs": [],
   "source": []
  }
 ],
 "metadata": {
  "kernelspec": {
   "display_name": "Python 3 (ipykernel)",
   "language": "python",
   "name": "python3"
  },
  "language_info": {
   "codemirror_mode": {
    "name": "ipython",
    "version": 3
   },
   "file_extension": ".py",
   "mimetype": "text/x-python",
   "name": "python",
   "nbconvert_exporter": "python",
   "pygments_lexer": "ipython3",
   "version": "3.7.16"
  }
 },
 "nbformat": 4,
 "nbformat_minor": 5
}
