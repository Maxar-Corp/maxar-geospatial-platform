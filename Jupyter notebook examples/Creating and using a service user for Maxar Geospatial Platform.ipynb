{
 "cells": [
  {
   "cell_type": "markdown",
   "id": "b7a9753f",
   "metadata": {},
   "source": [
    "## Creating and using a service user for Maxar Geospatial Platform\n",
    "This sample workflow will guide a user through using the useres, tokens, and streaming classes of the Maxar Geospatial Platform SDK. The process will go through:\n",
    "* Creating a new (service) user\n",
    "* Setting permissions of the new (service) user\n",
    "* Creating an API Key for the new (service) user\n",
    "* Streaming imagery utilizing the API Key from the new (service) user"
   ]
  },
  {
   "cell_type": "markdown",
   "id": "81d202c6",
   "metadata": {},
   "source": [
    "#### The following functionality is intended for account administrators and will not work with base user permissions"
   ]
  },
  {
   "cell_type": "markdown",
   "id": "ae1aee67",
   "metadata": {},
   "source": [
    "### Creating a new (service) user"
   ]
  },
  {
   "cell_type": "markdown",
   "id": "c0809cb2",
   "metadata": {},
   "source": [
    "#### Initialize the Maxar Geospatial Platform SDK Module"
   ]
  },
  {
   "cell_type": "code",
   "execution_count": null,
   "id": "7fccaf3f",
   "metadata": {},
   "outputs": [],
   "source": [
    "from MGP_SDK.interface import Interface\n",
    "\n",
    "admin_interface = Interface(\"<admin.user@email.address>\", \"<admin_user_password>\", \"<admin_user_client>\")"
   ]
  },
  {
   "cell_type": "markdown",
   "id": "6bfed95e",
   "metadata": {},
   "source": [
    "#### Initialize the account-services class for Maxar Geospatial Platform SDK"
   ]
  },
  {
   "cell_type": "code",
   "execution_count": null,
   "id": "370e8431",
   "metadata": {},
   "outputs": [],
   "source": [
    "admin = admin_interface.account_service"
   ]
  },
  {
   "cell_type": "code",
   "execution_count": null,
   "id": "1f39e9e4",
   "metadata": {},
   "outputs": [],
   "source": [
    "print(admin.get_self())"
   ]
  },
  {
   "cell_type": "markdown",
   "id": "d490555d",
   "metadata": {},
   "source": [
    "#### Create a new (service) user\n",
    "In the cell below some variables will be pre-set to expedite the user creation process. *Note: If the account administrator has multiple activations under their account, the user will need to decide which activation the new (service) user will be tied to and obtain that activation's ID. If a user does not know the desired activation's ID, run the* `admin.get_self()` *function and print the result to view the activations available on the user's account.*"
   ]
  },
  {
   "cell_type": "code",
   "execution_count": null,
   "id": "2955ee86",
   "metadata": {},
   "outputs": [],
   "source": [
    "user_type = \"BASE_USER\"\n",
    "account_id = admin.get_self()['accountId']\n",
    "# If multiple activations exist on an account, uncomment the activation_id variable below and comment out the\n",
    "# activation_id variable below it and set the desired_activation_id in the list iteration.\n",
    "\n",
    "# activation_id = [i['id'] for i in admin.get_self()['activations'] if i['id'] == <desired_activation_id>][0]\n",
    "activation_id = [i['id'] for i in admin.get_self()['activations']][0]\n",
    "email = \"<new.user@email.address>\"\n",
    "first_name = \"<NewUserFirstName>\"\n",
    "last_name = \"<NewUserLastName>\"\n",
    "country = \"<CountryOfOrigin>\" #Example: US\n",
    "client_id = \"<adminUserClient>\"\n",
    "credit_limit = \"<DesiredCreditLimit>\"\n",
    "\n",
    "new_user = admin.users.create_user(\n",
    "    user_type=user_type, account_id=account_id, activation_id=activation_id, email_address=email, first_name=first_name, \n",
    "    last_name=last_name, country=country, client_id=client_id, dailyCreditLimitTotal=credit_limit\n",
    ")\n",
    "print(new_user)"
   ]
  },
  {
   "cell_type": "markdown",
   "id": "3a224e24",
   "metadata": {},
   "source": [
    "#### Obtain desired permissions for new (service) user\n",
    "This workflow will enable `VIVID` imagery for a service user. *Note:* `Roles` *and* `Permissions` *are used for the same terminology.*"
   ]
  },
  {
   "cell_type": "markdown",
   "id": "bf38303f",
   "metadata": {},
   "source": [
    "The following cell will set the `clientContextId` to a variable. This is the actual ID associated with the user's client."
   ]
  },
  {
   "cell_type": "code",
   "execution_count": null,
   "id": "c2c4df6a",
   "metadata": {},
   "outputs": [],
   "source": [
    "client_context_id = [i['clientContextId'] for i in admin.get_self()['activations']][0]"
   ]
  },
  {
   "cell_type": "markdown",
   "id": "201ecc0c",
   "metadata": {},
   "source": [
    "The below cell will grab all non-ordering vivid roles and the WMS role and put the names of the roles into a list for use further on in the workflow."
   ]
  },
  {
   "cell_type": "code",
   "execution_count": null,
   "id": "78afbcbd",
   "metadata": {},
   "outputs": [],
   "source": [
    "all_roles = admin.roles.get_roles(clientContextId=client_context_id)\n",
    "desired_roles = [i['name'] for i in all_roles if \"VIVID\" in i['name'] and \"ORDER\" not in i['name'] or \"WMS\" in i['name']]\n",
    "print(desired_roles)"
   ]
  },
  {
   "cell_type": "markdown",
   "id": "dc9ee161",
   "metadata": {},
   "source": [
    "### Setting permissions of the new (service) user\n",
    "The new (service) user's ID will be needed for updating roles. The below cell will show a user how to obtain this."
   ]
  },
  {
   "cell_type": "code",
   "execution_count": null,
   "id": "264a3da7",
   "metadata": {},
   "outputs": [],
   "source": [
    "new_user_id = admin.users.get_users(username=\"<new.user's@email.address>\")['userId']\n",
    "print(new_user_id)"
   ]
  },
  {
   "cell_type": "markdown",
   "id": "be0b722a",
   "metadata": {},
   "source": [
    "With the new (service) user's ID acquired, the roles for that user can now be updated."
   ]
  },
  {
   "cell_type": "code",
   "execution_count": null,
   "id": "412c57ee",
   "metadata": {},
   "outputs": [],
   "source": [
    "update_roles = admin.users.update_user_roles(user_id=new_user_id, roles_to_update=desired_roles, client_id=client_context_id)\n",
    "print(update_roles)"
   ]
  },
  {
   "cell_type": "markdown",
   "id": "acab110b",
   "metadata": {},
   "source": [
    "The new (service) user now has the desired roles added to it and can stream Vivid imagery via the WMS method."
   ]
  },
  {
   "cell_type": "markdown",
   "id": "43180906",
   "metadata": {},
   "source": [
    "#### The following functionality can be utilized by base level users"
   ]
  },
  {
   "cell_type": "markdown",
   "id": "c6b6e0e4",
   "metadata": {},
   "source": [
    "### Creating an API Key for the new (service) user\n",
    "With the user created, an API key can be generated for that user that can then be utilized to stream Vivid imagery."
   ]
  },
  {
   "cell_type": "markdown",
   "id": "12c1d813",
   "metadata": {},
   "source": [
    "#### Re-initialize the Maxar Geospatial Platform SDK Module with the new (service) user's credentials"
   ]
  },
  {
   "cell_type": "code",
   "execution_count": null,
   "id": "b8c570f2",
   "metadata": {},
   "outputs": [],
   "source": [
    "base_interface = Interface(\"<new.user's@email.address>\", \"<new_users_password>\", \"<adminUserClient>\")"
   ]
  },
  {
   "cell_type": "markdown",
   "id": "d2ed26ff",
   "metadata": {},
   "source": [
    "#### Initialize the token-services class for Maxar Geospatial Platform SDK"
   ]
  },
  {
   "cell_type": "code",
   "execution_count": null,
   "id": "e4f377f6",
   "metadata": {},
   "outputs": [],
   "source": [
    "tokens = base_interface.token"
   ]
  },
  {
   "cell_type": "markdown",
   "id": "9e44472d",
   "metadata": {},
   "source": [
    "#### Create a new API Key"
   ]
  },
  {
   "cell_type": "code",
   "execution_count": null,
   "id": "9d0fda21",
   "metadata": {},
   "outputs": [],
   "source": [
    "new_token = tokens.create_token_record(name=\"Vivid Streaming\", description=\"This token is used for streaming of Vivid imagery\")\n",
    "print(new_token)"
   ]
  },
  {
   "cell_type": "markdown",
   "id": "d3389712",
   "metadata": {},
   "source": [
    "From the above cell a user can visualize the `id`, `name`, `description`, `api_token` (key), and the `expiration_date` of the key, along with other information."
   ]
  },
  {
   "cell_type": "markdown",
   "id": "9380fe20",
   "metadata": {},
   "source": [
    "The below cell will set the `api_token` (key) of the token to a variable to be used further on in the workflow."
   ]
  },
  {
   "cell_type": "code",
   "execution_count": null,
   "id": "bfca00f1",
   "metadata": {},
   "outputs": [],
   "source": [
    "new_token_id = new_token['api_token']\n",
    "print(new_token_id)"
   ]
  },
  {
   "cell_type": "markdown",
   "id": "884d31ff",
   "metadata": {},
   "source": [
    "### Streaming imagery utilizing the API Key from the new (service) user"
   ]
  },
  {
   "cell_type": "markdown",
   "id": "f3f83924",
   "metadata": {},
   "source": [
    "This section of the workflow will assume that a new user wants to stream imagery but does not have a Maxar Geospatial Platform user. The user can stream imagery via the API key created earlier."
   ]
  },
  {
   "cell_type": "markdown",
   "id": "568315e8",
   "metadata": {},
   "source": [
    "#### Declare variables for the streaming request\n",
    "Below are some pre-filled variables that will expedite the streaming request."
   ]
  },
  {
   "cell_type": "code",
   "execution_count": null,
   "id": "33edbb2a",
   "metadata": {},
   "outputs": [],
   "source": [
    "bbox = \"39.911958,-105.006037,39.913785,-104.996821\"\n",
    "height = 256\n",
    "width = 1024\n",
    "layer = \"Maxar:VividAdvanced\"\n",
    "crs = \"EPSG:4326\"\n",
    "img_format = \"image/vnd.jpeg-png\""
   ]
  },
  {
   "cell_type": "markdown",
   "id": "194712ee",
   "metadata": {},
   "source": [
    "#### Format URL"
   ]
  },
  {
   "cell_type": "code",
   "execution_count": null,
   "id": "d6f90e4f",
   "metadata": {},
   "outputs": [],
   "source": [
    "streaming_url = f\"https://api.maxar.com/streaming/v1/ogc/wms?service=WMS&request=GetMap&version=1.3.0&bbox={bbox}\" \\\n",
    "                f\"&crs={crs}&layers={layer}&height={height}&width={width}&format={img_format}&maxar_api_token={new_token_id}\""
   ]
  },
  {
   "cell_type": "markdown",
   "id": "54bbfa51",
   "metadata": {},
   "source": [
    "#### Import the requests module and the IPython module\n",
    "If the `requests` and/or `IPython` modules are not currently installed, be sure to install them via `pip`. *Note: The* `IPython` *module is not required for other use cases, but enables imagery visualization in Jupyter Notebooks.*"
   ]
  },
  {
   "cell_type": "code",
   "execution_count": null,
   "id": "a2d1dbdf",
   "metadata": {},
   "outputs": [],
   "source": [
    "import requests\n",
    "import IPython.display as disp\n",
    "from IPython.display import Image, display"
   ]
  },
  {
   "cell_type": "markdown",
   "id": "92c9f16a",
   "metadata": {},
   "source": [
    "With the requests module installed, a user can now pass in the formatted url and visualize the imagery."
   ]
  },
  {
   "cell_type": "code",
   "execution_count": null,
   "id": "78b66b17",
   "metadata": {},
   "outputs": [],
   "source": [
    "response = requests.request(\"GET\", streaming_url)\n",
    "display(disp.Image(response.content))"
   ]
  }
 ],
 "metadata": {
  "kernelspec": {
   "display_name": "Python 3 (ipykernel)",
   "language": "python",
   "name": "python3"
  },
  "language_info": {
   "codemirror_mode": {
    "name": "ipython",
    "version": 3
   },
   "file_extension": ".py",
   "mimetype": "text/x-python",
   "name": "python",
   "nbconvert_exporter": "python",
   "pygments_lexer": "ipython3",
   "version": "3.7.16"
  }
 },
 "nbformat": 4,
 "nbformat_minor": 5
}
