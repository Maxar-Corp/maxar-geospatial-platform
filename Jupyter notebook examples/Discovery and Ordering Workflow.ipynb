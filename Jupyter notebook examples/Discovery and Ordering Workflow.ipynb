{
 "cells": [
  {
   "cell_type": "markdown",
   "id": "c432bbff",
   "metadata": {},
   "source": [
    "## Discovery and Ordering Workflow\n",
    "\n",
    "In this example workflow, a user will be shown how to:\n",
    "* Search STAC items\n",
    "* View pipelines\n",
    "* Validate an order\n",
    "* Check an order's estimated usage\n",
    "* Place an order\n",
    "* Cancel an order"
   ]
  },
  {
   "cell_type": "markdown",
   "id": "319c0909",
   "metadata": {},
   "source": [
    "#### Initialize the Maxar Geospatial Platform SDK Module"
   ]
  },
  {
   "cell_type": "code",
   "execution_count": null,
   "id": "71dad8b6",
   "metadata": {},
   "outputs": [],
   "source": [
    "from MGP_SDK.interface import Interface\n",
    "\n",
    "try:\n",
    "  interface = Interface() # if .MGP-config was created\n",
    "except:\n",
    "  interface = Interface('<user_name>','<user_password>', '<user_client_id>') # if .MGP-config was not created"
   ]
  },
  {
   "cell_type": "markdown",
   "id": "dae5bd7e",
   "metadata": {},
   "source": [
    "#### Initialize the discovery and ordering portions of the Maxar Geospatial Platform SDK"
   ]
  },
  {
   "cell_type": "code",
   "execution_count": null,
   "id": "279cd5e6",
   "metadata": {},
   "outputs": [],
   "source": [
    "mgp_discovery = interface.discovery_service\n",
    "mgp_ordering = interface.order_service"
   ]
  },
  {
   "cell_type": "markdown",
   "id": "760188fa",
   "metadata": {},
   "source": [
    "#### Discover STAC items"
   ]
  },
  {
   "cell_type": "markdown",
   "id": "13bfd363",
   "metadata": {},
   "source": [
    "The first thing we want to do is search the available STAC items via Discovery. Here we will set up some variables to make the discovery process more manageable"
   ]
  },
  {
   "cell_type": "code",
   "execution_count": null,
   "id": "0659cee4",
   "metadata": {},
   "outputs": [],
   "source": [
    "bbox = \"-105,40,-104,41\"\n",
    "datetime = \"2015-01-01T00:00:00Z/2016-01-01T00:00:00Z\"\n",
    "collections = \"wv02\"\n",
    "where = \"eo:cloud_cover<20\"\n",
    "limit = 10"
   ]
  },
  {
   "cell_type": "markdown",
   "id": "89eb70ad",
   "metadata": {},
   "source": [
    "We will utilize the stac_search function and iterate through a list of all of the ids that match our criteria and set a variable for the first id in that list"
   ]
  },
  {
   "cell_type": "code",
   "execution_count": null,
   "id": "07fcd595",
   "metadata": {},
   "outputs": [],
   "source": [
    "features = mgp_discovery.stac_search(bbox=bbox, datetime=datetime, where=where, collections=collections, orderby='id', limit=limit)\n",
    "features_list = []\n",
    "for feature in features['features'][:limit]:\n",
    "    features_list.append(feature['id'])\n",
    "wv02_feature = features_list[0]\n",
    "print(wv02_feature)"
   ]
  },
  {
   "cell_type": "markdown",
   "id": "175ee8e9",
   "metadata": {},
   "source": [
    "Now that we have a single feature, we can narrow down the metadata for just that feature with the get_stac_item funciton. We want to know what the supported pipelines are for this feature, so we will narrow the result down to show the pipelines and their names"
   ]
  },
  {
   "cell_type": "code",
   "execution_count": null,
   "id": "dffe574b",
   "metadata": {},
   "outputs": [],
   "source": [
    "desired_feature = mgp_discovery.get_stac_item(collection_id=collections, item_id=wv02_feature)\n",
    "for i in desired_feature['links']:\n",
    "    print(i['rel'])\n",
    "    print(i['href'])"
   ]
  },
  {
   "cell_type": "markdown",
   "id": "c6f153f6",
   "metadata": {},
   "source": [
    "For this workflow, we want to use the *map-ready* pipeline. We now know that the feature can be ordered via the map-ready pipeline"
   ]
  },
  {
   "cell_type": "markdown",
   "id": "22a26ee9",
   "metadata": {},
   "source": [
    "If you are unfamiliar with a pipeline and what is needed for the order to work, you can use the get_pipeline_details function to determine what information needs to be passed in. The namespace of the pipeline can be found in the *href* link from the above function. It is the section of the link between *pipelines* and the pipeline name, in this case, with a namespace of *imagery* and a name of *map-ready*. With our pipeline identified, we can narrow down the response of the get_pipeline_details function to show us the necessary information needed to place an order"
   ]
  },
  {
   "cell_type": "code",
   "execution_count": null,
   "id": "3a306e78",
   "metadata": {},
   "outputs": [],
   "source": [
    "pipeline = mgp_ordering.get_pipeline_details(namespace='imagery', name='map-ready')\n",
    "required_info = pipeline['data']['settings_schema']['required']\n",
    "print(\"The required information needed to place an order on this pipeline is: {}\".format(required_info))\n",
    "for info in required_info:\n",
    "    type_info = pipeline['data']['settings_schema']['properties'][info]\n",
    "    print(\"The type of data for {} is: {}\".format(info, type_info))"
   ]
  },
  {
   "cell_type": "markdown",
   "id": "2ef55d4f",
   "metadata": {},
   "source": [
    "From this response we can see that the inventory_ids and the customer_description are required for order placement, and that inventory_ids is an array of strings while customer_description is a string"
   ]
  },
  {
   "cell_type": "markdown",
   "id": "2b6354ad",
   "metadata": {},
   "source": [
    "#### Ordering a feature"
   ]
  },
  {
   "cell_type": "markdown",
   "id": "ea39b5f2",
   "metadata": {},
   "source": [
    "Before we fully place an order, we want to verify that the order is formatted properly and will be accepted, and what the estimated cost of the order will be. First we will set up some variables to make the requests more manageable. The output_config variable will be a dictionary where we store our S3 information, the notificaitons variable will be a list of a dictionary that will store our email information, and the metadata variable will be a dictionary that stores our project_id, or order name"
   ]
  },
  {
   "cell_type": "code",
   "execution_count": null,
   "id": "73c6c1f0",
   "metadata": {},
   "outputs": [],
   "source": [
    "namespace = 'imagery'\n",
    "name = 'map-ready'\n",
    "output_config = {\"output_config\": {\"amazon_s3\": {\"bucket\": \"yourS3BucketName\", \"prefix\": \"your/S3/bucket/prefix/name\"}}}\n",
    "settings = {\n",
    "            \"settings\": {\n",
    "                \"inventory_ids\": [wv02_feature],\n",
    "                \"customer_description\": \"your order description\"\n",
    "            }\n",
    "        }\n",
    "notifications = [{\"type\": \"email\", \"target\": \"your.email@address.com\", \"level\": \"FINAL_ONLY\"}]\n",
    "metadata = {\"metadata\": {\"project_id\": \"your order name\"}}"
   ]
  },
  {
   "cell_type": "markdown",
   "id": "9624756d",
   "metadata": {},
   "source": [
    "We will now validate the order before placing it by setting the validate argument to *True*"
   ]
  },
  {
   "cell_type": "code",
   "execution_count": null,
   "id": "1d8cd658",
   "metadata": {},
   "outputs": [],
   "source": [
    "order_validate = mgp_ordering.place_order(namespace=namespace, name=name, output_config=output_config, settings=settings, \n",
    "                                         notifications=notifications, metadata=metadata, validate=True)\n",
    "print(order_validate)"
   ]
  },
  {
   "cell_type": "markdown",
   "id": "d1d53201",
   "metadata": {},
   "source": [
    "The status of the order is shown as RECEIVED, indicating that the order passes the validation, meaning we can place the order. One last thing to check before we place the order is to check the estimated usage of the order"
   ]
  },
  {
   "cell_type": "code",
   "execution_count": null,
   "id": "19cbce73",
   "metadata": {},
   "outputs": [],
   "source": [
    "order_estimate = mgp_ordering.get_usage_estimate(namespace=namespace, name=name, output_config=output_config, settings=settings, \n",
    "                                         notifications=notifications, metadata=metadata)\n",
    "print(order_estimate)"
   ]
  },
  {
   "cell_type": "markdown",
   "id": "ff0dda0b",
   "metadata": {},
   "source": [
    "From this response we can see that the order will use 1922.748 sqkm of usage. We can now place the order"
   ]
  },
  {
   "cell_type": "code",
   "execution_count": null,
   "id": "ced41ca5",
   "metadata": {},
   "outputs": [],
   "source": [
    "order = mgp_ordering.place_order(namespace=namespace, name=name, output_config=output_config, settings=settings, \n",
    "                                         notifications=notifications, metadata=metadata)\n",
    "order_id = order['data']['id']\n",
    "print(order)"
   ]
  },
  {
   "cell_type": "markdown",
   "id": "e8eb5efe",
   "metadata": {},
   "source": [
    "After the order has been placed, we may want to check the full details of the submitted order. This can be done with the get_order_details function and passing in the order id generated from the placement of the order"
   ]
  },
  {
   "cell_type": "code",
   "execution_count": null,
   "id": "73a92bfb",
   "metadata": {},
   "outputs": [],
   "source": [
    "check_order = mgp_ordering.get_order_details(order_id=order_id)\n",
    "print(check_order)"
   ]
  },
  {
   "cell_type": "markdown",
   "id": "175cb8bf",
   "metadata": {},
   "source": [
    "We also may want to occasionally check up on the status of the order. We can do this by utilizing the get_order_events function and checking the message of the response"
   ]
  },
  {
   "cell_type": "code",
   "execution_count": null,
   "id": "3c6af0d0",
   "metadata": {},
   "outputs": [],
   "source": [
    "check_order_events = mgp_ordering.get_order_events(order_id=order_id)\n",
    "print(check_order_events)"
   ]
  },
  {
   "cell_type": "markdown",
   "id": "afa86de0",
   "metadata": {},
   "source": [
    "In some instances, we may want to cancel an order. Some pipelines unfortunately do not allow cancelling of orders. To check, we can run the get_all_pipelines function and see if cancelling is allowed for our pipeline"
   ]
  },
  {
   "cell_type": "code",
   "execution_count": null,
   "id": "9079fe03",
   "metadata": {},
   "outputs": [],
   "source": [
    "all_pipelines = mgp_ordering.get_all_pipelines()\n",
    "for pipeline in all_pipelines['data']['pipelines']:\n",
    "    if pipeline['name'] == name:\n",
    "        if pipeline['orders_cancellable']:\n",
    "            print(\"Pipeline {} allows cancellations\".format(name))\n",
    "        else:\n",
    "            print(\"Pipeline {} does not allow cancellations\".format(name))"
   ]
  },
  {
   "cell_type": "markdown",
   "id": "f0c6862e",
   "metadata": {},
   "source": [
    "Assuming the pipeline allows for cancellations, we can run the cancel_order function to cancel the desired order"
   ]
  },
  {
   "cell_type": "code",
   "execution_count": null,
   "id": "b03159ee",
   "metadata": {},
   "outputs": [],
   "source": [
    "cancel_order = mgp_ordering.cancel_order(order_id)\n",
    "print(cancel_order)"
   ]
  }
 ],
 "metadata": {
  "kernelspec": {
   "display_name": "Python 3 (ipykernel)",
   "language": "python",
   "name": "python3"
  },
  "language_info": {
   "codemirror_mode": {
    "name": "ipython",
    "version": 3
   },
   "file_extension": ".py",
   "mimetype": "text/x-python",
   "name": "python",
   "nbconvert_exporter": "python",
   "pygments_lexer": "ipython3",
   "version": "3.7.16"
  }
 },
 "nbformat": 4,
 "nbformat_minor": 5
}
