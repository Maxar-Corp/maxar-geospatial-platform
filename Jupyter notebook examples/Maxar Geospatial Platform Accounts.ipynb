{
 "cells": [
  {
   "cell_type": "markdown",
   "id": "85288769",
   "metadata": {},
   "source": [
    "## Accounts"
   ]
  },
  {
   "cell_type": "markdown",
   "id": "cc363646",
   "metadata": {},
   "source": [
    "#### The following functionality is intended for account administrators and will not work with base user permissions"
   ]
  },
  {
   "cell_type": "markdown",
   "id": "dd8178c3",
   "metadata": {},
   "source": [
    "#### Initialize the Maxar Geospatial Platform SDK Module"
   ]
  },
  {
   "cell_type": "code",
   "execution_count": null,
   "id": "b20e59e5",
   "metadata": {},
   "outputs": [],
   "source": [
    "from MGP_SDK.interface import Interface\n",
    "\n",
    "try:\n",
    "  interface = Interface() # if .MGP-config was created\n",
    "except:\n",
    "  interface = Interface('<user_name>','<user_password>', '<user_client_id>') # if .MGP-config was not created"
   ]
  },
  {
   "cell_type": "markdown",
   "id": "94a88bfd",
   "metadata": {},
   "source": [
    "#### Initialize the accounts portion of the account-services class for Maxar Portal SDK"
   ]
  },
  {
   "cell_type": "code",
   "execution_count": null,
   "id": "3d9c3935",
   "metadata": {},
   "outputs": [],
   "source": [
    "admin_mgp = interface.account_service.account_info"
   ]
  },
  {
   "cell_type": "markdown",
   "id": "0059ce84",
   "metadata": {},
   "source": [
    "#### List account information\n",
    "The following command will return dictionary with all of the information for the account that the user is tied to."
   ]
  },
  {
   "cell_type": "code",
   "execution_count": null,
   "id": "999217d5",
   "metadata": {},
   "outputs": [],
   "source": [
    "my_account = admin_mgp.get_accounts()\n",
    "print(my_account)"
   ]
  },
  {
   "cell_type": "markdown",
   "id": "5faf0bcd",
   "metadata": {},
   "source": [
    "If the user knows their specific account id or account name, those values can be passed into the get_accounts function for more detailed information."
   ]
  },
  {
   "cell_type": "code",
   "execution_count": null,
   "id": "1ba6d17b",
   "metadata": {},
   "outputs": [],
   "source": [
    "my_account = admin_mgp.get_accounts(account_id=2)\n",
    "print(my_account)"
   ]
  }
 ],
 "metadata": {
  "kernelspec": {
   "display_name": "Python 3 (ipykernel)",
   "language": "python",
   "name": "python3"
  },
  "language_info": {
   "codemirror_mode": {
    "name": "ipython",
    "version": 3
   },
   "file_extension": ".py",
   "mimetype": "text/x-python",
   "name": "python",
   "nbconvert_exporter": "python",
   "pygments_lexer": "ipython3",
   "version": "3.7.16"
  }
 },
 "nbformat": 4,
 "nbformat_minor": 5
}
