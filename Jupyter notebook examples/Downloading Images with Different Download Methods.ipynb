{
 "cells": [
  {
   "cell_type": "markdown",
   "id": "1b5c3c68",
   "metadata": {},
   "source": [
    "## Downloading Images with Different Download Methods\n",
    "\n",
    "This sample workflow will guide a user through using the streaming class of the Maxar Geospatial Platform SDK with real world examples. The process will go through:\n",
    "* Searching for an image\n",
    "* Selecting an image\n",
    "* Downloading a list of tiles\n",
    "* Downloading an image via WMS\n",
    "* Downloading an image in full resolution"
   ]
  },
  {
   "cell_type": "markdown",
   "id": "83e46129",
   "metadata": {},
   "source": [
    "#### Initialize the Maxar Geospatial Platform SDK Module"
   ]
  },
  {
   "cell_type": "code",
   "execution_count": null,
   "id": "c18a338f",
   "metadata": {},
   "outputs": [],
   "source": [
    "from MGP_SDK.interface import Interface\n",
    "\n",
    "try:\n",
    "  interface = Interface() # if .MGP-config was created\n",
    "except:\n",
    "  interface = Interface('<user_name>','<user_password>', '<user_client_id>') # if .MGP-config was not created"
   ]
  },
  {
   "cell_type": "markdown",
   "id": "0c9c84b3",
   "metadata": {},
   "source": [
    "#### Initialize the streaming portion of the Maxar Geospatial Platform SDK"
   ]
  },
  {
   "cell_type": "code",
   "execution_count": null,
   "id": "59b8c145",
   "metadata": {},
   "outputs": [],
   "source": [
    "streaming_mgp = interface.streaming"
   ]
  },
  {
   "cell_type": "markdown",
   "id": "d1268087",
   "metadata": {},
   "source": [
    "#### Search for an Image\n",
    "This function will search for imagery on the below bounding box (bbox). The return will be a dictionary containing metadata and results for the desired search."
   ]
  },
  {
   "cell_type": "code",
   "execution_count": null,
   "id": "d85a9e78",
   "metadata": {},
   "outputs": [],
   "source": [
    "bbox = \"39.84387,-105.05608,39.84887,-105.05108\"\n",
    "search_results = streaming_mgp.search(bbox=bbox)\n",
    "print(search_results)"
   ]
  },
  {
   "cell_type": "markdown",
   "id": "4a312ac6",
   "metadata": {},
   "source": [
    "#### Select an Image\n",
    "Next a feature will be isolated from the results above. Below, features will be a list of dictionaries where each dictionary in the list is a unique feature."
   ]
  },
  {
   "cell_type": "code",
   "execution_count": null,
   "id": "d8ddcbcc",
   "metadata": {},
   "outputs": [],
   "source": [
    "WV02_features = [i for i in search_results if i['properties']['source'] == 'WV02']\n",
    "print(WV02_features)"
   ]
  },
  {
   "cell_type": "markdown",
   "id": "aa539ba8",
   "metadata": {},
   "source": [
    "An image can now be selected from the specified search. The first image in the `WV02_features` list will be utilized. Because a feature profile was not specified, the default profile will return features based on age. The first image will then be the newest image."
   ]
  },
  {
   "cell_type": "code",
   "execution_count": null,
   "id": "9d228962",
   "metadata": {},
   "outputs": [],
   "source": [
    "desired_image = WV02_features[0]\n",
    "desired_featureid = desired_image['id']\n",
    "print(desired_image)\n",
    "print(desired_featureid)"
   ]
  },
  {
   "cell_type": "markdown",
   "id": "82565686",
   "metadata": {},
   "source": [
    "### Download an Image\n",
    "With a feature isolated for downloading, a download location will need to be specified.\n",
    "*Note: This sets the output location to the current working directory with a file name of Download.jpeg.*"
   ]
  },
  {
   "cell_type": "code",
   "execution_count": null,
   "id": "22632b20",
   "metadata": {},
   "outputs": [],
   "source": [
    "import os\n",
    "output_location = os.path.join(os.getcwd(), 'Download.jpeg')\n",
    "print(output_location)"
   ]
  },
  {
   "cell_type": "markdown",
   "id": "5e5343b4",
   "metadata": {},
   "source": [
    "#### Download a list of tiles\n",
    "To download a list of tiles for the selected feature id, the function will need a bbox that is encompassed by the desired feature id and a zoom level."
   ]
  },
  {
   "cell_type": "markdown",
   "id": "e478cf96",
   "metadata": {},
   "source": [
    "Firstly, a user may want to know how many tiles fall in the desired bbox. The function below will return a list of lists containing the actual calls for the imagery, and tuples containing the row, column, and zoom level of the tiles within the bbox. The list has been subset to show only the tuples for this example."
   ]
  },
  {
   "cell_type": "code",
   "execution_count": null,
   "id": "b9c3fcfc",
   "metadata": {},
   "outputs": [],
   "source": [
    "tile_list = streaming_mgp.get_tile_list_with_zoom(bbox=bbox, zoom_level=13)\n",
    "print(len(tile_list[1]))\n",
    "print(tile_list[1])"
   ]
  },
  {
   "cell_type": "markdown",
   "id": "d5a172c5",
   "metadata": {},
   "source": [
    "The tiles can now be downloaded. Setting display to `True` will allow the images to be visualized after they download."
   ]
  },
  {
   "cell_type": "code",
   "execution_count": null,
   "id": "d9fbc5b0",
   "metadata": {},
   "outputs": [],
   "source": [
    "download_tile_list = streaming_mgp.download_tiles(bbox=bbox, zoom_level=13, img_format='jpeg', outputpath=output_location, display=True)"
   ]
  },
  {
   "cell_type": "markdown",
   "id": "f784fa60",
   "metadata": {},
   "source": [
    "#### Downloading an image via pixel count\n",
    "To download an image utilizing pixel count, the function will need the desired bbox, and the desired height and width for the image. The limit for height and width is anything greater than 8000, and cannot be less than 1. Setting display to `True` will allow images to be visualized after they download."
   ]
  },
  {
   "cell_type": "code",
   "execution_count": null,
   "id": "15ff01fa",
   "metadata": {},
   "outputs": [],
   "source": [
    "download_image_by_pixel_count = streaming_mgp.download_image_by_pixel_count(bbox=bbox, height=512, width=512, img_format='jpeg', outputpath=output_location, display=True, featurecollection=desired_featureid)"
   ]
  },
  {
   "cell_type": "markdown",
   "id": "16887e90",
   "metadata": {},
   "source": [
    "#### Downloading an image via pixel count with a different stacking profile"
   ]
  },
  {
   "cell_type": "code",
   "execution_count": null,
   "id": "1d68a007",
   "metadata": {},
   "outputs": [],
   "source": [
    "download_image_by_pixel_count = streaming_mgp.download_image_by_pixel_count(bbox=bbox, height=512, width=512, img_format='jpeg', outputpath=output_location, display=True, featureprofile=\"Global_Currency_Profile\")"
   ]
  },
  {
   "cell_type": "markdown",
   "id": "b5ac0db8",
   "metadata": {},
   "source": [
    "#### Download Full Resolution Image"
   ]
  },
  {
   "cell_type": "markdown",
   "id": "786d2dd7",
   "metadata": {},
   "source": [
    "######  This will be a large download of several files. \n",
    "The following function will download the full resolution of the imagery within the bbox. To download an entire strip in full resolution, omit the `bbox` variable. When declaring an output directory for a full resolution download, it must be a directory as opposed to a filename as instructed earlier. Printing the `download_full_res object` will return a message when the process is complete as well as the location of the files."
   ]
  },
  {
   "cell_type": "code",
   "execution_count": null,
   "id": "6a8cb678",
   "metadata": {},
   "outputs": [],
   "source": [
    "full_res_location = os.getcwd()\n",
    "download_full_res = streaming_mgp.get_full_res_image(desired_featureid, bbox=bbox, outputdirectory=full_res_location)\n",
    "print(download_full_res)"
   ]
  },
  {
   "cell_type": "markdown",
   "id": "400b59cc",
   "metadata": {},
   "source": [
    "Included in the download will be a file name \"Grid_cell_coordinates.txt\" It will include a list of coordinates for all the downloaded image sections. With this a user can reconstruct and geolocate the image."
   ]
  }
 ],
 "metadata": {
  "kernelspec": {
   "display_name": "Python 3 (ipykernel)",
   "language": "python",
   "name": "python3"
  },
  "language_info": {
   "codemirror_mode": {
    "name": "ipython",
    "version": 3
   },
   "file_extension": ".py",
   "mimetype": "text/x-python",
   "name": "python",
   "nbconvert_exporter": "python",
   "pygments_lexer": "ipython3",
   "version": "3.7.16"
  }
 },
 "nbformat": 4,
 "nbformat_minor": 5
}
