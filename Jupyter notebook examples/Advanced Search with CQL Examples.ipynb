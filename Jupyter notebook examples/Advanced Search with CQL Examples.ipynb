{
 "cells": [
  {
   "cell_type": "markdown",
   "id": "9052411f",
   "metadata": {},
   "source": [
    "## Advanced Search with CQL Examples\n",
    "\n",
    "This sample workflow will guide a user through using the Maxar Geospatial Platform SDK with real world examples. The process will go through:\n",
    "* Using a CQL filter with a bounding box\n",
    "* Using a CQL filter with different logic operators"
   ]
  },
  {
   "cell_type": "markdown",
   "id": "fbb7369a",
   "metadata": {},
   "source": [
    "#### Initialize the Maxar Geospatial Platform SDK Module"
   ]
  },
  {
   "cell_type": "code",
   "execution_count": null,
   "id": "d2860fa3",
   "metadata": {},
   "outputs": [],
   "source": [
    "from MGP_SDK.interface import Interface\n",
    "\n",
    "try:\n",
    "  interface = Interface() # if .MGP-config was created\n",
    "except:\n",
    "  interface = Interface('<user_name>','<user_password>', '<user_client_id>') # if .MGP-config was not created"
   ]
  },
  {
   "cell_type": "markdown",
   "id": "61c87421",
   "metadata": {},
   "source": [
    "#### Initialize the streaming portion of the Maxar Geospatial Platform SDK"
   ]
  },
  {
   "cell_type": "code",
   "execution_count": null,
   "id": "7bdec89c",
   "metadata": {},
   "outputs": [],
   "source": [
    "streaming_mgp = interface.streaming"
   ]
  },
  {
   "cell_type": "markdown",
   "id": "be35018d",
   "metadata": {},
   "source": [
    "#### Using a CQL Filter with a bbox\n",
    "In this example a filter is being applied to narrow down the features returned.\n",
    "*Note: Parenthesis must be included for each parameter when filtering.*"
   ]
  },
  {
   "cell_type": "code",
   "execution_count": null,
   "id": "ac465af6",
   "metadata": {},
   "outputs": [],
   "source": [
    "filter = \"(acquisitionDate>='2022-01-01')AND(cloudCover<0.20)\"\n",
    "bbox = \"39.84387,-105.05608,39.95133,-104.94827\"\n",
    "\n",
    "feature_dict = streaming_mgp.search(bbox=bbox, filter=filter)\n",
    "\n",
    "print('Total number of features: {}'.format(len(feature_dict)))\n",
    "print('Cloud Cover - Acquisition Date and Time - Feature ID')\n",
    "for item in feature_dict:\n",
    "    source = item['properties']['cloudCover']\n",
    "    acquisition_date = item['properties']['acquisitionDate']\n",
    "    feature = item['id']\n",
    "    print(source, '-', acquisition_date, '-', feature)"
   ]
  },
  {
   "cell_type": "markdown",
   "id": "7cff5ccc",
   "metadata": {},
   "source": [
    "#### CQL Filter with different logic operators\n",
    "In this example the CQL filter is formatted with `OR`, and `LIKE`."
   ]
  },
  {
   "cell_type": "code",
   "execution_count": null,
   "id": "02d8d028",
   "metadata": {},
   "outputs": [],
   "source": [
    "filter = \"(acquisitionDate>='2022-01-01')AND(source='WV01' OR source LIKE 'WV03')\"\n",
    "bbox = \"39.84387,-105.05608,39.95133,-104.94827\"\n",
    "feature_dict = streaming_mgp.search(bbox=bbox, filter=filter)\n",
    "\n",
    "print('Total number of features: {}'.format(len(feature_dict)))\n",
    "print('Source - Acquisition Date and Time - Feature ID')\n",
    "for item in feature_dict:\n",
    "    source = item['properties']['source']\n",
    "    acquisition_date = item['properties']['acquisitionDate']\n",
    "    feature = item['id']\n",
    "    print(source, '-', acquisition_date, '-', feature)"
   ]
  },
  {
   "cell_type": "markdown",
   "id": "1917d6bd",
   "metadata": {},
   "source": [
    "In this example the CQL filter is formatted with `LIKE` and a wildcard to return only `WV01` and `WV02`. WV03 is not returned because it is followed by more than one character. Note: The `_` is a wildcard character that matches exactly one character."
   ]
  },
  {
   "cell_type": "code",
   "execution_count": null,
   "id": "f632478c",
   "metadata": {},
   "outputs": [],
   "source": [
    "filter = \"(acquisitionDate>='2022-01-01')AND(source LIKE 'WV0_')\"\n",
    "bbox = \"39.84387,-105.05608,39.95133,-104.94827\"\n",
    "feature_dict = streaming_mgp.search(bbox=bbox, filter=filter)\n",
    "\n",
    "print('Total number of features: {}'.format(len(feature_dict)))\n",
    "for item in feature_dict:\n",
    "    print(item['properties']['source'])"
   ]
  },
  {
   "cell_type": "markdown",
   "id": "270c2d62",
   "metadata": {},
   "source": [
    "In this example the CQL filter is filtering by `cloudCover` and `groundSampleDistance` to retrieve tiles with high resolution and low cloud cover."
   ]
  },
  {
   "cell_type": "code",
   "execution_count": null,
   "id": "6ae22108",
   "metadata": {},
   "outputs": [],
   "source": [
    "filter = \"(groundSampleDistance<=0.3)AND(cloudCover<0.10)\"\n",
    "bbox = \"39.84387,-105.05608,39.95133,-104.94827\"\n",
    "feature_dict = streaming_mgp.search(bbox=bbox, filter=filter)\n",
    "for item in feature_dict:\n",
    "    print(str(item['properties']['groundSampleDistance']) + ' GSD ' + str(item['properties']['cloudCover']) + ' Cloud Cover')"
   ]
  },
  {
   "cell_type": "markdown",
   "id": "a262a201",
   "metadata": {},
   "source": [
    "In this example the CQL filter is filtering by `offNadirAngle` (ONA)."
   ]
  },
  {
   "cell_type": "code",
   "execution_count": null,
   "id": "c3e47cee",
   "metadata": {},
   "outputs": [],
   "source": [
    "filter = \"offNadirAngle<=1\"\n",
    "bbox = \"39.84387,-105.05608,39.95133,-104.94827\"\n",
    "feature_dict = streaming_mgp.search(bbox=bbox, filter=filter)\n",
    "for item in feature_dict:\n",
    "    print(str(item['properties']['offNadirAngle']) + ' GSD ')"
   ]
  },
  {
   "cell_type": "markdown",
   "id": "ad1941e8",
   "metadata": {},
   "source": [
    "In this example, the CQL filter is filtering by legacy ID, also known as catalog ID. Legacy IDs are how Maxar images are denoted in the archive. A user can find them throughout [Discover](Discover.Maxar.com) and in SecureWatch and GEGD (only in SecureWatch Premium). The following function will assume an image has been found in Discover by a user and will check and see if it is available in the Securewatch online catalog."
   ]
  },
  {
   "cell_type": "code",
   "execution_count": null,
   "id": "59d94f26",
   "metadata": {},
   "outputs": [],
   "source": [
    "filter =\"legacyIdentifier = '104A01004D1E1900'\"\n",
    "feature_dict = streaming_mgp.search(filter=filter)\n",
    "print(feature_dict)"
   ]
  },
  {
   "cell_type": "markdown",
   "id": "595e24fc",
   "metadata": {},
   "source": [
    "For a list of all CQL parameters please see full documentation [here](https://securewatchdocs.maxar.com/en-us/Miscellaneous/DevGuides/Common_Query_Language/Query.htm?Highlight=cql)."
   ]
  }
 ],
 "metadata": {
  "kernelspec": {
   "display_name": "Python 3 (ipykernel)",
   "language": "python",
   "name": "python3"
  },
  "language_info": {
   "codemirror_mode": {
    "name": "ipython",
    "version": 3
   },
   "file_extension": ".py",
   "mimetype": "text/x-python",
   "name": "python",
   "nbconvert_exporter": "python",
   "pygments_lexer": "ipython3",
   "version": "3.7.16"
  }
 },
 "nbformat": 4,
 "nbformat_minor": 5
}
