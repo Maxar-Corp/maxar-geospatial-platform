{
 "cells": [
  {
   "cell_type": "markdown",
   "id": "805c6497",
   "metadata": {},
   "source": [
    "## Getting Started with the Maxar Geospatial Platform Tokens SDK\n",
    "\n",
    "This sample workflow will guide a user through using the tokens class of the Maxar Geospatial Platform SDK with real world examples. The process will go through:\n",
    "* Listing all of a user's tokens\n",
    "* Creating a new token\n",
    "* Deleting a single token\n",
    "* Deleting multiple tokens"
   ]
  },
  {
   "cell_type": "markdown",
   "id": "14eccf70",
   "metadata": {},
   "source": [
    "Tokens are used to integrate certain 3rd party content with the Maxar Geospatial Platform, such as ESRI products."
   ]
  },
  {
   "cell_type": "markdown",
   "id": "5a6b5964",
   "metadata": {},
   "source": [
    "#### Initialize the Maxar Geospatial Platform SDK Module"
   ]
  },
  {
   "cell_type": "code",
   "execution_count": null,
   "id": "51bca4a6",
   "metadata": {},
   "outputs": [],
   "source": [
    "from MGP_SDK.interface import Interface\n",
    "\n",
    "try:\n",
    "  interface = Interface() # if .MGP-config was created\n",
    "except:\n",
    "  interface = Interface('<user_name>','<user_password>', '<user_client_id>') # if .MGP-config was not created"
   ]
  },
  {
   "cell_type": "markdown",
   "id": "27c7a9a6",
   "metadata": {},
   "source": [
    "#### Initialize the token portion of the Maxar Portal SDK"
   ]
  },
  {
   "cell_type": "code",
   "execution_count": null,
   "id": "8f24192b",
   "metadata": {},
   "outputs": [],
   "source": [
    "mgp_token = interface.token"
   ]
  },
  {
   "cell_type": "markdown",
   "id": "9dc45973",
   "metadata": {},
   "source": [
    "#### List all tokens\n",
    "The following function will list out all token ids associated with a user."
   ]
  },
  {
   "cell_type": "code",
   "execution_count": null,
   "id": "bfbe2570",
   "metadata": {},
   "outputs": [],
   "source": [
    "my_tokens = mgp_token.get_user_tokens()\n",
    "print(my_tokens)"
   ]
  },
  {
   "cell_type": "markdown",
   "id": "e27b7e47",
   "metadata": {},
   "source": [
    "#### Create a new token\n",
    "A token can be named and have a description included in it."
   ]
  },
  {
   "cell_type": "code",
   "execution_count": null,
   "id": "cc1ce3f8",
   "metadata": {},
   "outputs": [],
   "source": [
    "new_token = mgp_token.create_token_record(name=\"My new token\", description=\"This is my first token\")\n",
    "print(new_token)"
   ]
  },
  {
   "cell_type": "markdown",
   "id": "6b34531b",
   "metadata": {},
   "source": [
    "#### Delete token\n",
    "One or more tokens can be deleted when given one or more token ids. Pass a string of the id to delete one token or a list of strings of the ids to delete multiple tokens."
   ]
  },
  {
   "cell_type": "markdown",
   "id": "04565c6e",
   "metadata": {},
   "source": [
    "Grab the token id to pass it into the delete function"
   ]
  },
  {
   "cell_type": "code",
   "execution_count": null,
   "id": "f4a674eb",
   "metadata": {},
   "outputs": [],
   "source": [
    "token_id = mgp_token.get_user_tokens()[0]['id']\n",
    "\n",
    "delete_token = mgp_token.delete_tokens(token_id)\n",
    "print(delete_token)"
   ]
  },
  {
   "cell_type": "markdown",
   "id": "fd91a79d",
   "metadata": {},
   "source": [
    "If more than one token needs to be deleted, grab all of the token ids to pass into the delete function"
   ]
  },
  {
   "cell_type": "code",
   "execution_count": null,
   "id": "27c836cd",
   "metadata": {},
   "outputs": [],
   "source": [
    "token_ids = [i['id'] for i in tokens.get_user_tokens()]\n",
    "\n",
    "delete_multiple_tokens = mgp_token.delete_tokens(token_ids)\n",
    "print(delete_multiple_tokens)"
   ]
  }
 ],
 "metadata": {
  "kernelspec": {
   "display_name": "Python 3 (ipykernel)",
   "language": "python",
   "name": "python3"
  },
  "language_info": {
   "codemirror_mode": {
    "name": "ipython",
    "version": 3
   },
   "file_extension": ".py",
   "mimetype": "text/x-python",
   "name": "python",
   "nbconvert_exporter": "python",
   "pygments_lexer": "ipython3",
   "version": "3.7.16"
  }
 },
 "nbformat": 4,
 "nbformat_minor": 5
}
