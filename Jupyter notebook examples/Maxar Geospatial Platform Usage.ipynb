{
 "cells": [
  {
   "cell_type": "markdown",
   "id": "d71b5cbf",
   "metadata": {},
   "source": [
    "## Usage"
   ]
  },
  {
   "cell_type": "markdown",
   "id": "9120a487",
   "metadata": {},
   "source": [
    "#### The following functionality is intended for account administrators and will not work with base user permissions"
   ]
  },
  {
   "cell_type": "markdown",
   "id": "67be30dd",
   "metadata": {},
   "source": [
    "#### Initialize the Maxar Geospatial Platform SDK Module"
   ]
  },
  {
   "cell_type": "code",
   "execution_count": null,
   "id": "6c2ad630",
   "metadata": {},
   "outputs": [],
   "source": [
    "from MGP_SDK.interface import Interface\n",
    "\n",
    "try:\n",
    "  interface = Interface() # if .MGP-config was created\n",
    "except:\n",
    "  interface = Interface('<user_name>','<user_password>', '<user_client_id>') # if .MGP-config was not created"
   ]
  },
  {
   "cell_type": "markdown",
   "id": "f7e99ef6",
   "metadata": {},
   "source": [
    "#### Initialize the usage portion of the account-services class for Maxar Geospatial Platform SDK"
   ]
  },
  {
   "cell_type": "code",
   "execution_count": null,
   "id": "b271e22a",
   "metadata": {},
   "outputs": [],
   "source": [
    "mgp_usage = interface.account_service.usage"
   ]
  },
  {
   "cell_type": "markdown",
   "id": "812e051a",
   "metadata": {},
   "source": [
    "#### Get usage for an account\n",
    "The following command will detail usage and amounts for your account."
   ]
  },
  {
   "cell_type": "code",
   "execution_count": null,
   "id": "12bcffce",
   "metadata": {},
   "outputs": [],
   "source": [
    "my_account_usage = mgp_usage.get_account_usage()\n",
    "print(my_account_usage)"
   ]
  },
  {
   "cell_type": "markdown",
   "id": "03a2a099",
   "metadata": {},
   "source": [
    "#### Get usage for an activation\n",
    "The following command will detail usage and amounts for your activation."
   ]
  },
  {
   "cell_type": "code",
   "execution_count": null,
   "id": "782ba3ec",
   "metadata": {},
   "outputs": [],
   "source": [
    "my_activation_usage = mgp_usage.get_activation_usage()\n",
    "print(my_activation_usage)"
   ]
  },
  {
   "cell_type": "markdown",
   "id": "18485e5b",
   "metadata": {},
   "source": [
    "#### Get usage for a user\n",
    "The following command will detail usage and amounts for all users under the same activation."
   ]
  },
  {
   "cell_type": "code",
   "execution_count": null,
   "id": "1cf627f0",
   "metadata": {},
   "outputs": [],
   "source": [
    "my_users_usage = mgp_usage.get_user_usage()\n",
    "print(my_users_usage)"
   ]
  },
  {
   "cell_type": "markdown",
   "id": "3d393b10",
   "metadata": {},
   "source": [
    "Users can also be sorted by a variety of values. The below example shows how users can be sorted by username."
   ]
  },
  {
   "cell_type": "code",
   "execution_count": null,
   "id": "79cc96f7",
   "metadata": {},
   "outputs": [],
   "source": [
    "my_sorted_users_usage = mgp_usage.get_user_usage(sortBy='username')\n",
    "print(my_sorted_users_usage)"
   ]
  },
  {
   "cell_type": "markdown",
   "id": "6d537ffe",
   "metadata": {},
   "source": [
    "#### Check Usage Overview\n",
    "The following command will detail how to see an overview of the usage used for each product on your activation."
   ]
  },
  {
   "cell_type": "markdown",
   "id": "a262a132",
   "metadata": {},
   "source": [
    "#### Initialize the usage-service class for Maxar Geospatial Platform SDK"
   ]
  },
  {
   "cell_type": "code",
   "execution_count": null,
   "id": "396eb86f",
   "metadata": {},
   "outputs": [],
   "source": [
    "mgp_usage = interface.usage_service"
   ]
  },
  {
   "cell_type": "code",
   "execution_count": null,
   "id": "c4017260",
   "metadata": {},
   "outputs": [],
   "source": [
    "my_usage_overview = mgp_usage.get_usage_overview()\n",
    "print(my_usage_overview)"
   ]
  }
 ],
 "metadata": {
  "kernelspec": {
   "display_name": "Python 3 (ipykernel)",
   "language": "python",
   "name": "python3"
  },
  "language_info": {
   "codemirror_mode": {
    "name": "ipython",
    "version": 3
   },
   "file_extension": ".py",
   "mimetype": "text/x-python",
   "name": "python",
   "nbconvert_exporter": "python",
   "pygments_lexer": "ipython3",
   "version": "3.7.16"
  }
 },
 "nbformat": 4,
 "nbformat_minor": 5
}
