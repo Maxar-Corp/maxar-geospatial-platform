{
 "cells": [
  {
   "cell_type": "markdown",
   "id": "fe4aa16e",
   "metadata": {},
   "source": [
    "## Getting Started with the Maxar Geospatial Platform Vector Analytics SDK\n",
    "\n",
    "This sample workflow will guide a user through using the Vector Anayltics class of the Maxar Geospatial Platform SDK with real world examples. The process will go through:\n",
    "* Searching vector data\n",
    "* Returning a WMS image of vector data\n",
    "* Returning a WMTS tile of vector data"
   ]
  },
  {
   "cell_type": "markdown",
   "id": "9aac6ef2",
   "metadata": {},
   "source": [
    "#### Initialize the Maxar Geospatial Platform SDK Module"
   ]
  },
  {
   "cell_type": "code",
   "execution_count": null,
   "id": "9234eb63",
   "metadata": {},
   "outputs": [],
   "source": [
    "from MGP_SDK.interface import Interface\n",
    "\n",
    "try:\n",
    "  interface = Interface() # if .MGP-config was created\n",
    "except:\n",
    "  interface = Interface('<user_name>','<user_password>', '<user_client_id>') # if .MGP-config was not created"
   ]
  },
  {
   "cell_type": "markdown",
   "id": "280df334",
   "metadata": {},
   "source": [
    "#### Initialize the analytics portion of the Maxar Geospatial Platform SDK"
   ]
  },
  {
   "cell_type": "code",
   "execution_count": null,
   "id": "1215029a",
   "metadata": {},
   "outputs": [],
   "source": [
    "vector = interface.analytics"
   ]
  },
  {
   "cell_type": "markdown",
   "id": "d10f23ac",
   "metadata": {},
   "source": [
    "#### Search vector data"
   ]
  },
  {
   "cell_type": "markdown",
   "id": "173b7f9e",
   "metadata": {},
   "source": [
    "A user can search vector data utilizing a WFS request. Below are some pre-set variables to expedite the process."
   ]
  },
  {
   "cell_type": "code",
   "execution_count": null,
   "id": "f6c4963c",
   "metadata": {},
   "outputs": [],
   "source": [
    "wfs_layer = \"Maxar:layer_pcm_eo_2020\"\n",
    "crs = \"EPSG:3857\"\n",
    "bbox = \"2906457.1468749936,6156843.81394108,2906625.5196899557,6156993.093378235\""
   ]
  },
  {
   "cell_type": "markdown",
   "id": "fe9dd188",
   "metadata": {},
   "source": [
    "With the variables set, the WFS request can now be ran."
   ]
  },
  {
   "cell_type": "code",
   "execution_count": null,
   "id": "7772be17",
   "metadata": {},
   "outputs": [],
   "source": [
    "features = vector.search_vector_layer(layers=wfs_layer, bbox=bbox, srsname=crs)\n",
    "print(features)"
   ]
  },
  {
   "cell_type": "markdown",
   "id": "eed51a93",
   "metadata": {},
   "source": [
    "This response will show each individual vector object for the `pcm_eo_2020` layer. A user can choose which feature or features they want by filtering the response by the `uuid`. This example will grab the first 5 uuids and set them to a list."
   ]
  },
  {
   "cell_type": "code",
   "execution_count": null,
   "id": "81ccb200",
   "metadata": {},
   "outputs": [],
   "source": [
    "feature_list = []\n",
    "for feature in features[:5]:\n",
    "    feature_list.append(feature['properties']['uuid'])\n",
    "print(feature_list)"
   ]
  },
  {
   "cell_type": "markdown",
   "id": "d4443364",
   "metadata": {},
   "source": [
    "#### Return a WMS image of vector data"
   ]
  },
  {
   "cell_type": "markdown",
   "id": "78303a2c",
   "metadata": {},
   "source": [
    "Once a user has procured their desired feature(s), a WMS request can be ran on said feature(s) to display the vector object and download it/them to a desired location. Some pre-set variables are shown below."
   ]
  },
  {
   "cell_type": "code",
   "execution_count": null,
   "id": "47d01a7d",
   "metadata": {},
   "outputs": [],
   "source": [
    "layer = \"pcm_eo_2020\"\n",
    "path = \"<Desired\\output\\path>\""
   ]
  },
  {
   "cell_type": "code",
   "execution_count": null,
   "id": "dd4fa429",
   "metadata": {},
   "outputs": [],
   "source": [
    "import os\n",
    "for item in feature_list:\n",
    "    filename = \"{}.png\".format(item)\n",
    "    wms_image = vector.download_vector_analytics(layers=layer, bbox=bbox, srsname=crs, outputpath=os.path.join(path, filename), filter=\"uuid='{}'\".format(item), display=True)"
   ]
  },
  {
   "cell_type": "markdown",
   "id": "5f952cb5",
   "metadata": {},
   "source": [
    "Alternatively, a user can also run the WMS request on the Area Of Interest (AOI) without the uuids called to download and show the vector objects over the entire AOI."
   ]
  },
  {
   "cell_type": "code",
   "execution_count": null,
   "id": "f1baad54",
   "metadata": {},
   "outputs": [],
   "source": [
    "path = \"<Desired\\output\\path\\image.file_extenstion>\"\n",
    "wms_full = vector.download_vector_analytics(layers=layer, bbox=bbox, srsname=crs, outputpath=path, display=True)\n",
    "print(wms_full)"
   ]
  },
  {
   "cell_type": "markdown",
   "id": "b67ae975",
   "metadata": {},
   "source": [
    "#### Return a WMTS tile of vector data"
   ]
  },
  {
   "cell_type": "markdown",
   "id": "897834f7",
   "metadata": {},
   "source": [
    "A user can also access tiles that contain vector data utilizing a WMTS request. Currently, WMTS for vector data only runs in the projection `EPSG:4326`. A user can translate their `EPSG:3857` bounding box utilizing the cell below."
   ]
  },
  {
   "cell_type": "code",
   "execution_count": null,
   "id": "4377c476",
   "metadata": {},
   "outputs": [],
   "source": [
    "from pyproj import Transformer\n",
    "box_transform = bbox.split(',')\n",
    "mins1 = box_transform[:2]\n",
    "maxs1 = box_transform[2:]\n",
    "mins1_order = mins1[::-1]\n",
    "maxs1_order = maxs1[::-1]\n",
    "transformer = Transformer.from_crs(\"EPSG:3857\", \"EPSG:4326\")\n",
    "mins = transformer.transform(float(mins1_order[0]), float(mins1_order[1]))\n",
    "maxs = transformer.transform(float(maxs1_order[0]), float(maxs1_order[1]))\n",
    "joined = mins + maxs\n",
    "bbox_4326 = \",\".join(map(str, joined))\n",
    "print(bbox_4326)"
   ]
  },
  {
   "cell_type": "markdown",
   "id": "ef39f64e",
   "metadata": {},
   "source": [
    "With the bounding box now set to `EPSG:4326`, a user can utilize the variables set previously in this notebook with the new bounding box."
   ]
  },
  {
   "cell_type": "code",
   "execution_count": null,
   "id": "72d1b5e2",
   "metadata": {},
   "outputs": [],
   "source": [
    "wmts_vector = vector.download_vector_tiles(layers=layer, zoom_level=15, bbox=bbox_4326, outputpath=path, display=True)"
   ]
  }
 ],
 "metadata": {
  "kernelspec": {
   "display_name": "Python 3 (ipykernel)",
   "language": "python",
   "name": "python3"
  },
  "language_info": {
   "codemirror_mode": {
    "name": "ipython",
    "version": 3
   },
   "file_extension": ".py",
   "mimetype": "text/x-python",
   "name": "python",
   "nbconvert_exporter": "python",
   "pygments_lexer": "ipython3",
   "version": "3.7.16"
  }
 },
 "nbformat": 4,
 "nbformat_minor": 5
}
