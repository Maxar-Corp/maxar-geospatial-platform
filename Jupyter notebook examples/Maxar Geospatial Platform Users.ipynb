{
 "cells": [
  {
   "cell_type": "markdown",
   "id": "26fd53b4",
   "metadata": {},
   "source": [
    "## Users"
   ]
  },
  {
   "cell_type": "markdown",
   "id": "fda2ef9f",
   "metadata": {},
   "source": [
    "#### The following functionality is intended for account administrators and will not work with base user permissions"
   ]
  },
  {
   "cell_type": "markdown",
   "id": "63ec9eca",
   "metadata": {},
   "source": [
    "#### Initialize the Maxar Geospatial Platform SDK Module"
   ]
  },
  {
   "cell_type": "code",
   "execution_count": null,
   "id": "36f5c19f",
   "metadata": {},
   "outputs": [],
   "source": [
    "from MGP_SDK.interface import Interface\n",
    "\n",
    "try:\n",
    "  interface = Interface() # if .MGP-config was created\n",
    "except:\n",
    "  interface = Interface('<user_name>','<user_password>', '<user_client_id>') # if .MGP-config was not created"
   ]
  },
  {
   "cell_type": "markdown",
   "id": "7e66bdb7",
   "metadata": {},
   "source": [
    "#### Initialize the users portion of the account-services class for Maxar Geospatial Platform SDK"
   ]
  },
  {
   "cell_type": "code",
   "execution_count": null,
   "id": "56f091c0",
   "metadata": {},
   "outputs": [],
   "source": [
    "mgp_users = interface.account_service.users"
   ]
  },
  {
   "cell_type": "markdown",
   "id": "87bb33b7",
   "metadata": {},
   "source": [
    "#### List all users within an account\n",
    "The following command will return dictionary with all of the information of the user or users that are tied to the user's account"
   ]
  },
  {
   "cell_type": "code",
   "execution_count": null,
   "id": "752ac8e7",
   "metadata": {},
   "outputs": [],
   "source": [
    "my_users = mgp_users.get_users()\n",
    "print(my_users)"
   ]
  },
  {
   "cell_type": "markdown",
   "id": "5d533c29",
   "metadata": {},
   "source": [
    "If the user knows the specific user id or username for a user, that can be passed into the get_users function to return the information on that specific user. NOTE: The activation id is not the activation number. The activation id is the identifier within the database."
   ]
  },
  {
   "cell_type": "code",
   "execution_count": null,
   "id": "986bccda",
   "metadata": {},
   "outputs": [],
   "source": [
    "my_users = mgp_users.get_users(user_id=\"<desired-user_id>\")\n",
    "print(my_users)"
   ]
  },
  {
   "cell_type": "code",
   "execution_count": null,
   "id": "20b1e1c5",
   "metadata": {},
   "outputs": [],
   "source": [
    "my_users = mgp_users.get_users(username=\"<desired-username>\")\n",
    "print(my_users)"
   ]
  },
  {
   "cell_type": "markdown",
   "id": "95c06e6b",
   "metadata": {},
   "source": [
    "#### Searching users\n",
    "In some cases there may be multiple users tied to an account. In this example, a user can see how to search through users with vague search terms in order to narrow down which activaiton is desired. Search terms can be usernames, roles, etc."
   ]
  },
  {
   "cell_type": "code",
   "execution_count": null,
   "id": "8c69a2a8",
   "metadata": {},
   "outputs": [],
   "source": [
    "my_search = mgp_users.search(\"Bob\")\n",
    "print(my_search)"
   ]
  },
  {
   "cell_type": "markdown",
   "id": "4e71546a",
   "metadata": {},
   "source": [
    "#### Creating a user\n",
    "An account admin has the ability to create, update, and delete new users for their account. The following example will demonstrate how to set up a base user, update the user, and delete the user. We will set some variables prior to running the command to make it more readable."
   ]
  },
  {
   "cell_type": "code",
   "execution_count": null,
   "id": "7ce16097",
   "metadata": {},
   "outputs": [],
   "source": [
    "user = \"BASE_USER\"\n",
    "acctId = \"<you_account_id>\"\n",
    "activId = \"<your_activation_id>\"\n",
    "email = \"Bob@test.com\"\n",
    "first = \"Bob\"\n",
    "last = \"Smith\"\n",
    "country = \"United States of America\"\n",
    "\n",
    "new_user = mgp_users.create_user(user, acctId, activId, email, first, last, country)\n",
    "print(new_user)"
   ]
  },
  {
   "cell_type": "markdown",
   "id": "466ae693",
   "metadata": {},
   "source": [
    "#### Updating a user\n",
    "NOTE: The account the user is tied to and the type of user cannot be edited."
   ]
  },
  {
   "cell_type": "markdown",
   "id": "424eca99",
   "metadata": {},
   "source": [
    "Firstly, we will search for the desired user's user_id, as this is needed to make the call work."
   ]
  },
  {
   "cell_type": "code",
   "execution_count": null,
   "id": "35d57d28",
   "metadata": {},
   "outputs": [],
   "source": [
    "user = mgp_users.search(\"Bob\")['users'][0]['userId']\n",
    "print(user)"
   ]
  },
  {
   "cell_type": "markdown",
   "id": "4fccc8a9",
   "metadata": {},
   "source": [
    "Now we will change the desired variable"
   ]
  },
  {
   "cell_type": "code",
   "execution_count": null,
   "id": "179da6c5",
   "metadata": {},
   "outputs": [],
   "source": [
    "new_first = \"John\"\n",
    "\n",
    "update_user = mgp_users.update_user(user_id=user, firstName=new_first)\n",
    "print(update_user)"
   ]
  },
  {
   "cell_type": "markdown",
   "id": "558b2371",
   "metadata": {},
   "source": [
    "#### Deleting a user\n",
    "To delete a user, pass in the user's id into the delete function"
   ]
  },
  {
   "cell_type": "code",
   "execution_count": null,
   "id": "42e72db1",
   "metadata": {},
   "outputs": [],
   "source": [
    "delete_user = mgp_users.delete_user(user)\n",
    "print(delete_user)"
   ]
  }
 ],
 "metadata": {
  "kernelspec": {
   "display_name": "Python 3 (ipykernel)",
   "language": "python",
   "name": "python3"
  },
  "language_info": {
   "codemirror_mode": {
    "name": "ipython",
    "version": 3
   },
   "file_extension": ".py",
   "mimetype": "text/x-python",
   "name": "python",
   "nbconvert_exporter": "python",
   "pygments_lexer": "ipython3",
   "version": "3.7.16"
  }
 },
 "nbformat": 4,
 "nbformat_minor": 5
}
