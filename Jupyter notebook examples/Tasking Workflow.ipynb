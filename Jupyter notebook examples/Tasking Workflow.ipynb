{
 "cells": [
  {
   "cell_type": "markdown",
   "id": "b30d60d5",
   "metadata": {},
   "source": [
    "## Tasking Workflow\n",
    "\n",
    "In this example workflow, a user will be shown how to:\n",
    "* View pipelines\n",
    "* Create a tasking request\n",
    "* View a tasking request\n",
    "* Cancel a tasking request"
   ]
  },
  {
   "cell_type": "markdown",
   "id": "74bb9061",
   "metadata": {},
   "source": [
    "#### Initialize the Maxar Geospatial Platform SDK Module"
   ]
  },
  {
   "cell_type": "code",
   "execution_count": null,
   "id": "10eaba45",
   "metadata": {},
   "outputs": [],
   "source": [
    "from MGP_SDK.interface import Interface\n",
    "\n",
    "try:\n",
    "  interface = Interface() # if .MGP-config was created\n",
    "except:\n",
    "  interface = Interface('<user_name>','<user_password>', '<user_client_id>') # if .MGP-config was not created"
   ]
  },
  {
   "cell_type": "markdown",
   "id": "17612836",
   "metadata": {},
   "source": [
    "#### Initialize the Tasking portion of the Maxar Geospatial Platform SDK"
   ]
  },
  {
   "cell_type": "code",
   "execution_count": null,
   "id": "5f8c708b",
   "metadata": {},
   "outputs": [],
   "source": [
    "mgp_tasking = interface.tasking_service"
   ]
  },
  {
   "cell_type": "markdown",
   "id": "c99f60d5",
   "metadata": {},
   "source": [
    "#### Getting a Pipeline"
   ]
  },
  {
   "cell_type": "markdown",
   "id": "c1032af7",
   "metadata": {},
   "source": [
    "Before we begin, we will want to find a pipeline to work with and the necessary information needed for the pipeline. If you are unfamiliar with a pipeline and what is needed for the order to work, you can use the get_pipeline_details function to determine what information needs to be passed in."
   ]
  },
  {
   "cell_type": "code",
   "execution_count": null,
   "id": "9292e5a5",
   "metadata": {},
   "outputs": [],
   "source": [
    "mgp_ordering = interface.order_service"
   ]
  },
  {
   "cell_type": "markdown",
   "id": "aae34a7c",
   "metadata": {},
   "source": [
    "In this case, we want to use the *map-ready* pipeline with the namespace of *imagery*. With our pipeline identified, we can narrow down the response of the get_pipeline_details function to show us the necessary information needed to place a tasking request"
   ]
  },
  {
   "cell_type": "code",
   "execution_count": null,
   "id": "b702507f",
   "metadata": {},
   "outputs": [],
   "source": [
    "map_pipeline = mgp_ordering.get_pipeline_details(namespace='imagery', name='map-ready')\n",
    "required_info = map_pipeline['data']['settings_schema']['required']\n",
    "print(\"The required information needed to place an order on this pipeline is: {}\".format(required_info))\n",
    "for info in required_info:\n",
    "    type_info = map_pipeline['data']['settings_schema']['properties'][info]\n",
    "    print(\"The type of data for {} is: {}\".format(info, type_info))"
   ]
  },
  {
   "cell_type": "markdown",
   "id": "2df4be57",
   "metadata": {},
   "source": [
    "#### Create a Tasking Request"
   ]
  },
  {
   "cell_type": "markdown",
   "id": "51f1f842",
   "metadata": {},
   "source": [
    "Before we create a tasking request, we will need to import the datetime module to make it easier to get UTC dates in ISO-8601 format"
   ]
  },
  {
   "cell_type": "code",
   "execution_count": null,
   "id": "ccfe0683",
   "metadata": {},
   "outputs": [],
   "source": [
    "import datetime\n",
    "\n",
    "now_start = datetime.datetime.utcnow() + datetime.timedelta(minutes=10)\n",
    "now_time = now_start.isoformat()\n",
    "end_start = datetime.datetime.utcnow() + datetime.timedelta(days=1)\n",
    "end_time = end_start.isoformat()\n",
    "now = now_time.replace(now_time[-7:], \"+00:00\")\n",
    "end = end_time.replace(now_time[-7:], \"+00:00\")\n",
    "print(now)\n",
    "print(end)"
   ]
  },
  {
   "cell_type": "markdown",
   "id": "a158fb84",
   "metadata": {},
   "source": [
    "Having set our beginning and ending times, we now need to set up our tasking template. Using the information gathered from the pipeline request, we can construct a template. *NOTE: The inventory_ids field needs to be included in the tasking request, but no ids need to be passed in. Instead, use the string shown in the list as a placeholder*"
   ]
  },
  {
   "cell_type": "code",
   "execution_count": null,
   "id": "f2329282",
   "metadata": {},
   "outputs": [],
   "source": [
    "settings = {\"inventory_ids\": [\"$.id\"], \"customer_description\": \"Your description\"}\n",
    "output_config = {\"amazon_s3\": {\"bucket\": \"yourS3BucketName\", \"prefix\": \"your/S3/bucket/prefix/name\"}}\n",
    "notifications = {\"type\": \"email\", \"target\": \"your.email@address.com\", \"level\": \"INITIAL_FINAL\"}"
   ]
  },
  {
   "cell_type": "code",
   "execution_count": null,
   "id": "8822d675",
   "metadata": {},
   "outputs": [],
   "source": [
    "template = [{\n",
    "    \"pipeline\": \"imagery/map-ready\",\n",
    "    \"template\": {\n",
    "        \"settings\": settings,\n",
    "        \"output_config\": output_config,\n",
    "        \"notifications\": [notifications],\n",
    "        \"metadata\": {\n",
    "            \"project_id\": \"Your tasking name\"\n",
    "        }\n",
    "    }\n",
    "}]"
   ]
  },
  {
   "cell_type": "markdown",
   "id": "f248d3f3",
   "metadata": {},
   "source": [
    "We will also set our geoJSON in advance to use in the tasking request"
   ]
  },
  {
   "cell_type": "code",
   "execution_count": null,
   "id": "89333662",
   "metadata": {},
   "outputs": [],
   "source": [
    "coordinates = {\n",
    "    \"type\": \"Polygon\", \n",
    "    \"coordinates\": [\n",
    "        [\n",
    "            [152.931404, -27.556982],\n",
    "            [153.172073, -27.556982],\n",
    "            [153.172073, -27.394936],\n",
    "            [152.931404, -27.394936],\n",
    "            [152.931404, -27.556982]\n",
    "        ]\n",
    "    ]\n",
    "}"
   ]
  },
  {
   "cell_type": "markdown",
   "id": "76743076",
   "metadata": {},
   "source": [
    "With our variables set, we can now submit a tasking request. First, let's run a validation on our tasking request to make sure that everything is formatted correctly. We will be using the 50cm_Color recipe for this example"
   ]
  },
  {
   "cell_type": "code",
   "execution_count": null,
   "id": "3eeff829",
   "metadata": {},
   "outputs": [],
   "source": [
    "tasking_validation = mgp_tasking.new_tasking(start_datetime=now, end_datetime=end, aoi_geojson=coordinates, \n",
    "                                             recipe='50cm_Color', order_templates=template, validate=True)\n",
    "print(tasking_validation)"
   ]
  },
  {
   "cell_type": "markdown",
   "id": "0ed1e6cd",
   "metadata": {},
   "source": [
    "With our validaton passing, we can now run the full tasking request"
   ]
  },
  {
   "cell_type": "code",
   "execution_count": null,
   "id": "4ac0b34d",
   "metadata": {},
   "outputs": [],
   "source": [
    "tasking = mgp_tasking.new_tasking(start_datetime=now, end_datetime=end, aoi_geojson=coordinates, \n",
    "                                  recipe='50cm_Color', order_templates=template)\n",
    "tasking_id = tasking['data']['id']\n",
    "print(tasking)"
   ]
  },
  {
   "cell_type": "markdown",
   "id": "cf5460f6",
   "metadata": {},
   "source": [
    "#### Viewing Tasking Requests"
   ]
  },
  {
   "cell_type": "markdown",
   "id": "efb08ed8",
   "metadata": {},
   "source": [
    "The tasking request has been submitted and the tasking_id has been set to a variable for use further along in the workflow. With the request submitted, we can now check on the status of the request with the get_tasking_request function"
   ]
  },
  {
   "cell_type": "code",
   "execution_count": null,
   "id": "f5cd3b15",
   "metadata": {},
   "outputs": [],
   "source": [
    "my_tasking = mgp_tasking.get_tasking_request(tasking_id=tasking_id)\n",
    "print(my_tasking)"
   ]
  },
  {
   "cell_type": "markdown",
   "id": "e376a08e",
   "metadata": {},
   "source": [
    "#### Cancel a Tasking Request"
   ]
  },
  {
   "cell_type": "markdown",
   "id": "6a189a82",
   "metadata": {},
   "source": [
    "In some cases, we may want to cancel a tasking order before it triggers. We can acomplish this with the cancel_tasking funciton"
   ]
  },
  {
   "cell_type": "code",
   "execution_count": null,
   "id": "47c5974e",
   "metadata": {},
   "outputs": [],
   "source": [
    "cancel_tasking = mgp_tasking.cancel_tasking(tasking_id=tasking_id, reason=\"Your reason for cancelling\")\n",
    "print(cancel_tasking)"
   ]
  }
 ],
 "metadata": {
  "kernelspec": {
   "display_name": "Python 3 (ipykernel)",
   "language": "python",
   "name": "python3"
  },
  "language_info": {
   "codemirror_mode": {
    "name": "ipython",
    "version": 3
   },
   "file_extension": ".py",
   "mimetype": "text/x-python",
   "name": "python",
   "nbconvert_exporter": "python",
   "pygments_lexer": "ipython3",
   "version": "3.7.16"
  }
 },
 "nbformat": 4,
 "nbformat_minor": 5
}
