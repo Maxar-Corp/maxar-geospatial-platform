{
 "cells": [
  {
   "cell_type": "markdown",
   "id": "ada25380",
   "metadata": {},
   "source": [
    "## Getting Started with the Maxar Geospatial Platform Monitoring SDK\n",
    "\n",
    "This sample workflow will guide a user through using the monitoring class of the Maxar Geospatial Platform SDK with real world examples. The process will go through:\n",
    "* Validating a monitor\n",
    "* Creating a monitor\n",
    "* Listing monitors and monitor events\n",
    "* Toggling a monitor between enable and disable"
   ]
  },
  {
   "cell_type": "markdown",
   "id": "b0cfe3d7",
   "metadata": {},
   "source": [
    "#### Initialize the Maxar Geospatial Platform SDK Module"
   ]
  },
  {
   "cell_type": "code",
   "execution_count": null,
   "id": "8e3fa305",
   "metadata": {},
   "outputs": [],
   "source": [
    "from MGP_SDK.interface import Interface\n",
    "\n",
    "try:\n",
    "  interface = Interface() # if .MGP-config was created\n",
    "except:\n",
    "  interface = Interface('<user_name>','<user_password>', '<user_client_id>') # if .MGP-config was not created"
   ]
  },
  {
   "cell_type": "markdown",
   "id": "c5cf24f0",
   "metadata": {},
   "source": [
    "#### Initialize the Monitoring portion of the Maxar Geospatial Platform SDK"
   ]
  },
  {
   "cell_type": "code",
   "execution_count": null,
   "id": "ecd3cf72",
   "metadata": {},
   "outputs": [],
   "source": [
    "mgp_monitoring = interface.monitoring_service"
   ]
  },
  {
   "cell_type": "markdown",
   "id": "d0f7da89",
   "metadata": {},
   "source": [
    "#### Creating a new monitor"
   ]
  },
  {
   "cell_type": "markdown",
   "id": "b3c2d530",
   "metadata": {},
   "source": [
    "Before creating a monitor, some variables will be established to make the submission process easier. Note that monitors must be set to a time at least 15 minutes into the future."
   ]
  },
  {
   "cell_type": "code",
   "execution_count": null,
   "id": "0e41c472",
   "metadata": {},
   "outputs": [],
   "source": [
    "import datetime\n",
    "\n",
    "now_start = datetime.datetime.utcnow() + datetime.timedelta(minutes=20)\n",
    "now_time = now_start.isoformat()\n",
    "end_start = datetime.datetime.utcnow() + datetime.timedelta(days=1)\n",
    "end_time = end_start.isoformat()\n",
    "now = now_time.replace(now_time[-7:], \"+00:00\")\n",
    "end = end_time.replace(now_time[-7:], \"+00:00\")\n",
    "print(now)\n",
    "print(end)"
   ]
  },
  {
   "cell_type": "markdown",
   "id": "8e4f0a8d",
   "metadata": {},
   "source": [
    "The monitoring API utilizes GeoJSON formatts for an Area Of Interest (AOI)."
   ]
  },
  {
   "cell_type": "code",
   "execution_count": null,
   "id": "ddf66aaa",
   "metadata": {},
   "outputs": [],
   "source": [
    "geojson = {\n",
    "    \"type\": \"Polygon\",\n",
    "    \"coordinates\": [\n",
    "        [\n",
    "            [-106.8, 35.1],\n",
    "            [-106.4, 35.1],\n",
    "            [-106.4, 35.4],\n",
    "            [-106.8, 35.4],\n",
    "            [-106.8, 35.1]\n",
    "        ]\n",
    "    ]\n",
    "}"
   ]
  },
  {
   "cell_type": "markdown",
   "id": "b1ff3af0",
   "metadata": {},
   "source": [
    "The match criteria will be set to find features taken by either WorldView 2 or WorldView 3 with a cloud cover less than 75%."
   ]
  },
  {
   "cell_type": "code",
   "execution_count": null,
   "id": "cbf15ead",
   "metadata": {},
   "outputs": [],
   "source": [
    "criteria = {\n",
    "    \"platform\": {\n",
    "        \"in\": [\"worldview-03\", \"worldview-02\"]\n",
    "    },\n",
    "    \"eo:cloud_cover\": {\n",
    "        \"lt\": 75\n",
    "    },\n",
    "    \"aoi:coverage_sqkm\": {\n",
    "        \"gte\": 1\n",
    "    }\n",
    "}"
   ]
  },
  {
   "cell_type": "markdown",
   "id": "9bb39e98",
   "metadata": {},
   "source": [
    "When a monitor finds imagery over the desired AOI, a notification will be sent to the user. The below notification schema will be set to email when imagery matching the desired criteria is found."
   ]
  },
  {
   "cell_type": "code",
   "execution_count": null,
   "id": "9358be2c",
   "metadata": {},
   "outputs": [],
   "source": [
    "notifications = [\n",
    "    {\n",
    "        \"type\": \"email\",\n",
    "        \"target\": \"your.email@address.com\"\n",
    "    }\n",
    "]"
   ]
  },
  {
   "cell_type": "markdown",
   "id": "4454eab2",
   "metadata": {},
   "source": [
    "With the variables defined, the monitor request is almost ready to be sent. Imagery will be searched for in the discovery catalog. Firstly, the monitor request should be verified so that everything is constructed correctly with a verification call using the validate argument in the `new_monitor` function."
   ]
  },
  {
   "cell_type": "code",
   "execution_count": null,
   "id": "b2162475",
   "metadata": {},
   "outputs": [],
   "source": [
    "monitor_validation = mgp_monitoring.new_monitor(source=\"discovery/catalog\", start_datetime=now, end_datetime=end, \n",
    "                                                description=\"Your monitor description\", aoi_geojson=geojson, \n",
    "                                                match_criteria=criteria, monitor_notifications=notifications, validate=True)\n",
    "print(monitor_validation)"
   ]
  },
  {
   "cell_type": "markdown",
   "id": "de253018",
   "metadata": {},
   "source": [
    "With the monitor passing the validation, the monitor request can now be submitted."
   ]
  },
  {
   "cell_type": "code",
   "execution_count": null,
   "id": "2381273f",
   "metadata": {},
   "outputs": [],
   "source": [
    "monitor = mgp_monitoring.new_monitor(source=\"discovery/catalog\", start_datetime=now, end_datetime=end, \n",
    "                                     description=\"Your monitor description\", aoi_geojson=geojson, match_criteria=criteria, \n",
    "                                     monitor_notifications=notifications)\n",
    "print(monitor)"
   ]
  },
  {
   "cell_type": "markdown",
   "id": "c25e21bd",
   "metadata": {},
   "source": [
    "#### Monitor details"
   ]
  },
  {
   "cell_type": "markdown",
   "id": "05e8ff7e",
   "metadata": {},
   "source": [
    "With the monitor submission created, a user can now look at the details for the monitor by taking the monitor id and passing it into the `get_monitor` function."
   ]
  },
  {
   "cell_type": "code",
   "execution_count": null,
   "id": "5236ef3a",
   "metadata": {},
   "outputs": [],
   "source": [
    "my_monitor = mgp_monitoring.get_monitor(monitor['data']['id'])\n",
    "print(my_monitor)"
   ]
  },
  {
   "cell_type": "markdown",
   "id": "fa5c17ac",
   "metadata": {},
   "source": [
    "After a monitor has been submitted, a user can look at the monitor events as they have taken place with the `get_monitor_events` function."
   ]
  },
  {
   "cell_type": "code",
   "execution_count": null,
   "id": "697f8753",
   "metadata": {},
   "outputs": [],
   "source": [
    "monitor_events = mgp_monitoring.get_monitor_events(monitor['data']['id'])\n",
    "print(monitor_events)"
   ]
  },
  {
   "cell_type": "markdown",
   "id": "57b3be57",
   "metadata": {},
   "source": [
    "A user can also filter these events by using limit, filter, or sort as keyword arguments."
   ]
  },
  {
   "cell_type": "markdown",
   "id": "abace7db",
   "metadata": {},
   "source": [
    "#### Toggle monitors"
   ]
  },
  {
   "cell_type": "markdown",
   "id": "39b54b6b",
   "metadata": {},
   "source": [
    "There may be times that a user wishes to disable an enabled monitor before the initial end time or enable a disabled monitor that was disabled prematurely. This can be done with the `toggle_monitor_status` function. *Note: Disabled monitors can only be enabled if the end datetime hasn't been reached yet. Enabled monitors can only be disabled if the start datetime has already happened*"
   ]
  },
  {
   "cell_type": "code",
   "execution_count": null,
   "id": "27dd3b25",
   "metadata": {},
   "outputs": [],
   "source": [
    "disable_monitor = mgp_monitoring.toggle_monitor_status(monitor_id=monitor['data']['id'], status=\"disable\")\n",
    "print(disable_monitor)"
   ]
  },
  {
   "cell_type": "code",
   "execution_count": null,
   "id": "174fb5fa",
   "metadata": {},
   "outputs": [],
   "source": [
    "enable_monitor = mgp_monitoring.toggle_monitor_status(monitor_id=monitor['data']['id'], status=\"enable\")\n",
    "print(enable_monitor)"
   ]
  }
 ],
 "metadata": {
  "kernelspec": {
   "display_name": "Python 3 (ipykernel)",
   "language": "python",
   "name": "python3"
  },
  "language_info": {
   "codemirror_mode": {
    "name": "ipython",
    "version": 3
   },
   "file_extension": ".py",
   "mimetype": "text/x-python",
   "name": "python",
   "nbconvert_exporter": "python",
   "pygments_lexer": "ipython3",
   "version": "3.7.16"
  }
 },
 "nbformat": 4,
 "nbformat_minor": 5
}
