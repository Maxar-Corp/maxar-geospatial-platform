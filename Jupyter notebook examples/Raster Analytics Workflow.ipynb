{
 "cells": [
  {
   "cell_type": "markdown",
   "id": "e4cd4f5b-72c8-49ed-a7ad-79999c652738",
   "metadata": {},
   "source": [
    "## Raster Analytics Workflow\n",
    "\n",
    "In this example workflow, a user will be shown how to:\n",
    "* Fetch a raster array\n",
    "* Return a vsicurl formatted URL for Maxar rasterized objects\n",
    "* Download a raster image\n",
    "* Display a raster and manipulate the bands for that raster\n",
    "* Display a tileset of a raster and manipulate the bands for that raster"
   ]
  },
  {
   "cell_type": "markdown",
   "id": "ba19d620-7f3f-4d75-a444-c7cf0a7ea7c5",
   "metadata": {},
   "source": [
    "### Requirements:\n",
    "* GDAL (osgeo)\n",
    "* matplotlib\n",
    "* numpy\n",
    "* maxar API token\n",
    "    * *Note: If you are unfamiliar with maxar API tokens, please refer to the Maxar Geospatial Platform Tokens notebook in this collection*"
   ]
  },
  {
   "cell_type": "markdown",
   "id": "e819530f-752f-4fdd-beef-30f1b1c01d7a",
   "metadata": {},
   "source": [
    "#### Initialize the Maxar Geospatial Platform SDK Module"
   ]
  },
  {
   "cell_type": "code",
   "execution_count": null,
   "id": "3c26302e-f0cf-4943-bf00-e320846b667c",
   "metadata": {},
   "outputs": [],
   "source": [
    "from MGP_SDK.interface import Interface\n",
    "\n",
    "try:\n",
    "  interface = Interface() # if .MGP-config was created\n",
    "except:\n",
    "  interface = Interface('<user_name>','<user_password>', '<user_client_id>') # if .MGP-config was not created"
   ]
  },
  {
   "cell_type": "markdown",
   "id": "2a6709ca-ff6b-4558-8f46-932338d177ba",
   "metadata": {},
   "source": [
    "#### Initialize the raster portion of the Maxar Geospatial Platform SDK"
   ]
  },
  {
   "cell_type": "code",
   "execution_count": null,
   "id": "6b4eea1b-2540-4298-b189-4487099149d2",
   "metadata": {},
   "outputs": [],
   "source": [
    "raster = interface.analytics"
   ]
  },
  {
   "cell_type": "markdown",
   "id": "2bc66fc4-f65b-443c-bea5-768e56a97cee",
   "metadata": {},
   "source": [
    "#### Return a vsicurl formatted URL"
   ]
  },
  {
   "cell_type": "markdown",
   "id": "37172fa0-ced5-4f9a-b6f5-3efc57f4ca96",
   "metadata": {},
   "source": [
    "To work with Maxar Rasters, a user will need a feature ID of a raster object. These can be found using the discovery API. If you are unfamiliar with the Discovery API, please see the Discovery and Ordering Workflow notebook. *Note: To search for raster information, utilize virtual-raster for the collections value*"
   ]
  },
  {
   "cell_type": "markdown",
   "id": "eed477be-0953-4c36-b7c5-52d766ddf24a",
   "metadata": {},
   "source": [
    "For this workflow, 10300100E538FE00 will be used as the testing feature ID. Before the URL is formatted, some variables will need to be set that are needed to fully format the URL"
   ]
  },
  {
   "cell_type": "code",
   "execution_count": null,
   "id": "6ea51a3e-257e-407f-94dd-4d016611dbb5",
   "metadata": {},
   "outputs": [],
   "source": [
    "script_id = 'ortho-image'\n",
    "function = \"ortho\"\n",
    "collect_id = '10300100E538FE00'\n",
    "api_token = '<your-maxar-api-token>'\n",
    "crs = 'UTM'\n",
    "bands = 'red,green,blue'\n",
    "dra = 'true'"
   ]
  },
  {
   "cell_type": "markdown",
   "id": "4d7cb31e-0bc7-4b6c-b584-50dddaa3e66b",
   "metadata": {},
   "source": [
    "Pass these variables into the raster_url function"
   ]
  },
  {
   "cell_type": "code",
   "execution_count": null,
   "id": "f4c1ef0f-6a5b-4980-be40-c85ff8634f18",
   "metadata": {},
   "outputs": [],
   "source": [
    "raster_url = raster.raster_url(script_id=script_id, function=function, collect_id=collect_id, api_token=api_token, crs=crs, bands=bands, dra=dra)\n",
    "print(raster_url)"
   ]
  },
  {
   "cell_type": "markdown",
   "id": "d4977025-8629-4cba-8cff-5823e6bafa10",
   "metadata": {},
   "source": [
    "This URL is formatted to utilize vsicurl from GDAL to interact with the raster object. By removing the vsicurl prefix from the URL, the URL can be utilized in other third party applications, such as QGIS, to display and work with rasterized data"
   ]
  },
  {
   "cell_type": "markdown",
   "id": "42c936bc",
   "metadata": {},
   "source": [
    "#### Obtain raster metadata"
   ]
  },
  {
   "cell_type": "markdown",
   "id": "d396654c",
   "metadata": {},
   "source": [
    "Once a URL has been formatted, a user can visualize the metadata for the desired raster using the raster_metadata function."
   ]
  },
  {
   "cell_type": "code",
   "execution_count": null,
   "id": "c6a94342",
   "metadata": {},
   "outputs": [],
   "source": [
    "raster_metadata = raster.raster_metadata(raster_url)\n",
    "print(raster_metadata)"
   ]
  },
  {
   "cell_type": "markdown",
   "id": "6e393fb1-111a-4179-9ad7-3d733520242b",
   "metadata": {},
   "source": [
    "#### Fetch a raster array"
   ]
  },
  {
   "cell_type": "markdown",
   "id": "d655e483-3c80-4967-926a-6f69fc197228",
   "metadata": {},
   "source": [
    "Utilizing the formatted URL from above, a list of raster arrays using the get_arrays function can now be fetched. A window parameter that represents the x offset in pixels, the y offset in pixels, the width in pixels, and the height in pixels of the raster object will also be declared."
   ]
  },
  {
   "cell_type": "code",
   "execution_count": null,
   "id": "ee75f8bc-2fa2-4edb-90f2-6283204dbcaf",
   "metadata": {},
   "outputs": [],
   "source": [
    "window = (3067, 2045, 2045, 2045)\n",
    "raster_arrays = raster.get_arrays(raster_url, *window)\n",
    "for array in raster_arrays:\n",
    "    print(array)"
   ]
  },
  {
   "cell_type": "markdown",
   "id": "4889367f-2083-4c09-8011-db113e396875",
   "metadata": {},
   "source": [
    "#### Downloading the raster array"
   ]
  },
  {
   "cell_type": "markdown",
   "id": "3e6791d4-77e2-413b-8119-b0e8ce01d9a9",
   "metadata": {},
   "source": [
    "Once a user has their raster array created from the URL function above, the raster can be downloaded locally for further use cases. Matplotlib is required to download the raster"
   ]
  },
  {
   "cell_type": "code",
   "execution_count": null,
   "id": "6a24609b-c0f1-4fbd-9a56-fe8944c52b8e",
   "metadata": {},
   "outputs": [],
   "source": [
    "outputpath = \"<you\\output\\path\\image.png>\"\n",
    "download = raster.download_raster_array(raster_arrays, outputpath)"
   ]
  },
  {
   "cell_type": "markdown",
   "id": "5807b5e1-7d70-4b47-a044-4750c82dbe74",
   "metadata": {},
   "source": [
    "#### Display a raster and manipulate the bands"
   ]
  },
  {
   "cell_type": "markdown",
   "id": "0e50ef19-1839-42a3-83ae-cf3797e32ffd",
   "metadata": {},
   "source": [
    "To visualize a raster in the notebooks environment, a few modules will be needed. If these modules are not installed on your machine, be sure to do a pip install of the modules under the same python environment you are utilizing"
   ]
  },
  {
   "cell_type": "code",
   "execution_count": null,
   "id": "b1565d26-1705-4bb5-93ac-918a28ff71eb",
   "metadata": {},
   "outputs": [],
   "source": [
    "from osgeo import gdal\n",
    "import numpy as np\n",
    "import matplotlib.pyplot as plt"
   ]
  },
  {
   "cell_type": "markdown",
   "id": "c0608636-648b-405a-9286-d93d19609152",
   "metadata": {},
   "source": [
    "A function that takes the raster information and returns an image to visualize the raster needs to be created. This function will take the raster arrays from above and utilize matplotlib for visualization"
   ]
  },
  {
   "cell_type": "code",
   "execution_count": null,
   "id": "f3659610-93ae-4bc4-a5ac-21b528c9735a",
   "metadata": {},
   "outputs": [],
   "source": [
    "def view_image(arrays):\n",
    "    img = np.dstack((arrays[0], arrays[1], arrays[2]))\n",
    "    plt.figure(figsize=(10,10))\n",
    "    plt.imshow(img)"
   ]
  },
  {
   "cell_type": "code",
   "execution_count": null,
   "id": "44067e93-4ee9-4469-b288-6b506f062618",
   "metadata": {},
   "outputs": [],
   "source": [
    "view_image(raster_arrays)"
   ]
  },
  {
   "cell_type": "markdown",
   "id": "682c6469-530d-40bb-aa18-f11a3d2dc6a1",
   "metadata": {},
   "source": [
    "The returned image is the raster object based off the formatted URL and the associated arrays. The bands of the raster can be changed by changing the bands variable and re-running the raster_url function and the get_arrays function on this new URL, then re-running the view_image function"
   ]
  },
  {
   "cell_type": "code",
   "execution_count": null,
   "id": "ecfbd3e6-0e72-4465-b047-675d8db97ae2",
   "metadata": {},
   "outputs": [],
   "source": [
    "bands = 'nir1,red,green,blue'\n",
    "raster_url = raster.raster_url(script_id=script_id, function=function, collect_id=collect_id, api_token=api_token, crs=crs, bands=bands, dra=dra)\n",
    "raster_arrays = raster.get_arrays(raster_url, *window)\n",
    "view_image(raster_arrays)"
   ]
  },
  {
   "cell_type": "markdown",
   "id": "01781f12-6c0c-4e96-8ace-650ccaf34363",
   "metadata": {},
   "source": [
    "This image has an additional band of nir1, or Near Infrared"
   ]
  },
  {
   "cell_type": "markdown",
   "id": "8f87c4f8-6e83-422e-b9bb-31b03f768cfd",
   "metadata": {},
   "source": [
    "#### Display a tileset of a raster"
   ]
  },
  {
   "cell_type": "markdown",
   "id": "e416c112-48c2-4464-ad51-cf78e6ad7aff",
   "metadata": {},
   "source": [
    "To display a sliding window (tileset) of the raster, a few more functions will need to be created to make the image viewable in Jupyter"
   ]
  },
  {
   "cell_type": "code",
   "execution_count": null,
   "id": "6b339867-3854-44c3-ab7b-030bea1e5f70",
   "metadata": {},
   "outputs": [],
   "source": [
    "def display_interactive(image_array):\n",
    "    plt.close('all')\n",
    "    plt.style.use('_mpl-gallery-nogrid')\n",
    "    fig1, ax1 = plt.subplots()\n",
    "    displayable = np.transpose(image_array, [1, 2, 0])\n",
    "    im = ax1.imshow(displayable)\n",
    "    plt.show()"
   ]
  },
  {
   "cell_type": "code",
   "execution_count": null,
   "id": "a0b5628b-71cc-4222-b441-101e3bd1d388",
   "metadata": {},
   "outputs": [],
   "source": [
    "def sliding_window(url, starting_offset, window_size, step_size):\n",
    "    window_width = window_size[0]\n",
    "    window_height = window_size[1]\n",
    "\n",
    "    step_x = step_size[0]\n",
    "    step_y = step_size[1]\n",
    "\n",
    "    start_x = starting_offset[0]\n",
    "    start_y = starting_offset[1]\n",
    "\n",
    "    info = gdal.Info(url, format=\"json\")\n",
    "    print('size: {}'.format(info['size']))\n",
    "    image_width = info['size'][0]\n",
    "    image_height = info['size'][1]\n",
    "\n",
    "    if start_x >= image_width:\n",
    "        raise RuntimeError('{} is beyond image width: {}'.format(start_x, image_width))\n",
    "    if start_y >= image_height:\n",
    "        raise RuntimeError('{} is beyond image height: {}'.format(start_x, image_height))\n",
    "\n",
    "    dataset = gdal.Open(url)\n",
    "\n",
    "    for y in range(0, image_height, step_y):\n",
    "        for x in range(0, image_width, step_x):\n",
    "            yield x, y, dataset.ReadAsArray(x, y, window_width, window_height)"
   ]
  },
  {
   "cell_type": "code",
   "execution_count": null,
   "id": "72f2f8f2-de94-48ed-9d36-5608b4216dd7",
   "metadata": {},
   "outputs": [],
   "source": [
    "# This is the main method that walks over the image using a sliding window\n",
    "def walk_the_earth(url, offset, window, step, display=False):\n",
    "    for (x, y, image_array) in sliding_window(url, step_size=step, window_size=window, starting_offset=offset):\n",
    "        if type(image_array) != type(None):\n",
    "            if image_array.shape[1] != window[1] or image_array.shape[2] != window[0]:\n",
    "                continue\n",
    "            print('.', end='')\n",
    "            if display:\n",
    "                display_interactive(image_array)"
   ]
  },
  {
   "cell_type": "markdown",
   "id": "874971f5-dbbb-46ff-8628-66c8215f4f7d",
   "metadata": {},
   "source": [
    "The bands will now be reset back to the rgb colors and the raster_url and get_arrays functions will need to be re-run"
   ]
  },
  {
   "cell_type": "code",
   "execution_count": null,
   "id": "b761a733-b082-422f-a8bd-91b7ef9011f3",
   "metadata": {},
   "outputs": [],
   "source": [
    "bands = 'red,green,blue'\n",
    "raster_url = raster.raster_url(script_id=script_id, function=function, collect_id=collect_id, api_token=api_token, crs=crs, bands=bands, dra=dra)\n",
    "raster_arrays = raster.get_arrays(raster_url, *window)"
   ]
  },
  {
   "cell_type": "markdown",
   "id": "ca3f1d3a-4210-4db9-8799-650f61b5682c",
   "metadata": {},
   "source": [
    "Some variables will be set that are needed to parse over the raster array to have the array visualized in a tileset"
   ]
  },
  {
   "cell_type": "code",
   "execution_count": null,
   "id": "5898faf9-820b-4e37-925b-aa84b0badea0",
   "metadata": {},
   "outputs": [],
   "source": [
    "ww = 2048\n",
    "wh = 2048\n",
    "\n",
    "sx = 1024\n",
    "sy = 1024\n",
    "\n",
    "off_x = 0\n",
    "off_y = 0"
   ]
  },
  {
   "cell_type": "markdown",
   "id": "a1df9630-a050-49f6-8933-934cb839fd14",
   "metadata": {},
   "source": [
    "The function can now be called, and a tileset will appear for the raster. Please note that this may take some time to fully finish running"
   ]
  },
  {
   "cell_type": "code",
   "execution_count": null,
   "id": "d20a4ee8-a7da-4b24-ab55-b4f41eaf1647",
   "metadata": {},
   "outputs": [],
   "source": [
    "print('window [{}, {}]'.format(ww, wh))\n",
    "print('window [{}, {}]'.format(sx, sy))\n",
    "print('offset [{}, {}]'.format(0, 0))\n",
    "\n",
    "walk_the_earth(raster_url, [off_x, off_y], [ww, wh], [sx, sy], display=True)"
   ]
  },
  {
   "cell_type": "markdown",
   "id": "cab63d3a-52f9-4134-88c0-cb4edc616b52",
   "metadata": {},
   "source": [
    "The bands can be manipulated in the same way as above by redefining the bands variable and running the raster_url and get_arrays functions again, and then passing those new variables into the walk_the_earth function"
   ]
  }
 ],
 "metadata": {
  "kernelspec": {
   "display_name": "Python 3 (ipykernel)",
   "language": "python",
   "name": "python3"
  },
  "language_info": {
   "codemirror_mode": {
    "name": "ipython",
    "version": 3
   },
   "file_extension": ".py",
   "mimetype": "text/x-python",
   "name": "python",
   "nbconvert_exporter": "python",
   "pygments_lexer": "ipython3",
   "version": "3.7.16"
  }
 },
 "nbformat": 4,
 "nbformat_minor": 5
}
