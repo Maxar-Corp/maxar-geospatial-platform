{
 "cells": [
  {
   "cell_type": "markdown",
   "id": "e9260f44",
   "metadata": {},
   "source": [
    "## Getting Started with the Maxar Geospatial Platform Discovery and Ordering APIs\n",
    "\n",
    "This sample workflow will guide a user through using the Maxar Geospatial Platform Discovery and Ordering APIs with real world examples. The process will go through:\n",
    "* Searching STAC items\n",
    "* Viewing pipelines\n",
    "* Validating an order\n",
    "* Checking an order's estimated usage\n",
    "* Placing an order\n",
    "* Canceling an order"
   ]
  },
  {
   "cell_type": "markdown",
   "id": "c8899cfe",
   "metadata": {},
   "source": [
    "#### Authentication\n",
    "For a more detailed view of how to authorize with MGP, please see the *Auth and Token Service* notebook in this collection"
   ]
  },
  {
   "cell_type": "code",
   "execution_count": null,
   "id": "ab0b9c5c",
   "metadata": {},
   "outputs": [],
   "source": [
    "import requests\n",
    "import json\n",
    "\n",
    "username = \"your.email@address.com\"\n",
    "password= \"yourpassword\"\n",
    "\n",
    "url = \"https://account.maxar.com/auth/realms/mds/protocol/openid-connect/token\"\n",
    "\n",
    "payload = 'client_id=mgp&username={}&password={}&grant_type=password'.format(username, password)\n",
    "headers = {'Content-Type': 'application/x-www-form-urlencoded'}\n",
    "\n",
    "response = requests.request(\"POST\", url, headers=headers, data=payload)\n",
    "\n",
    "access_token = {'Content-Type': 'application/json', 'Authorization': 'Bearer {}'.format(response.json()['access_token'])}"
   ]
  },
  {
   "cell_type": "markdown",
   "id": "60b1786d",
   "metadata": {},
   "source": [
    "#### Discover STAC items"
   ]
  },
  {
   "cell_type": "markdown",
   "id": "176f7dc1",
   "metadata": {},
   "source": [
    "The first step in this discovery workflow is to search the available STAC items via Discovery. Some variables will be set up here to make the discovery process more manageable."
   ]
  },
  {
   "cell_type": "code",
   "execution_count": null,
   "id": "8126c99b",
   "metadata": {},
   "outputs": [],
   "source": [
    "bbox = \"-105,40,-104,41\"\n",
    "datetime = \"2015-01-01T00:00:00Z/2016-01-01T00:00:00Z\"\n",
    "collections = \"wv02\"\n",
    "where = \"eo:cloud_cover<20\"\n",
    "limit = 10"
   ]
  },
  {
   "cell_type": "markdown",
   "id": "b1eeaefd",
   "metadata": {},
   "source": [
    "A list of all of the ids that match the specified criteria will be iterated through with the first id in that list being set to a variable"
   ]
  },
  {
   "cell_type": "code",
   "execution_count": null,
   "id": "8911659d",
   "metadata": {},
   "outputs": [],
   "source": [
    "stac_search_url = \"https://api.maxar.com/discovery/v1/search?bbox={}&datetime={}&collections={}&where={}&limit={}&\" \\\n",
    "                  \"orderby=id\".format(bbox, datetime, collections, where, limit)\n",
    "\n",
    "stac_search_response = requests.request(\"GET\", stac_search_url, headers=access_token)\n",
    "\n",
    "features_list = []\n",
    "for feature in stac_search_response.json()['features'][:limit]:\n",
    "    features_list.append(feature['id'])\n",
    "wv02_feature = features_list[0]\n",
    "print(wv02_feature)"
   ]
  },
  {
   "cell_type": "markdown",
   "id": "759fd0a3",
   "metadata": {},
   "source": [
    "With a single feature selected, the metadata for that feature can be narrowed down. For this workflow, the supported pipelines for the feature are needed, so the result will be narrowed down to show the pipelines and their associated names."
   ]
  },
  {
   "cell_type": "code",
   "execution_count": null,
   "id": "8ce39c9d",
   "metadata": {},
   "outputs": [],
   "source": [
    "stac_item_url = \"https://api.maxar.com/discovery/v1/collections/{}/items/{}\".format(collections, wv02_feature)\n",
    "\n",
    "stac_item_response = requests.request(\"GET\", stac_item_url, headers=access_token)\n",
    "\n",
    "for i in stac_item_response.json()['links']:\n",
    "    print(i['rel'])\n",
    "    print(i['href'])"
   ]
  },
  {
   "cell_type": "markdown",
   "id": "fc0d0440",
   "metadata": {},
   "source": [
    "For this workflow, the `map-ready` pipeline will be utilized. With the above cell's output, it is now confirmed that the selected feature can be ordered via the `map-ready` pipeline"
   ]
  },
  {
   "cell_type": "markdown",
   "id": "d2dd80a2",
   "metadata": {},
   "source": [
    "If there is unfamiliarity with a pipeline and what is needed for the order to work, the *Get a Pipeline by name* request can be used to determine what information needs to be passed in. The namespace of the pipeline can be found in the `href` link from the above function. It is the section of the link between `pipelines` and the pipeline name, in this case, with a namespace of `imagery` and a name of `map-ready`. With the desired pipeline identified, the response can be narrowed down to show the necessary information needed to place an order."
   ]
  },
  {
   "cell_type": "code",
   "execution_count": null,
   "id": "d675049f",
   "metadata": {},
   "outputs": [],
   "source": [
    "pipeline_info_url = \"https://api.maxar.com/ordering/v1/pipelines/imagery/map-ready\"\n",
    "\n",
    "pipeline_info_response = requests.request(\"GET\", pipeline_info_url, headers=access_token)\n",
    "\n",
    "required_info = pipeline_info_response.json()['data']['settings_schema']['required']\n",
    "\n",
    "print(\"The required information needed to place an order on this pipeline is: {}\".format(required_info))\n",
    "for info in required_info:\n",
    "    type_info = pipeline_info_response.json()['data']['settings_schema']['properties'][info]\n",
    "    print(\"The type of data for {} is: {}\".format(info, type_info))"
   ]
  },
  {
   "cell_type": "markdown",
   "id": "a8b88959",
   "metadata": {},
   "source": [
    "The response from the above cell shows that the `inventory_ids` and the `customer_description` are required for order placement, and that `inventory_ids` is an array of strings while `customer_description` is a string."
   ]
  },
  {
   "cell_type": "markdown",
   "id": "3daccef4",
   "metadata": {},
   "source": [
    "#### Ordering a feature"
   ]
  },
  {
   "cell_type": "markdown",
   "id": "5ff090aa",
   "metadata": {},
   "source": [
    "Before an order can be fully placed, the order needs to be verified that it is formatted properly and will be accepted. The estimated cost of the order is also useful information that can be found. Some variables will be set to make the requests more manageable. The `output_config` variable will be a dictionary where a user can store their S3 information, the notificaitons variable will be a list of a dictionary that will store a user's email information, the settings variable will be a dictionary that contains a user's STAC items and coordinates if a full item is not desired for an order, and the metadata variable will be a dictionary that stores a user's `project_id` (order name)."
   ]
  },
  {
   "cell_type": "code",
   "execution_count": null,
   "id": "70d2eacc",
   "metadata": {},
   "outputs": [],
   "source": [
    "namespace = 'imagery'\n",
    "name = 'map-ready'\n",
    "output_config = {\"amazon_s3\": {\"bucket\": \"yourS3BucketName\", \"prefix\": \"your/S3/Bucket/Prefix/Name\"}}\n",
    "settings = {\n",
    "                \"inventory_ids\": [wv02_feature],\n",
    "                \"customer_description\": \"your order description\",\n",
    "                \"aoi\": {\n",
    "                    \"coordinates\": [\n",
    "                        [\n",
    "                            [-103.991089, 39.546412],\n",
    "                            [-103.900452, 39.546412],\n",
    "                            [-103.900452, 39.474365],\n",
    "                            [-103.991089, 39.474365],\n",
    "                            [-103.991089, 39.546412]\n",
    "                        ]\n",
    "                    ],\n",
    "                \"type\": \"Polygon\"\n",
    "                }\n",
    "            }\n",
    "notifications = [{\"type\": \"email\", \"target\": \"your.email@address.com\", \"level\": \"FINAL_ONLY\"}]\n",
    "metadata = {\"project_id\": \"your order name\"}"
   ]
  },
  {
   "cell_type": "markdown",
   "id": "257ceddb",
   "metadata": {},
   "source": [
    "The order can now be validated before it is fully placed. *Note: The response can vary by the type of content ordered*"
   ]
  },
  {
   "cell_type": "code",
   "execution_count": null,
   "id": "59651871",
   "metadata": {},
   "outputs": [],
   "source": [
    "order_validate_url = \"https://api.maxar.com/ordering/v1/pipelines/{}/{}/validate\".format(namespace, name)\n",
    "\n",
    "order_validate_payload = json.dumps({\"settings\": settings, \"output_config\": output_config, \"notifications\": notifications, \n",
    "                                     \"metadata\": metadata})\n",
    "\n",
    "order_validate_response = requests.request(\"POST\", order_validate_url, headers=access_token, data=order_validate_payload)\n",
    "\n",
    "print(order_validate_response.json())"
   ]
  },
  {
   "cell_type": "markdown",
   "id": "744dfbc4",
   "metadata": {},
   "source": [
    "The message shows *validation successful*, indicating that the order passes the validation, meaning that the order can be placed. One last thing to check before placing the order is to check the estimated usage of the order. *Note: The response can vary by the type of content ordered*"
   ]
  },
  {
   "cell_type": "code",
   "execution_count": null,
   "id": "0786d09f",
   "metadata": {},
   "outputs": [],
   "source": [
    "order_estimate_url = \"https://api.maxar.com/ordering/v1/pipelines/{}/{}/estimate\".format(namespace, name)\n",
    "\n",
    "order_estimate_payload = json.dumps({\"settings\": settings, \"output_config\": output_config, \"notifications\": notifications, \n",
    "                                     \"metadata\": metadata})\n",
    "\n",
    "order_estimate_response = requests.request(\"POST\", order_estimate_url, headers=access_token, data=order_estimate_payload)\n",
    "\n",
    "print(order_estimate_response.json())"
   ]
  },
  {
   "cell_type": "markdown",
   "id": "4a564a1e",
   "metadata": {},
   "source": [
    "The response shows that the order will use `62.351 sqkm` of usage. The following cell will calculate what the cost in credits for the order will be. The ID for the product being used in the order will need to be obtained, in this case, for the product `PRODUCT_ARCHIVE_IMAGERY_RECENT_DOWNLOAD`. The sqkm usage amount will also be set to a variable."
   ]
  },
  {
   "cell_type": "code",
   "execution_count": null,
   "id": "7c142d0e",
   "metadata": {},
   "outputs": [],
   "source": [
    "for product_id in order_estimate_response.json()['data']['usage_estimate']:\n",
    "    desired_product_id = product_id['product_id']\n",
    "    order_quantity = product_id['quantity']\n",
    "    print(\"The ID for the product being utilized in the order is {}\".format(desired_product_id))"
   ]
  },
  {
   "cell_type": "markdown",
   "id": "42f6d666",
   "metadata": {},
   "source": [
    "With the product ID set, this product needs to be found with the associated rate table for the user. The `Tier 1 v1.0  (Default)` rate table will be utilizied for this."
   ]
  },
  {
   "cell_type": "code",
   "execution_count": null,
   "id": "f1617a20",
   "metadata": {},
   "outputs": [],
   "source": [
    "rate_table_url = \"https://api.maxar.com/account-service/api/v1/ratetables\"\n",
    "\n",
    "rate_table_response = requests.request(\"GET\", rate_table_url, headers=access_token)\n",
    "\n",
    "desired_rate_table = \"Tier 1 v1.0  (Default)\"\n",
    "\n",
    "for rate in rate_table_response.json()['rateTables']:\n",
    "    if rate['name'] == desired_rate_table:\n",
    "        desired_table_id = rate['id']\n",
    "print(\"The ID for the rate table {} is {}\".format(desired_rate_table, desired_table_id))"
   ]
  },
  {
   "cell_type": "markdown",
   "id": "f0c09c38",
   "metadata": {},
   "source": [
    "The ID associated with the rate table has now been found. The cost of the order will be calculated by cross referencing the sqkm quantity from the order estimate with the actual credit cost for the product being used in the order."
   ]
  },
  {
   "cell_type": "code",
   "execution_count": null,
   "id": "088ab343",
   "metadata": {},
   "outputs": [],
   "source": [
    "rate_product_url = \"https://api.maxar.com/account-service/api/v1/ratetables/{}/productCredits\".format(desired_table_id)\n",
    "\n",
    "rate_product_response = requests.request(\"GET\", rate_product_url, headers=access_token)\n",
    "\n",
    "for rate_product in rate_product_response.json():\n",
    "    if rate_product['product']['id'] == desired_product_id:\n",
    "        print(\"Product {} has a cost of {} credits per {}\".format(\n",
    "            desired_product_id, rate_product['credits'], rate_product['creditUnitType']['description']))\n",
    "        print(\"The order placed would consume {} credits\".format(order_quantity * rate_product['credits']))"
   ]
  },
  {
   "cell_type": "markdown",
   "id": "d173421f",
   "metadata": {},
   "source": [
    "With the order cost calculated, the order can now be placed using the same variables from the order validate and order estimate requests."
   ]
  },
  {
   "cell_type": "code",
   "execution_count": null,
   "id": "693575dc",
   "metadata": {},
   "outputs": [],
   "source": [
    "order_url = \"https://api.maxar.com/ordering/v1/pipelines/{}/{}/order\".format(namespace, name)\n",
    "\n",
    "order_payload = json.dumps({\"settings\": settings, \"output_config\": output_config, \"notifications\": notifications, \n",
    "                            \"metadata\": metadata})\n",
    "\n",
    "order_response = requests.request(\"POST\", order_url, headers=access_token, data=order_payload)\n",
    "\n",
    "print(order_response.json())\n",
    "order_id = order_response.json()['data']['id']"
   ]
  },
  {
   "cell_type": "markdown",
   "id": "b4d4537b",
   "metadata": {},
   "source": [
    "After the order has been placed, a user may want to check the full details of the submitted order. This can be done with the following request and passing in the order id generated from the placement of the order."
   ]
  },
  {
   "cell_type": "code",
   "execution_count": null,
   "id": "3b9c584d",
   "metadata": {},
   "outputs": [],
   "source": [
    "order_details_url = \"https://api.maxar.com/ordering/v1/orders/{}\".format(order_id)\n",
    "\n",
    "order_details_response = requests.request(\"GET\", order_details_url, headers=access_token)\n",
    "\n",
    "print(order_details_response.json())"
   ]
  },
  {
   "cell_type": "markdown",
   "id": "1bc1070c",
   "metadata": {},
   "source": [
    "A user also may want to occasionally check up on the status of the order. This can be done by utilizing the following request and checking the message of the response."
   ]
  },
  {
   "cell_type": "code",
   "execution_count": null,
   "id": "cac3bef6",
   "metadata": {},
   "outputs": [],
   "source": [
    "order_events_url = \"https://api.maxar.com/ordering/v1/orders/{}/events\".format(order_id)\n",
    "\n",
    "order_events_response = requests.request(\"GET\", order_events_url, headers=access_token)\n",
    "\n",
    "print(order_events_response.json())"
   ]
  },
  {
   "cell_type": "markdown",
   "id": "ca64d3a1",
   "metadata": {},
   "source": [
    "In some instances, a user may want to cancel an order. The following request can be ran to cancel the desired order. Orders can be cancelled until the delivery process begins."
   ]
  },
  {
   "cell_type": "code",
   "execution_count": null,
   "id": "cac1ebe8",
   "metadata": {},
   "outputs": [],
   "source": [
    "cancel_order_url = \"https://api.maxar.com/ordering/v1/order/{}/cancel\".format(order_id)\n",
    "\n",
    "cancel_order_response = requests.request(\"POST\", cancel_order_url, headers=access_token)\n",
    "\n",
    "print(cancel_order_response.json())"
   ]
  }
 ],
 "metadata": {
  "kernelspec": {
   "display_name": "Python 3 (ipykernel)",
   "language": "python",
   "name": "python3"
  },
  "language_info": {
   "codemirror_mode": {
    "name": "ipython",
    "version": 3
   },
   "file_extension": ".py",
   "mimetype": "text/x-python",
   "name": "python",
   "nbconvert_exporter": "python",
   "pygments_lexer": "ipython3",
   "version": "3.7.16"
  }
 },
 "nbformat": 4,
 "nbformat_minor": 5
}
