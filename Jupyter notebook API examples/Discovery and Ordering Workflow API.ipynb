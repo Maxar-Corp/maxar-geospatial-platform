{
 "cells": [
  {
   "cell_type": "markdown",
   "id": "e9260f44",
   "metadata": {},
   "source": [
    "## Discovery and Ordering Workflow\n",
    "\n",
    "In this example workflow, a user will be shown how to:\n",
    "* Search STAC items\n",
    "* View pipelines\n",
    "* Validate an order\n",
    "* Check an order's estimated usage\n",
    "* Place an order\n",
    "* Cancel an order"
   ]
  },
  {
   "cell_type": "markdown",
   "id": "c8899cfe",
   "metadata": {},
   "source": [
    "#### Authentication\n",
    "For a more detailed view of how to authorize with MGP, please see the *Auth and Token Service* notebook in this collection"
   ]
  },
  {
   "cell_type": "code",
   "execution_count": null,
   "id": "ab0b9c5c",
   "metadata": {},
   "outputs": [],
   "source": [
    "import requests\n",
    "import json\n",
    "\n",
    "username = \"your.email@address.com\"\n",
    "password= \"yourpassword\"\n",
    "\n",
    "url = \"https://account.maxar.com/auth/realms/mds/protocol/openid-connect/token\"\n",
    "\n",
    "payload = 'client_id=mgp&username={}&password={}&grant_type=password'.format(username, password)\n",
    "headers = {'Content-Type': 'application/x-www-form-urlencoded'}\n",
    "\n",
    "response = requests.request(\"POST\", url, headers=headers, data=payload)\n",
    "\n",
    "access_token = {'Content-Type': 'application/json', 'Authorization': 'Bearer {}'.format(response.json()['access_token'])}"
   ]
  },
  {
   "cell_type": "markdown",
   "id": "60b1786d",
   "metadata": {},
   "source": [
    "#### Discover STAC items"
   ]
  },
  {
   "cell_type": "markdown",
   "id": "176f7dc1",
   "metadata": {},
   "source": [
    "The first thing we want to do is search the available STAC items via Discovery. Here we will set up some variables to make the discovery process more manageable"
   ]
  },
  {
   "cell_type": "code",
   "execution_count": null,
   "id": "8126c99b",
   "metadata": {},
   "outputs": [],
   "source": [
    "bbox = \"-105,40,-104,41\"\n",
    "datetime = \"2015-01-01T00:00:00Z/2016-01-01T00:00:00Z\"\n",
    "collections = \"wv02\"\n",
    "where = \"eo:cloud_cover<20\"\n",
    "limit = 10"
   ]
  },
  {
   "cell_type": "markdown",
   "id": "b1eeaefd",
   "metadata": {},
   "source": [
    "We will iterate through a list of all of the ids that match our criteria and set a variable for the first id in that list"
   ]
  },
  {
   "cell_type": "code",
   "execution_count": null,
   "id": "8911659d",
   "metadata": {},
   "outputs": [],
   "source": [
    "stac_search_url = \"https://api.maxar.com/discovery/v1/search?bbox={}&datetime={}&collections={}&where={}&limit={}&\" \\\n",
    "                  \"orderby=id\".format(bbox, datetime, collections, where, limit)\n",
    "\n",
    "stac_search_response = requests.request(\"GET\", stac_search_url, headers=access_token)\n",
    "\n",
    "features_list = []\n",
    "for feature in stac_search_response.json()['features'][:limit]:\n",
    "    features_list.append(feature['id'])\n",
    "wv02_feature = features_list[0]\n",
    "print(wv02_feature)"
   ]
  },
  {
   "cell_type": "markdown",
   "id": "759fd0a3",
   "metadata": {},
   "source": [
    "Now that we have a single feature, we can narrow down the metadata for just that feature. We want to know what the supported pipelines are for this feature, so we will narrow the result down to show the pipelines and their names"
   ]
  },
  {
   "cell_type": "code",
   "execution_count": null,
   "id": "8ce39c9d",
   "metadata": {},
   "outputs": [],
   "source": [
    "stac_item_url = \"https://api.maxar.com/discovery/v1/collections/{}/items/{}\".format(collections, wv02_feature)\n",
    "\n",
    "stac_item_response = requests.request(\"GET\", stac_item_url, headers=access_token)\n",
    "\n",
    "for i in stac_item_response.json()['links']:\n",
    "    print(i['rel'])\n",
    "    print(i['href'])"
   ]
  },
  {
   "cell_type": "markdown",
   "id": "fc0d0440",
   "metadata": {},
   "source": [
    "For this workflow, we want to use the *map-ready* pipeline. We now know that the feature can be ordered via the map-ready pipeline"
   ]
  },
  {
   "cell_type": "markdown",
   "id": "d2dd80a2",
   "metadata": {},
   "source": [
    "If you are unfamiliar with a pipeline and what is needed for the order to work, you can use the Get a Pipeline by name request to determine what information needs to be passed in. The namespace of the pipeline can be found in the *href* link from the above function. It is the section of the link between *pipelines* and the pipeline name, in this case, with a namespace of *imagery* and a name of *map-ready*. With our pipeline identified, we can narrow down the response to show us the necessary information needed to place an order"
   ]
  },
  {
   "cell_type": "code",
   "execution_count": null,
   "id": "d675049f",
   "metadata": {},
   "outputs": [],
   "source": [
    "pipeline_info_url = \"https://api.maxar.com/ordering/v1/pipelines/imagery/map-ready\"\n",
    "\n",
    "pipeline_info_response = requests.request(\"GET\", pipeline_info_url, headers=access_token)\n",
    "\n",
    "required_info = pipeline_info_response.json()['data']['settings_schema']['required']\n",
    "\n",
    "print(\"The required information needed to place an order on this pipeline is: {}\".format(required_info))\n",
    "for info in required_info:\n",
    "    type_info = pipeline_info_response.json()['data']['settings_schema']['properties'][info]\n",
    "    print(\"The type of data for {} is: {}\".format(info, type_info))"
   ]
  },
  {
   "cell_type": "markdown",
   "id": "a8b88959",
   "metadata": {},
   "source": [
    "From this response we can see that the inventory_ids and the customer_description are required for order placement, and that inventory_ids is an array of strings while customer_description is a string"
   ]
  },
  {
   "cell_type": "markdown",
   "id": "3daccef4",
   "metadata": {},
   "source": [
    "#### Ordering a feature"
   ]
  },
  {
   "cell_type": "markdown",
   "id": "5ff090aa",
   "metadata": {},
   "source": [
    "Before we fully place an order, we want to verify that the order is formatted properly and will be accepted, and what the estimated cost of the order will be. First we will set up some variables to make the requests more manageable. The output_config variable will be a dictionary where we store our S3 information, the notificaitons variable will be a list of a dictionary that will store our email information, the settings variable will be a dictionary that contains our STAC items and coordinates if we don't want to order the full item, and the metadata variable will be a dictionary that stores our project_id, or order name"
   ]
  },
  {
   "cell_type": "code",
   "execution_count": null,
   "id": "70d2eacc",
   "metadata": {},
   "outputs": [],
   "source": [
    "namespace = 'imagery'\n",
    "name = 'map-ready'\n",
    "output_config = {\"amazon_s3\": {\"bucket\": \"yourS3BucketName\", \"prefix\": \"your/S3/Bucket/Prefix/Name\"}}\n",
    "settings = {\n",
    "                \"inventory_ids\": [wv02_feature],\n",
    "                \"customer_description\": \"your order description\",\n",
    "                \"aoi\": {\n",
    "                    \"coordinates\": [\n",
    "                        [\n",
    "                            [-103.991089, 39.546412],\n",
    "                            [-103.900452, 39.546412],\n",
    "                            [-103.900452, 39.474365],\n",
    "                            [-103.991089, 39.474365],\n",
    "                            [-103.991089, 39.546412]\n",
    "                        ]\n",
    "                    ],\n",
    "                \"type\": \"Polygon\"\n",
    "                }\n",
    "            }\n",
    "notifications = [{\"type\": \"email\", \"target\": \"your.email@address.com\", \"level\": \"FINAL_ONLY\"}]\n",
    "metadata = {\"project_id\": \"your order name\"}"
   ]
  },
  {
   "cell_type": "markdown",
   "id": "257ceddb",
   "metadata": {},
   "source": [
    "We will now validate the order before placing it"
   ]
  },
  {
   "cell_type": "code",
   "execution_count": null,
   "id": "59651871",
   "metadata": {},
   "outputs": [],
   "source": [
    "order_validate_url = \"https://api.maxar.com/ordering/v1/pipelines/{}/{}/validate\".format(namespace, name)\n",
    "\n",
    "order_validate_payload = json.dumps({\"settings\": settings, \"output_config\": output_config, \"notifications\": notifications, \n",
    "                                     \"metadata\": metadata})\n",
    "\n",
    "order_validate_response = requests.request(\"POST\", order_validate_url, headers=access_token, data=order_validate_payload)\n",
    "\n",
    "print(order_validate_response.json())"
   ]
  },
  {
   "cell_type": "markdown",
   "id": "744dfbc4",
   "metadata": {},
   "source": [
    "The message shows *validation successful*, indicating that the order passes the validation, meaning we can place the order. One last thing to check before we place the order is to check the estimated usage of the order"
   ]
  },
  {
   "cell_type": "code",
   "execution_count": null,
   "id": "0786d09f",
   "metadata": {},
   "outputs": [],
   "source": [
    "order_estimate_url = \"https://api.maxar.com/ordering/v1/pipelines/{}/{}/estimate\".format(namespace, name)\n",
    "\n",
    "order_estimate_payload = json.dumps({\"settings\": settings, \"output_config\": output_config, \"notifications\": notifications, \n",
    "                                     \"metadata\": metadata})\n",
    "\n",
    "order_estimate_response = requests.request(\"POST\", order_estimate_url, headers=access_token, data=order_estimate_payload)\n",
    "\n",
    "print(order_estimate_response.json())"
   ]
  },
  {
   "cell_type": "markdown",
   "id": "4a564a1e",
   "metadata": {},
   "source": [
    "From this response we can see that the order will use 62.351 sqkm of usage. We can calculate what this would cost in credits with the following workflow. We will need to obtain the ID for the product being used in the order, in this case, for the product *PRODUCT_ARCHIVE_IMAGERY_RECENT_DOWNLOAD*. We will also set our sqkm usage amount to a variable"
   ]
  },
  {
   "cell_type": "code",
   "execution_count": null,
   "id": "7c142d0e",
   "metadata": {},
   "outputs": [],
   "source": [
    "for product_id in order_estimate_response.json()['data']['usage_estimate']:\n",
    "    desired_product_id = product_id['product_id']\n",
    "    order_quantity = product_id['quantity']\n",
    "    print(\"The ID for the product being utilized in the order is {}\".format(desired_product_id))"
   ]
  },
  {
   "cell_type": "markdown",
   "id": "42f6d666",
   "metadata": {},
   "source": [
    "With our product ID set, we now need to find the cost of this product with the associated rate table for our user. We will be using the *Tier 1 v1.0  (Default)* rate table"
   ]
  },
  {
   "cell_type": "code",
   "execution_count": null,
   "id": "f1617a20",
   "metadata": {},
   "outputs": [],
   "source": [
    "rate_table_url = \"https://api.maxar.com/account-service/api/v1/ratetables\"\n",
    "\n",
    "rate_table_response = requests.request(\"GET\", rate_table_url, headers=access_token)\n",
    "\n",
    "desired_rate_table = \"Tier 1 v1.0  (Default)\"\n",
    "\n",
    "for rate in rate_table_response.json()['rateTables']:\n",
    "    if rate['name'] == desired_rate_table:\n",
    "        desired_table_id = rate['id']\n",
    "print(\"The ID for the rate table {} is {}\".format(desired_rate_table, desired_table_id))"
   ]
  },
  {
   "cell_type": "markdown",
   "id": "f0c09c38",
   "metadata": {},
   "source": [
    "We now have the ID associated with our rate table. We will now calculate the cost of the order by cross referencing our sqkm qunatity from the order estimate with the actual credit cost for the product being used in our order"
   ]
  },
  {
   "cell_type": "code",
   "execution_count": null,
   "id": "088ab343",
   "metadata": {},
   "outputs": [],
   "source": [
    "rate_product_url = \"https://api.maxar.com/account-service/api/v1/ratetables/{}/productCredits\".format(desired_table_id)\n",
    "\n",
    "rate_product_response = requests.request(\"GET\", rate_product_url, headers=access_token)\n",
    "\n",
    "for rate_product in rate_product_response.json():\n",
    "    if rate_product['product']['id'] == desired_product_id:\n",
    "        print(\"Product {} has a cost of {} credits per {}\".format(\n",
    "            desired_product_id, rate_product['credits'], rate_product['creditUnitType']['description']))\n",
    "        print(\"The order placed would consume {} credits\".format(order_quantity * rate_product['credits']))"
   ]
  },
  {
   "cell_type": "markdown",
   "id": "d173421f",
   "metadata": {},
   "source": [
    "With our order cost calculated, we can now place our order using the same variables from the order validate and order estimate requests"
   ]
  },
  {
   "cell_type": "code",
   "execution_count": null,
   "id": "693575dc",
   "metadata": {},
   "outputs": [],
   "source": [
    "order_url = \"https://api.maxar.com/ordering/v1/pipelines/{}/{}/order\".format(namespace, name)\n",
    "\n",
    "order_payload = json.dumps({\"settings\": settings, \"output_config\": output_config, \"notifications\": notifications, \n",
    "                            \"metadata\": metadata})\n",
    "\n",
    "order_response = requests.request(\"POST\", order_url, headers=access_token, data=order_payload)\n",
    "\n",
    "print(order_response.json())\n",
    "order_id = order_response.json()['data']['id']"
   ]
  },
  {
   "cell_type": "markdown",
   "id": "b4d4537b",
   "metadata": {},
   "source": [
    "After the order has been placed, we may want to check the full details of the submitted order. This can be done with the following request and passing in the order id generated from the placement of the order"
   ]
  },
  {
   "cell_type": "code",
   "execution_count": null,
   "id": "3b9c584d",
   "metadata": {},
   "outputs": [],
   "source": [
    "order_details_url = \"https://api.maxar.com/ordering/v1/orders/{}\".format(order_id)\n",
    "\n",
    "order_details_response = requests.request(\"GET\", order_details_url, headers=access_token)\n",
    "\n",
    "print(order_details_response.json())"
   ]
  },
  {
   "cell_type": "markdown",
   "id": "1bc1070c",
   "metadata": {},
   "source": [
    "We also may want to occasionally check up on the status of the order. We can do this by utilizing the following request and checking the message of the response"
   ]
  },
  {
   "cell_type": "code",
   "execution_count": null,
   "id": "cac3bef6",
   "metadata": {},
   "outputs": [],
   "source": [
    "order_events_url = \"https://api.maxar.com/ordering/v1/orders/{}/events\".format(order_id)\n",
    "\n",
    "order_events_response = requests.request(\"GET\", order_events_url, headers=access_token)\n",
    "\n",
    "print(order_events_response.json())"
   ]
  },
  {
   "cell_type": "markdown",
   "id": "f4909b90",
   "metadata": {},
   "source": [
    "In some instances, we may want to cancel an order. Some pipelines unfortunately do not allow cancelling of orders. To check, we can run the get_all_pipelines function and see if cancelling is allowed for our pipeline"
   ]
  },
  {
   "cell_type": "code",
   "execution_count": null,
   "id": "da03966a",
   "metadata": {},
   "outputs": [],
   "source": [
    "all_pipelines_url = \"https://api.maxar.com/ordering/v1/pipelines?limit=100\"\n",
    "\n",
    "all_pipelines_response = requests.request(\"GET\", all_pipelines_url, headers=access_token)\n",
    "\n",
    "for pipeline in all_pipelines_response.json()['data']['pipelines']:\n",
    "    if pipeline['name'] == name:\n",
    "        if pipeline['orders_cancellable']:\n",
    "            print(\"Pipeline {} allows cancellations\".format(name))\n",
    "        else:\n",
    "            print(\"Pipeline {} does not allow cancellations\".format(name))"
   ]
  },
  {
   "cell_type": "markdown",
   "id": "ca64d3a1",
   "metadata": {},
   "source": [
    "Assuming the pipeline allows for cancellations, we can run the cancel_order function to cancel the desired order"
   ]
  },
  {
   "cell_type": "code",
   "execution_count": null,
   "id": "cac1ebe8",
   "metadata": {},
   "outputs": [],
   "source": [
    "cancel_order_url = \"https://api.maxar.com/ordering/v1/order/{}/cancel\".format(order_id)\n",
    "\n",
    "cancel_order_response = requests.request(\"POST\", cancel_order_url, headers=access_token)\n",
    "\n",
    "print(cancel_order_response.json())"
   ]
  }
 ],
 "metadata": {
  "kernelspec": {
   "display_name": "Python 3 (ipykernel)",
   "language": "python",
   "name": "python3"
  },
  "language_info": {
   "codemirror_mode": {
    "name": "ipython",
    "version": 3
   },
   "file_extension": ".py",
   "mimetype": "text/x-python",
   "name": "python",
   "nbconvert_exporter": "python",
   "pygments_lexer": "ipython3",
   "version": "3.8.16"
  }
 },
 "nbformat": 4,
 "nbformat_minor": 5
}
