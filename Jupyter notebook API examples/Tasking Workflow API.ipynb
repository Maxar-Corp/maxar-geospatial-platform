{
 "cells": [
  {
   "cell_type": "markdown",
   "id": "984fa881",
   "metadata": {},
   "source": [
    "## Tasking Workflow\n",
    "\n",
    "In this example workflow, a user will be shown how to:\n",
    "* View pipelines\n",
    "* Create a tasking request\n",
    "* View a tasking request\n",
    "* Cancel a tasking request"
   ]
  },
  {
   "cell_type": "markdown",
   "id": "71dc0ff9",
   "metadata": {},
   "source": [
    "#### Authentication\n",
    "For a more detailed view of how to authorize with MGP, please see the *Auth and Token Service* notebook in this collection"
   ]
  },
  {
   "cell_type": "code",
   "execution_count": null,
   "id": "084bf65c",
   "metadata": {},
   "outputs": [],
   "source": [
    "import requests\n",
    "import json\n",
    "\n",
    "username = \"your.email@address.com\"\n",
    "password= \"yourpassword\"\n",
    "\n",
    "url = \"https://account.maxar.com/auth/realms/mds/protocol/openid-connect/token\"\n",
    "\n",
    "payload = 'client_id=mgp&username={}&password={}&grant_type=password'.format(username, password)\n",
    "headers = {'Content-Type': 'application/x-www-form-urlencoded'}\n",
    "\n",
    "response = requests.request(\"POST\", url, headers=headers, data=payload)\n",
    "\n",
    "access_token = {'Content-Type': 'application/json', 'Authorization': 'Bearer {}'.format(response.json()['access_token'])}"
   ]
  },
  {
   "cell_type": "markdown",
   "id": "d950f324",
   "metadata": {},
   "source": [
    "#### Getting a Pipeline"
   ]
  },
  {
   "cell_type": "markdown",
   "id": "2c0fc2ea",
   "metadata": {},
   "source": [
    "Before we begin, we will want to find a pipeline to work with and the necessary information needed for the pipeline. If you are unfamiliar with a pipeline and what is needed for the order to work, you can use the following request to determine what information needs to be passed in."
   ]
  },
  {
   "cell_type": "markdown",
   "id": "8cec6fad",
   "metadata": {},
   "source": [
    "In this case, we want to use the *map-ready* pipeline with the namespace of *imagery*. With our pipeline identified, we can narrow down the response of the request to show us the necessary information needed to place a tasking request"
   ]
  },
  {
   "cell_type": "code",
   "execution_count": null,
   "id": "f16f8da4",
   "metadata": {},
   "outputs": [],
   "source": [
    "get_pipeline_url = \"https://api.maxar.com/ordering/v1/pipelines/imagery/map-ready\"\n",
    "\n",
    "get_pipeline_response = requests.request(\"GET\", get_pipeline_url, headers=access_token)\n",
    "\n",
    "required_info = get_pipeline_response.json()['data']['settings_schema']['required']\n",
    "print(\"The required information needed to place an order on this pipeline is: {}\".format(required_info))\n",
    "for info in required_info:\n",
    "    type_info = get_pipeline_response.json()['data']['settings_schema']['properties'][info]\n",
    "    print(\"The type of data for {} is: {}\".format(info, type_info))"
   ]
  },
  {
   "cell_type": "markdown",
   "id": "80f8be65",
   "metadata": {},
   "source": [
    "#### Create a Tasking Request"
   ]
  },
  {
   "cell_type": "markdown",
   "id": "2ac781df",
   "metadata": {},
   "source": [
    "Before we create a tasking request, we will need to import the datetime module to make it easier to get UTC dates in ISO-8601 format. Tasking requests must be made at least 5 minutes into the future"
   ]
  },
  {
   "cell_type": "code",
   "execution_count": null,
   "id": "ffca7833",
   "metadata": {},
   "outputs": [],
   "source": [
    "import datetime\n",
    "\n",
    "now_start = datetime.datetime.utcnow() + datetime.timedelta(minutes=10)\n",
    "now_time = now_start.isoformat()\n",
    "end_start = datetime.datetime.utcnow() + datetime.timedelta(days=1)\n",
    "end_time = end_start.isoformat()\n",
    "now = now_time.replace(now_time[-7:], \"+00:00\")\n",
    "end = end_time.replace(now_time[-7:], \"+00:00\")\n",
    "print(now)\n",
    "print(end)"
   ]
  },
  {
   "cell_type": "markdown",
   "id": "47ff1b58",
   "metadata": {},
   "source": [
    "Having set our beginning and ending times, we now need to set up our tasking template. Using the information gathered from the pipeline request, we can construct a template. *NOTE: The inventory_ids field needs to be included in the tasking request, but no ids need to be passed in. Instead, use the string shown in the list as a placeholder*"
   ]
  },
  {
   "cell_type": "code",
   "execution_count": null,
   "id": "5d780398",
   "metadata": {},
   "outputs": [],
   "source": [
    "settings = {\"inventory_ids\": [\"$.id\"], \"customer_description\": \"Your description\"}\n",
    "output_config = {\"amazon_s3\": {\"bucket\": \"YourS3BucketName\", \"prefix\": \"Your/S3/bucket/prefix/name\"}}\n",
    "notifications = {\"type\": \"email\", \"target\": \"your.email@address.com\", \"level\": \"INITIAL_FINAL\"}"
   ]
  },
  {
   "cell_type": "code",
   "execution_count": null,
   "id": "7d1b7b38",
   "metadata": {},
   "outputs": [],
   "source": [
    "template = [{\n",
    "    \"pipeline\": \"imagery/map-ready\",\n",
    "    \"template\": {\n",
    "        \"settings\": settings,\n",
    "        \"output_config\": output_config,\n",
    "        \"notifications\": [notifications],\n",
    "        \"metadata\": {\n",
    "            \"project_id\": \"Your tasking name\"\n",
    "        }\n",
    "    }\n",
    "}]"
   ]
  },
  {
   "cell_type": "markdown",
   "id": "d1dd0bf4",
   "metadata": {},
   "source": [
    "We will also set our geoJSON in advance to use in the tasking request"
   ]
  },
  {
   "cell_type": "code",
   "execution_count": null,
   "id": "e825a49a",
   "metadata": {},
   "outputs": [],
   "source": [
    "coordinates = {\n",
    "    \"type\": \"Polygon\", \n",
    "    \"coordinates\": [\n",
    "        [\n",
    "            [152.931404, -27.556982],\n",
    "            [153.172073, -27.556982],\n",
    "            [153.172073, -27.394936],\n",
    "            [152.931404, -27.394936],\n",
    "            [152.931404, -27.556982]\n",
    "        ]\n",
    "    ]\n",
    "}"
   ]
  },
  {
   "cell_type": "markdown",
   "id": "7b85583d",
   "metadata": {},
   "source": [
    "With our variables set, we can now submit a tasking request. First, let's run a validation on our tasking request to make sure that everything is formatted correctly. We will be using the 50cm_Color recipe for this example"
   ]
  },
  {
   "cell_type": "code",
   "execution_count": null,
   "id": "0a303346",
   "metadata": {},
   "outputs": [],
   "source": [
    "tasking_validate_url = \"https://api.maxar.com/tasking/v1/tasking?validation_only=true\"\n",
    "\n",
    "tasking_validate_payload = json.dumps({\"start_datetime\": now, \"end_datetime\": end, \"aoi_geojson\": coordinates, \n",
    "                                       \"recipe\": \"50cm_Color\", \"order_templates\": template})\n",
    "\n",
    "tasking_validate_response = requests.request(\"POST\", tasking_validate_url, headers=access_token, data=tasking_validate_payload)\n",
    "\n",
    "print(tasking_validate_response.json())"
   ]
  },
  {
   "cell_type": "markdown",
   "id": "f80bab78",
   "metadata": {},
   "source": [
    "With our validaton passing, we can now run the full tasking request"
   ]
  },
  {
   "cell_type": "code",
   "execution_count": null,
   "id": "d9dae2db",
   "metadata": {},
   "outputs": [],
   "source": [
    "tasking_url = \"https://api.maxar.com/tasking/v1/tasking\"\n",
    "\n",
    "tasking_payload = json.dumps({\"start_datetime\": now, \"end_datetime\": end, \"aoi_geojson\": coordinates, \n",
    "                              \"recipe\": \"50cm_Color\", \"order_templates\": template})\n",
    "\n",
    "tasking_response = requests.request(\"POST\", tasking_url, headers=access_token, data=tasking_payload)\n",
    "\n",
    "print(tasking_response.json())\n",
    "tasking_id = tasking_response.json()['data']['id']"
   ]
  },
  {
   "cell_type": "markdown",
   "id": "9cdfaaec",
   "metadata": {},
   "source": [
    "#### Viewing Tasking Requests"
   ]
  },
  {
   "cell_type": "markdown",
   "id": "65d0be54",
   "metadata": {},
   "source": [
    "The tasking request has been submitted and the tasking_id has been set to a variable for use further along in the workflow. With the request submitted, we can now check on the status of the request"
   ]
  },
  {
   "cell_type": "code",
   "execution_count": null,
   "id": "ede833a0",
   "metadata": {},
   "outputs": [],
   "source": [
    "get_tasking_url = \"https://api.maxar.com/tasking/v1/tasking/{}\".format(tasking_id)\n",
    "\n",
    "get_tasking_response = requests.request(\"GET\", get_tasking_url, headers=access_token)\n",
    "\n",
    "print(get_tasking_response.json())"
   ]
  },
  {
   "cell_type": "markdown",
   "id": "5e9f49ce",
   "metadata": {},
   "source": [
    "#### Cancel a Tasking Request"
   ]
  },
  {
   "cell_type": "markdown",
   "id": "d9fbea74",
   "metadata": {},
   "source": [
    "In some cases, we may want to cancel a tasking order before it triggers. We can acomplish this with the following request"
   ]
  },
  {
   "cell_type": "code",
   "execution_count": null,
   "id": "e1f4533f",
   "metadata": {},
   "outputs": [],
   "source": [
    "cancel_tasking_url = \"https://api.maxar.com/tasking/v1/tasking/{}/cancel\".format(tasking_id)\n",
    "\n",
    "cancel_tasking_payload = json.dumps({\"reason\": \"Your reason for cancelling\"})\n",
    "\n",
    "cancel_tasking_response = requests.request(\"POST\", cancel_tasking_url, headers=access_token, data=cancel_tasking_payload)\n",
    "\n",
    "print(cancel_tasking_response.json())"
   ]
  },
  {
   "cell_type": "code",
   "execution_count": null,
   "id": "6d45092a",
   "metadata": {},
   "outputs": [],
   "source": []
  }
 ],
 "metadata": {
  "kernelspec": {
   "display_name": "Python 3 (ipykernel)",
   "language": "python",
   "name": "python3"
  },
  "language_info": {
   "codemirror_mode": {
    "name": "ipython",
    "version": 3
   },
   "file_extension": ".py",
   "mimetype": "text/x-python",
   "name": "python",
   "nbconvert_exporter": "python",
   "pygments_lexer": "ipython3",
   "version": "3.7.16"
  }
 },
 "nbformat": 4,
 "nbformat_minor": 5
}
