{
 "cells": [
  {
   "cell_type": "markdown",
   "id": "2ce5badd-22e8-4470-b6f0-a968dc6a1747",
   "metadata": {},
   "source": [
    "## Raster Analytics API Workflow\n",
    "\n",
    "In this example workflow, a user will be shown how to:\n",
    "* Return a vsicurl formatted URL for Maxar rasterized objects\n",
    "* Fetch a raster array\n",
    "* Download a raster image\n",
    "* Display a raster and manipulate the bands for that raster\n",
    "* Display a tileset of a raster and manipulate the bands for that raster"
   ]
  },
  {
   "cell_type": "markdown",
   "id": "6f3d10f7-5e4b-4bef-8839-0b74560c0006",
   "metadata": {},
   "source": [
    "### Requirements\n",
    "* GDAL (osgeo)\n",
    "* matplotlib\n",
    "* numpy\n",
    "* Maxar API token\n",
    "    * *Note: If you are unfamiliar with maxar API tokens, please refer to the Auth and Token Service API notebook in this collection*"
   ]
  },
  {
   "cell_type": "code",
   "execution_count": null,
   "id": "303eb699-9f48-4f61-8df8-a0aaf32db4f0",
   "metadata": {},
   "outputs": [],
   "source": [
    "from osgeo import gdal\n",
    "import matplotlib\n",
    "import matplotlib.pyplot as plt\n",
    "import numpy as np\n",
    "import warnings\n",
    "warnings.filterwarnings('ignore')"
   ]
  },
  {
   "cell_type": "markdown",
   "id": "1d43e387-d28f-4154-b4bc-7ea9f0913382",
   "metadata": {},
   "source": [
    "#### Return a vsicurl formatted URL"
   ]
  },
  {
   "cell_type": "markdown",
   "id": "52717c95-b946-42b7-81d6-b47104357fc6",
   "metadata": {},
   "source": [
    "To work with Maxar Rasters, a user will need a feature ID of a raster object. These can be found using the discovery API. If you are unfamiliar with the Discovery API, please see the Discovery and Ordering Workflow API notebook."
   ]
  },
  {
   "cell_type": "markdown",
   "id": "ed56a39d-356a-43b0-852b-3f208aa87a88",
   "metadata": {},
   "source": [
    "For this workflow, 10300100E538FE00 will be used as the testing feature ID. Before the URL is formatted, some variables will need to be set that are needed to fully format the URL"
   ]
  },
  {
   "cell_type": "code",
   "execution_count": null,
   "id": "779dd639-e28a-434f-ab5c-09afb99ce26c",
   "metadata": {},
   "outputs": [],
   "source": [
    "script_id = 'ortho-image'\n",
    "function = \"ortho\"\n",
    "collect_id = '10300100E538FE00'\n",
    "api_token = '<your-maxar-api-token>'\n",
    "crs = 'UTM'\n",
    "bands = 'red,green,blue'\n",
    "dra = 'true'"
   ]
  },
  {
   "cell_type": "markdown",
   "id": "7be6c2be-7a5d-4fa1-be45-0c401dd85fb9",
   "metadata": {},
   "source": [
    "The following function will enable a user to pass in the variables from above to create a vsicurl formatted URL"
   ]
  },
  {
   "cell_type": "code",
   "execution_count": null,
   "id": "fe1d8fdb-2a53-4092-aaf4-def3e4301830",
   "metadata": {},
   "outputs": [],
   "source": [
    "def create_raster_url(script_id, function, collect_id, api_token, crs='UTM', **kwargs):\n",
    "    if script_id.lower() == 'browse':\n",
    "        function = 'browse'\n",
    "        bands = \"red,green,blue\"\n",
    "        for item in kwargs.keys():\n",
    "            if item == 'bands':\n",
    "                bands = kwargs['bands']\n",
    "        vsi_url = f'/vsicurl/https://api.maxar.com/analytics/v1/raster/{script_id}/geotiff?function={function}' \\\n",
    "                  f'&p=collect_identifier=%22{collect_id}%22&p=crs=%22{crs}%22&p=bands=%22{bands}%22&maxar_api_token={api_token}'\n",
    "    elif script_id.lower() == 'ortho-image':\n",
    "        dra = \"false\"\n",
    "        interp = \"MTF\"\n",
    "        bands = \"red,green,blue\"\n",
    "        for item in kwargs.keys():\n",
    "            if item == 'dra':\n",
    "                dra = kwargs['dra']\n",
    "            if item == 'bands':\n",
    "                bands = kwargs['bands']\n",
    "        if function == \"ortho\":\n",
    "            for item in kwargs.keys():\n",
    "                if item == 'interpolation':\n",
    "                    interp = kwargs['interpolation']\n",
    "            vsi_url = f'/vsicurl/https://api.maxar.com/analytics/v1/raster/{script_id}/geotiff?function={function}' \\\n",
    "                      f'&p=collect_identifier=%22{collect_id}%22&p=crs=%22{crs}%22&p=bands=%22{bands}%22&p=interpolation=%22{interp}%22' \\\n",
    "                      f'&p=dra={dra}&maxar_api_token={api_token}'\n",
    "        else:\n",
    "            vsi_url = f'/vsicurl/https://api.maxar.com/analytics/v1/raster/{script_id}/geotiff?function={function}' \\\n",
    "                      f'&p=collect_identifier=%22{collect_id}%22&p=crs=%22{crs}%22&p=bands=%22{bands}%22&p=dra={dra}&maxar_api_token={api_token}'\n",
    "    elif script_id.lower() == 'ndvi-image':\n",
    "        function = 'ndvi_dra'\n",
    "        vsi_url = f'/vsicurl/https://api.maxar.com/analytics/v1/raster/{script_id}/geotiff?function={function}' \\\n",
    "                  f'&p=collect_identifier=%22{collect_id}%22&p=crs=%22{crs}%22&maxar_api_token={api_token}'\n",
    "    else:\n",
    "        raise Exception(\n",
    "            'script_id {} not recognized. Please use browse, ortho-image, or ndvi-image'.format(script_id))\n",
    "    return vsi_url"
   ]
  },
  {
   "cell_type": "code",
   "execution_count": null,
   "id": "3bbe021b-5ee8-4794-afd0-5d7366a031ae",
   "metadata": {},
   "outputs": [],
   "source": [
    "raster_url = create_raster_url(script_id=script_id, function=function, collect_id=collect_id, api_token=api_token, crs=crs, bands=bands, dra=dra)\n",
    "print(raster_url)"
   ]
  },
  {
   "cell_type": "markdown",
   "id": "15e24169-e0a7-4e51-a37d-08cf0590fc66",
   "metadata": {},
   "source": [
    "This URL is formatted to utilize vsicurl from GDAL to interact with the raster object. By removing the vsicurl prefix from the URL, the URL can be utilized in other third party applications, such as QGIS, to display and work with rasterized data"
   ]
  },
  {
   "cell_type": "markdown",
   "id": "2589e0bf-1b45-44c9-ab40-1efc24e6d3f2",
   "metadata": {},
   "source": [
    "#### Fetch a raster array"
   ]
  },
  {
   "cell_type": "markdown",
   "id": "e2c9915e-fcb0-48d8-a61e-92039e460504",
   "metadata": {},
   "source": [
    "The following function will allow a user to pass in a vsicurl formatted URL and get the raster array for that object"
   ]
  },
  {
   "cell_type": "code",
   "execution_count": null,
   "id": "cac980c2-a5f2-4534-967f-32904e8da914",
   "metadata": {},
   "outputs": [],
   "source": [
    "def fetch_arrays(raster_url, xoff, yoff, width, height):\n",
    "    dataset = gdal.Open(raster_url)\n",
    "    img_arrays = []\n",
    "    for band_index in range(dataset.RasterCount):\n",
    "        band = dataset.GetRasterBand(band_index + 1)\n",
    "        band_as_array = band.ReadAsArray(xoff, yoff, width, height)\n",
    "        img_arrays.append(band_as_array)\n",
    "    return img_arrays"
   ]
  },
  {
   "cell_type": "markdown",
   "id": "e7c7be91-68e9-483f-8cdd-e28008ccba8e",
   "metadata": {},
   "source": [
    "Utilizing the formatted URL from above, a list of raster arrays using the fetch_arrays function can now be fetched. A window parameter that represents the x offset in pixels, the y offset in pixels, the width in pixels, and the height in pixels of the raster object will also be declared."
   ]
  },
  {
   "cell_type": "code",
   "execution_count": null,
   "id": "ae4b5e30-b15b-485e-95fe-4fc787e69b0e",
   "metadata": {},
   "outputs": [],
   "source": [
    "window = (3067, 2045, 2045, 2045)\n",
    "raster_arrays = fetch_arrays(raster_url, *window)\n",
    "for array in raster_arrays:\n",
    "    print(array)"
   ]
  },
  {
   "cell_type": "markdown",
   "id": "348a167b-0a2d-48db-b844-26af1479a95e",
   "metadata": {},
   "source": [
    "#### Downloading the raster array"
   ]
  },
  {
   "cell_type": "markdown",
   "id": "ce183358-1617-4272-813a-88d735b4d07e",
   "metadata": {},
   "source": [
    "The following function will allow a user to pass in a raster array and download the raster to their machine"
   ]
  },
  {
   "cell_type": "code",
   "execution_count": null,
   "id": "3a420b18-683c-4e43-aac8-e060a7a6abb5",
   "metadata": {},
   "outputs": [],
   "source": [
    "def download_raster_array(raster_array, outputpath):\n",
    "    img = np.dstack((raster_array[0], raster_array[1], raster_array[2]))\n",
    "    matplotlib.image.imsave(outputpath, img)\n",
    "    return \"Raster image saved in {}\".format(outputpath)"
   ]
  },
  {
   "cell_type": "markdown",
   "id": "69bb375b-411b-43dd-b5a4-e2a92ac6be5e",
   "metadata": {},
   "source": [
    "Once a user has their raster array created from the URL function above, the raster can be downloaded locally for further use cases. Matplotlib is required to download the raster"
   ]
  },
  {
   "cell_type": "code",
   "execution_count": null,
   "id": "f6442873-d449-437f-a720-3159e9148cc5",
   "metadata": {},
   "outputs": [],
   "source": [
    "outputpath = \"<your\\output\\path\\image.png>\"\n",
    "download = download_raster_array(raster_arrays, outputpath)"
   ]
  },
  {
   "cell_type": "markdown",
   "id": "a4fb42fe-0449-4604-94c1-3334740774cd",
   "metadata": {},
   "source": [
    "#### Display a raster and manipulate the bands"
   ]
  },
  {
   "cell_type": "markdown",
   "id": "fc155849-bffd-49ed-9282-f9e971f9482b",
   "metadata": {},
   "source": [
    "A function that takes the raster information and returns an image to visualize the raster needs to be created. This function will take the raster arrays from above and utilize matplotlib for visualization"
   ]
  },
  {
   "cell_type": "code",
   "execution_count": null,
   "id": "87786396-0f59-4a87-b787-93d4062e96b0",
   "metadata": {},
   "outputs": [],
   "source": [
    "def view_image(arrays):\n",
    "    img = np.dstack((arrays[0], arrays[1], arrays[2]))\n",
    "    plt.figure(figsize=(10,10))\n",
    "    plt.imshow(img)"
   ]
  },
  {
   "cell_type": "code",
   "execution_count": null,
   "id": "aa469531-e517-4df4-bfb7-846035f08316",
   "metadata": {},
   "outputs": [],
   "source": [
    "view_image(raster_arrays)"
   ]
  },
  {
   "cell_type": "markdown",
   "id": "7dbcba95-59db-43b6-813d-7761b76733e7",
   "metadata": {},
   "source": [
    "The returned image is the raster object based off the formatted URL and the associated arrays. The bands of the raster can be changed by changing the bands variable and re-running the raster_url function and the get_arrays function on this new URL, then re-running the view_image function"
   ]
  },
  {
   "cell_type": "code",
   "execution_count": null,
   "id": "c6d7c0b8-78e5-456b-861e-71133fb645e7",
   "metadata": {},
   "outputs": [],
   "source": [
    "bands = 'nir1,red,green,blue'\n",
    "raster_url = create_raster_url(script_id=script_id, function=function, collect_id=collect_id, api_token=api_token, crs=crs, bands=bands, dra=dra)\n",
    "raster_arrays = fetch_arrays(raster_url, *window)\n",
    "view_image(raster_arrays)"
   ]
  },
  {
   "cell_type": "markdown",
   "id": "64104904-dee7-4093-b1d2-ea47d5d46b3d",
   "metadata": {},
   "source": [
    "This image has an additional band of nir1, or Near Infrared"
   ]
  },
  {
   "cell_type": "markdown",
   "id": "f00a73c3-aec6-47a6-ba19-6be42a30a455",
   "metadata": {},
   "source": [
    "#### Display a tileset of a raster"
   ]
  },
  {
   "cell_type": "markdown",
   "id": "36f9262f-f589-4d47-afe4-05f9a5b525b9",
   "metadata": {},
   "source": [
    "To display a sliding window (tileset) of the raster, a few more functions will need to be created to make the image viewable in Jupyter"
   ]
  },
  {
   "cell_type": "code",
   "execution_count": null,
   "id": "f4a0b03f-12fb-47dc-9938-ed066c8d8c96",
   "metadata": {},
   "outputs": [],
   "source": [
    "def display_interactive(image_array):\n",
    "    plt.close('all')\n",
    "    plt.style.use('_mpl-gallery-nogrid')\n",
    "    fig1, ax1 = plt.subplots()\n",
    "    displayable = np.transpose(image_array, [1, 2, 0])\n",
    "    im = ax1.imshow(displayable)\n",
    "    plt.show()"
   ]
  },
  {
   "cell_type": "code",
   "execution_count": null,
   "id": "19817e2f-dcc7-4400-bab3-f5adce00e70a",
   "metadata": {},
   "outputs": [],
   "source": [
    "def sliding_window(url, starting_offset, window_size, step_size):\n",
    "    window_width = window_size[0]\n",
    "    window_height = window_size[1]\n",
    "\n",
    "    step_x = step_size[0]\n",
    "    step_y = step_size[1]\n",
    "\n",
    "    start_x = starting_offset[0]\n",
    "    start_y = starting_offset[1]\n",
    "\n",
    "    info = gdal.Info(url, format=\"json\")\n",
    "    print('size: {}'.format(info['size']))\n",
    "    image_width = info['size'][0]\n",
    "    image_height = info['size'][1]\n",
    "\n",
    "    if start_x >= image_width:\n",
    "        raise RuntimeError('{} is beyond image width: {}'.format(start_x, image_width))\n",
    "    if start_y >= image_height:\n",
    "        raise RuntimeError('{} is beyond image height: {}'.format(start_x, image_height))\n",
    "\n",
    "    dataset = gdal.Open(url)\n",
    "\n",
    "    for y in range(0, image_height, step_y):\n",
    "        for x in range(0, image_width, step_x):\n",
    "            yield x, y, dataset.ReadAsArray(x, y, window_width, window_height)"
   ]
  },
  {
   "cell_type": "code",
   "execution_count": null,
   "id": "231b5e08-cae5-4961-a888-b5786fcbfbee",
   "metadata": {},
   "outputs": [],
   "source": [
    "# This is the main method that walks over the image using a sliding window\n",
    "def walk_the_earth(url, offset, window, step, display=False):\n",
    "    for (x, y, image_array) in sliding_window(url, step_size=step, window_size=window, starting_offset=offset):\n",
    "        if type(image_array) != type(None):\n",
    "            if image_array.shape[1] != window[1] or image_array.shape[2] != window[0]:\n",
    "                continue\n",
    "            print('.', end='')\n",
    "            if display:\n",
    "                display_interactive(image_array)"
   ]
  },
  {
   "cell_type": "markdown",
   "id": "d7f7f9d4-824d-4059-ab4e-4e420725316a",
   "metadata": {},
   "source": [
    "The bands will now be reset back to the rgb colors and the raster_url and get_arrays functions will need to be re-run"
   ]
  },
  {
   "cell_type": "code",
   "execution_count": null,
   "id": "562b7f90-3c13-4454-ae42-6d6bef22b852",
   "metadata": {},
   "outputs": [],
   "source": [
    "bands = 'red,green,blue'\n",
    "raster_url = create_raster_url(script_id=script_id, function=function, collect_id=collect_id, api_token=api_token, crs=crs, bands=bands, dra=dra)\n",
    "raster_arrays = fetch_arrays(raster_url, *window)"
   ]
  },
  {
   "cell_type": "markdown",
   "id": "61df9174-bb98-428f-8e8b-8c927b1afdd1",
   "metadata": {},
   "source": [
    "Some variables will be set that are needed to parse over the raster array to have the array visualized in a tileset"
   ]
  },
  {
   "cell_type": "code",
   "execution_count": null,
   "id": "e47f0c3a-3924-40d1-bea3-9f4748422a4c",
   "metadata": {},
   "outputs": [],
   "source": [
    "ww = 2048\n",
    "wh = 2048\n",
    "\n",
    "sx = 1024\n",
    "sy = 1024\n",
    "\n",
    "off_x = 0\n",
    "off_y = 0"
   ]
  },
  {
   "cell_type": "markdown",
   "id": "fe0fee2b-36ea-4eb3-9626-7855e9555c9a",
   "metadata": {},
   "source": [
    "The function can now be called, and a tileset will appear for the raster. Please note that this may take some time to fully finish running"
   ]
  },
  {
   "cell_type": "code",
   "execution_count": null,
   "id": "246de4d4-9307-4d8a-be6a-502495ee88a3",
   "metadata": {},
   "outputs": [],
   "source": [
    "print('window [{}, {}]'.format(ww, wh))\n",
    "print('window [{}, {}]'.format(sx, sy))\n",
    "print('offset [{}, {}]'.format(0, 0))\n",
    "\n",
    "walk_the_earth(raster_url, [off_x, off_y], [ww, wh], [sx, sy], display=True)"
   ]
  },
  {
   "cell_type": "markdown",
   "id": "7b404ef1-d9c3-484b-b926-4260c0cb2b63",
   "metadata": {},
   "source": [
    "The bands can be manipulated in the same way as above by redefining the bands variable and running the raster_url and get_arrays functions again, and then passing those new variables into the walk_the_earth function"
   ]
  }
 ],
 "metadata": {
  "kernelspec": {
   "display_name": "Python 3 (ipykernel)",
   "language": "python",
   "name": "python3"
  },
  "language_info": {
   "codemirror_mode": {
    "name": "ipython",
    "version": 3
   },
   "file_extension": ".py",
   "mimetype": "text/x-python",
   "name": "python",
   "nbconvert_exporter": "python",
   "pygments_lexer": "ipython3",
   "version": "3.7.13"
  }
 },
 "nbformat": 4,
 "nbformat_minor": 5
}
