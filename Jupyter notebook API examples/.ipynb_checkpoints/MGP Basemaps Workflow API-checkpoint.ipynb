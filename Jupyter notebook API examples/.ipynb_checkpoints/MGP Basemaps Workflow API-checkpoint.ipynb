{
 "cells": [
  {
   "cell_type": "markdown",
   "id": "639852fb",
   "metadata": {},
   "source": [
    "## Getting Started with the Maxar Geospatial Platform basemaps API\n",
    "\n",
    "This sample workflow will guide a user through using the Maxar Geospatial Platform basemaps API with real world examples. The process iwll go through:\n",
    "\n",
    "* Search for a basemaps/seamlines image\n",
    "* Select a basemaps/seamlines image\n",
    "* Download a basemaps/seamlines image"
   ]
  },
  {
   "cell_type": "markdown",
   "id": "ff9c901e",
   "metadata": {},
   "source": [
    "#### Authentication\n",
    "For a more detailed view of how to authorize with MGP, please see the *Auth and Token Service API* notebook in this collection"
   ]
  },
  {
   "cell_type": "code",
   "execution_count": 1,
   "id": "2cca81fb",
   "metadata": {},
   "outputs": [],
   "source": [
    "import requests\n",
    "import json\n",
    "\n",
    "username = \"tyler.hoehn@maxar.com\"\n",
    "password= \"MDSProdSysAdminPassword$!123\"\n",
    "\n",
    "url = \"https://account.maxar.com/auth/realms/mds/protocol/openid-connect/token\"\n",
    "\n",
    "payload = 'client_id=mgp&username={}&password={}&grant_type=password'.format(username, password)\n",
    "headers = {'Content-Type': 'application/x-www-form-urlencoded'}\n",
    "\n",
    "response = requests.request(\"POST\", url, headers=headers, data=payload)\n",
    "\n",
    "access_token = {'Content-Type': 'application/json', 'Authorization': 'Bearer {}'.format(response.json()['access_token'])}"
   ]
  },
  {
   "cell_type": "markdown",
   "id": "55919052",
   "metadata": {},
   "source": [
    "#### Search for a basemaps/seamlines image\n",
    "This function will search for imagery on the below bounding box. The return will be a dictionary containing metadata and results for your search"
   ]
  },
  {
   "cell_type": "code",
   "execution_count": 2,
   "id": "7dbbec84",
   "metadata": {},
   "outputs": [
    {
     "name": "stdout",
     "output_type": "stream",
     "text": [
      "{'type': 'FeatureCollection', 'features': [{'type': 'Feature', 'id': '3464b946-9c8b-36e4-b53b-2a45b69709ad', 'geometry': {'type': 'Polygon', 'coordinates': [[[-106.9629, 36.9141], [-106.9629, 42.2754], [-101.1621, 42.2754], [-101.1621, 36.4746], [-106.9629, 36.4746], [-106.9629, 36.9141]]]}, 'geometry_name': 'featureGeometry', 'properties': {'featureId': '3464b946-9c8b-36e4-b53b-2a45b69709ad', 'cloudCover': 0, 'sunAzimuth': None, 'sunElevation': None, 'offNadirAngle': 0, 'groundSampleDistance': 0.5, 'groundSampleDistanceUnit': 'Meter', 'source': 'Multiple', 'bandDescription': 'Natural Color', 'isEnvelopeGeometry': False, 'featureCentroid': '{\"type\":\"Point\",\"coordinates\":[-104.0625,39.375]}', 'dataLayer': 'plus_metro', 'legacyDescription': None, 'bandConfiguration': 'RGB', 'fullResolutionInitiatedOrder': None, 'legacyIdentifier': 'Vivid_Basic_US20_22Q4', 'crs': 'EPSG:4326', 'acquisitionDate': '2022-11-21T17:45:32Z', 'resolutionX': None, 'resolutionY': None, 'createdDate': '2022-12-02T23:04:57Z', 'processingLevel': 'VIVID_BASIC - 1:12,000', 'earliestAcquisitionTime': '2010-06-21T18:19:35Z', 'latestAcquisitionTime': '2010-06-21T18:19:35Z', 'companyName': None, 'orbitDirection': None, 'beamMode': None, 'polarisationMode': None, 'polarisationChannel': None, 'antennaLookDirection': None, 'minimumIncidenceAngle': None, 'maximumIncidenceAngle': None, 'incidenceAngleVariation': None, 'md5Hash': None, 'licenseType': None, 'isMultiPart': None, 'ceCategory': None, 'niirs': None, 'lastModifiedDate': '2023-03-21T17:37:48.491Z', 'hasCloudlessGeometry': None, 'deletedDate': None, 'deletedReason': None, 'productName': 'VIVID_BASIC', 'usageProductId': 227, 'ce90Accuracy': 8.4, 'bucketName': None, 'path': None, 'sensorType': None}}, {'type': 'Feature', 'id': '1f1fa3f3-b2ff-3e57-b4e4-4ed16118453c', 'geometry': {'type': 'Polygon', 'coordinates': [[[-104.5898, 36.4746], [-106.9629, 36.4746], [-106.9629, 42.2754], [-101.1621, 42.2754], [-101.1621, 36.4746], [-104.5898, 36.4746]]]}, 'geometry_name': 'featureGeometry', 'properties': {'featureId': '1f1fa3f3-b2ff-3e57-b4e4-4ed16118453c', 'cloudCover': 0, 'sunAzimuth': None, 'sunElevation': None, 'offNadirAngle': 0, 'groundSampleDistance': 0.5, 'groundSampleDistanceUnit': 'Meter', 'source': 'Multiple', 'bandDescription': 'Natural Color', 'isEnvelopeGeometry': False, 'featureCentroid': '{\"type\":\"Point\",\"coordinates\":[-104.0625,39.375]}', 'dataLayer': 'plus_metro', 'legacyDescription': None, 'bandConfiguration': 'RGB', 'fullResolutionInitiatedOrder': None, 'legacyIdentifier': 'Vivid_Basic_US20_21Q4', 'crs': 'EPSG:4326', 'acquisitionDate': '2021-11-28T18:10:05Z', 'resolutionX': None, 'resolutionY': None, 'createdDate': '2021-12-03T20:59:50Z', 'processingLevel': 'VIVID_BASIC - 1:12,000', 'earliestAcquisitionTime': '2010-05-09T17:44:58Z', 'latestAcquisitionTime': '2010-05-09T17:44:58Z', 'companyName': None, 'orbitDirection': None, 'beamMode': None, 'polarisationMode': None, 'polarisationChannel': None, 'antennaLookDirection': None, 'minimumIncidenceAngle': None, 'maximumIncidenceAngle': None, 'incidenceAngleVariation': None, 'md5Hash': None, 'licenseType': None, 'isMultiPart': None, 'ceCategory': None, 'niirs': None, 'lastModifiedDate': '2023-03-21T16:50:49.917Z', 'hasCloudlessGeometry': None, 'deletedDate': None, 'deletedReason': None, 'productName': 'VIVID_BASIC', 'usageProductId': 227, 'ce90Accuracy': 8.4, 'bucketName': None, 'path': None, 'sensorType': None}}], 'totalFeatures': 'unknown', 'numberReturned': 2, 'timeStamp': '2023-09-14T17:50:42.536Z', 'crs': {'type': 'name', 'properties': {'name': 'urn:ogc:def:crs:EPSG::4326'}}}\n"
     ]
    }
   ],
   "source": [
    "bbox = \"39.84387,-105.05608,39.95133,-104.94827\"\n",
    "srs = \"EPSG:4326\"\n",
    "output = \"application/json\"\n",
    "basemaps_type_name = \"Maxar:FinishedFeature\"\n",
    "product_name = \"VIVID_BASIC\"\n",
    "\n",
    "basemaps_search_url = \"https://api.maxar.com/basemaps/v1/ogc/wfs?service=WFS&request=GetFeature&version=2.0.0&outputFormat={}\" \\\n",
    "             \"&srsName={}&typename={}&cql_filter=productName='{}' \" \\\n",
    "             \"AND BBOX(featureGeometry,{})\".format(output, srs, basemaps_type_name, product_name, bbox)\n",
    "\n",
    "basemaps_response = requests.request(\"GET\", basemaps_search_url, headers=access_token)\n",
    "\n",
    "print(basemaps_response.json())"
   ]
  },
  {
   "cell_type": "code",
   "execution_count": null,
   "id": "9c48bc9b",
   "metadata": {},
   "outputs": [],
   "source": [
    "seamlines_type_name = \"seamline\"\n",
    "seamlines_search_url = \"https://api.maxar.com/basemaps/v1/seamlines/wfs?service=WFS&request=GetFeature&version=2.0.0\" \\\n",
    "                       \"&typename={}&outputFormat={}&srsName={}&cql_filter=product_name='{}' \" \\\n",
    "                       \"AND BBOX(seamline_geometry,{})\".format(seamlines_type_name, output, srs, product_name, bbox)\n",
    "seamlines_response = requests.request(\"GET\", seamlines_search_url, headers=access_token)\n",
    "print(seamlines_response.json())"
   ]
  },
  {
   "cell_type": "markdown",
   "id": "40afd899",
   "metadata": {},
   "source": [
    "#### Select a basemap/seamline image\n",
    "A user can now isolate features from the results above. Below, features will be a list of dictionaries where each dictionary in the list is a unique feature"
   ]
  },
  {
   "cell_type": "code",
   "execution_count": null,
   "id": "855b7fe6",
   "metadata": {},
   "outputs": [],
   "source": [
    "basemap_features = [i for i in basemaps_response.json()['features'] if i['properties']['source'] == \"Multiple\"]\n",
    "print(basemap_features)"
   ]
  },
  {
   "cell_type": "code",
   "execution_count": null,
   "id": "68d2c132",
   "metadata": {},
   "outputs": [],
   "source": [
    "seamlines_features = [i for i in seamlines_response.json()['features'] if i['properties']['sensor'] == \"wv02\"]\n",
    "print(seamlines_features)"
   ]
  },
  {
   "cell_type": "markdown",
   "id": "93726409",
   "metadata": {},
   "source": [
    "An image can now be selected from the specified search. In this example the first image in the `basemaps_features` list will be selected and the first image in the `seamlines_features` list will also be selected. Because a feature profile was not specified, the default profile will return features based on age. The first image will then be the newest image"
   ]
  },
  {
   "cell_type": "code",
   "execution_count": null,
   "id": "63875a53",
   "metadata": {},
   "outputs": [],
   "source": [
    "desired_basemaps_image = basemap_features[0]\n",
    "desired_basemaps_feature = desired_basemaps_image['id']\n",
    "print(desired_basemaps_image)\n",
    "print(desired_basemaps_feature)"
   ]
  },
  {
   "cell_type": "code",
   "execution_count": null,
   "id": "bec961b8",
   "metadata": {},
   "outputs": [],
   "source": [
    "desired_seamlines_image = seamlines_features[0]\n",
    "desired_seamlines_feature = desired_seamlines_image['properties']['catid']\n",
    "print(desired_seamlines_image)\n",
    "print(desired_seamlines_feature)"
   ]
  },
  {
   "cell_type": "markdown",
   "id": "5b65165a",
   "metadata": {},
   "source": [
    "A user can now view these images utilizing a WMS request. The user will need to import the ability to display images from the IPython module"
   ]
  },
  {
   "cell_type": "code",
   "execution_count": null,
   "id": "9d71fe6d",
   "metadata": {},
   "outputs": [],
   "source": [
    "basemap_wms_layer = \"Maxar:Imagery\"\n",
    "height = 512\n",
    "width = 512\n",
    "img_format = \"image/vnd.jpeg-png\"\n",
    "basemaps_wms_url = \"https://api.maxar.com/basemaps/v1/ogc/wms?service=WMS&request=GetMap&version=1.3.0&bbox={}&crs={}\" \\\n",
    "                   \"&layers={}&height={}&width={}&format={}&cql_filter=(productName='{}')\" \\\n",
    "                   \"AND(featureId='{}')\".format(bbox, srs, basemap_wms_layer, height, width, img_format, product_name, \n",
    "                                                desired_basemaps_feature)\n",
    "basemaps_wms_response = requests.request(\"GET\", basemaps_wms_url, headers=access_token)\n",
    "\n",
    "import IPython.display as disp\n",
    "from IPython.display import Image, display\n",
    "display(disp.Image(basemaps_wms_response.content))"
   ]
  },
  {
   "cell_type": "code",
   "execution_count": null,
   "id": "b9e3065f",
   "metadata": {},
   "outputs": [],
   "source": [
    "seamlines_wms_layer = \"Maxar:seamline\"\n",
    "seamlines_wms_url = \"https://api.maxar.com/basemaps/v1/seamlines/ows?service=WMS&request=GetMap&version=1.3.0&bbox={}&crs={}\" \\\n",
    "                    \"&layers={}&height={}&width={}&format={}&cql_filter=(product_name='{}')\" \\\n",
    "                    \"AND(catid='{}')\".format(bbox, srs, seamlines_wms_layer, height, width, img_format, product_name, \n",
    "                                                 desired_seamlines_feature)\n",
    "seamlines_wms_response = requests.request(\"GET\", seamlines_wms_url, headers=access_token)\n",
    "\n",
    "display(disp.Image(seamlines_wms_response.content))"
   ]
  },
  {
   "cell_type": "markdown",
   "id": "3d327c50",
   "metadata": {},
   "source": [
    "#### Download a basemap/seamlines image\n",
    "With the desired features isolated, a user will need to specify a download location on their machine. *Note: This sets the output location to the current working directory*"
   ]
  },
  {
   "cell_type": "code",
   "execution_count": null,
   "id": "ca882094",
   "metadata": {},
   "outputs": [],
   "source": [
    "import os\n",
    "basemaps_output_location = os.path.join(os.getcwd(), \"my_basemaps_image.jpeg\")\n",
    "seamlines_output_location = os.path.join(os.getcwd(), \"my_seamlines_image.jpeg\")\n",
    "print(basemaps_output_location)\n",
    "print(seamlines_output_location)"
   ]
  },
  {
   "cell_type": "markdown",
   "id": "daef884e",
   "metadata": {},
   "source": [
    "The user can now proceed to download the jpeg of the images"
   ]
  },
  {
   "cell_type": "code",
   "execution_count": null,
   "id": "53b0f38c",
   "metadata": {},
   "outputs": [],
   "source": [
    "with open(basemaps_output_location, 'wb+') as basemaps_output_file:\n",
    "    basemaps_output_file.write(basemaps_wms_response.content)\n",
    "print(\"File successfully downloaded to {}\".format(os.getcwd()))"
   ]
  },
  {
   "cell_type": "code",
   "execution_count": null,
   "id": "adb4213e",
   "metadata": {},
   "outputs": [],
   "source": [
    "with open(seamlines_output_location, 'wb+') as seamlines_output_file:\n",
    "    seamlines_output_file.write(seamlines_wms_response.content)\n",
    "print(\"File successfully downloaded to {}\".format(os.getcwd()))"
   ]
  }
 ],
 "metadata": {
  "kernelspec": {
   "display_name": "Python 3 (ipykernel)",
   "language": "python",
   "name": "python3"
  },
  "language_info": {
   "codemirror_mode": {
    "name": "ipython",
    "version": 3
   },
   "file_extension": ".py",
   "mimetype": "text/x-python",
   "name": "python",
   "nbconvert_exporter": "python",
   "pygments_lexer": "ipython3",
   "version": "3.7.15"
  }
 },
 "nbformat": 4,
 "nbformat_minor": 5
}
