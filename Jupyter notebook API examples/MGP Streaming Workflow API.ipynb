{
 "cells": [
  {
   "cell_type": "markdown",
   "id": "ba9ce3b5",
   "metadata": {},
   "source": [
    "## Getting Started with the Maxar Geospatial Platform Streaming API\n",
    "This sample workflow will guide a user through using the Maxar Geospatial Platform streaming API with real world examples.\n",
    "The process will go through:\n",
    "* Searching for an image\n",
    "* Selecting an image\n",
    "* Downloading an image \n",
    "* Searching seamline imagery via basemaps"
   ]
  },
  {
   "cell_type": "markdown",
   "id": "cfd943b6",
   "metadata": {},
   "source": [
    "#### Authentication\n",
    "For a more detailed view of how to authorize with MGP, please see the *Auth and Token Service* notebook in this collection"
   ]
  },
  {
   "cell_type": "code",
   "execution_count": null,
   "id": "a409639a",
   "metadata": {},
   "outputs": [],
   "source": [
    "import requests\n",
    "import json\n",
    "\n",
    "username = \"your.email@address.com\"\n",
    "password= \"yourpassword\"\n",
    "\n",
    "url = \"https://account.maxar.com/auth/realms/mds/protocol/openid-connect/token\"\n",
    "\n",
    "payload = 'client_id=mgp&username={}&password={}&grant_type=password'.format(username, password)\n",
    "headers = {'Content-Type': 'application/x-www-form-urlencoded'}\n",
    "\n",
    "response = requests.request(\"POST\", url, headers=headers, data=payload)\n",
    "\n",
    "access_token = {'Content-Type': 'application/json', 'Authorization': 'Bearer {}'.format(response.json()['access_token'])}"
   ]
  },
  {
   "cell_type": "markdown",
   "id": "873c10af",
   "metadata": {},
   "source": [
    "#### Search for an image\n",
    "The following request will search for imagery on the below bounding box (bbox). The return will be a dictionary containing metadata and results for the specified search."
   ]
  },
  {
   "cell_type": "code",
   "execution_count": null,
   "id": "48e2bf87",
   "metadata": {},
   "outputs": [],
   "source": [
    "bbox = \"39.710884,-105.243530,39.808536,-105.117874\"\n",
    "srs = \"EPSG:4326\"\n",
    "height = 256\n",
    "width = 256\n",
    "output = \"application/json\"\n",
    "type_name = \"Maxar:FinishedFeature\"\n",
    "\n",
    "search_url = \"https://api.maxar.com/streaming/v1/ogc/wfs?service=WFS&request=GetFeature&version=2.0.0&bbox={}&\" \\\n",
    "             \"srsName={}&typeNames={}&height={}&width={}&\" \\\n",
    "             \"outputFormat={}\".format(bbox, srs, type_name, height, width, output)\n",
    "\n",
    "search_response = requests.request(\"GET\", search_url, headers=access_token)\n",
    "\n",
    "print(search_response.json())"
   ]
  },
  {
   "cell_type": "markdown",
   "id": "16c3de49",
   "metadata": {},
   "source": [
    "#### Select an Image\n",
    "Next a feature will be isolated from the list of features from the results above. Below, features will be a list of dictionaries where each dictionary in the list is a unique feature."
   ]
  },
  {
   "cell_type": "code",
   "execution_count": null,
   "id": "84bf59d6",
   "metadata": {},
   "outputs": [],
   "source": [
    "WV02_features = [i for i in search_response.json()['features'] if i['properties']['source'] == 'WV02']\n",
    "print(WV02_features)"
   ]
  },
  {
   "cell_type": "markdown",
   "id": "95f3bda4",
   "metadata": {},
   "source": [
    "Now an image will be selected from the specified search. The first image in the `WV02_features` list will be chosen for this example. Because a feature profile was not selected, the default profile will return features based on age. The first image will then be the newest image."
   ]
  },
  {
   "cell_type": "code",
   "execution_count": null,
   "id": "b053b443",
   "metadata": {},
   "outputs": [],
   "source": [
    "desired_image = WV02_features[0]\n",
    "desired_featureid = desired_image['id']\n",
    "print(desired_image)\n",
    "print(desired_featureid)"
   ]
  },
  {
   "cell_type": "markdown",
   "id": "5cf91245",
   "metadata": {},
   "source": [
    "This image can now be viewed utilizing a WMS call. The IPython module will need to be imported in order to have the ability to display images."
   ]
  },
  {
   "cell_type": "code",
   "execution_count": null,
   "id": "376c9eec",
   "metadata": {},
   "outputs": [],
   "source": [
    "wms_url = \"https://api.maxar.com/streaming/v1/ogc/wms?service=WMS&request=GetMap&version=1.3.0&bbox={}&crs={}&\" \\\n",
    "          \"layers=Maxar:Imagery&height={}&width={}&format=image/vnd.jpeg-png&transparent=true&tiled=true&\" \\\n",
    "          \"cql_Filter=featureId='{}'\".format(bbox, srs, height, width, desired_featureid)\n",
    "\n",
    "wms_response = requests.request(\"GET\", wms_url, headers=access_token)\n",
    "\n",
    "import IPython.display as disp\n",
    "from IPython.display import Image, display\n",
    "display(disp.Image(wms_response.content))"
   ]
  },
  {
   "cell_type": "markdown",
   "id": "211bbe08",
   "metadata": {},
   "source": [
    "A tile view of this image in full resolution can also be viewed utilizing a WMTS request."
   ]
  },
  {
   "cell_type": "code",
   "execution_count": null,
   "id": "77e20b3e",
   "metadata": {},
   "outputs": [],
   "source": [
    "wmts_url = \"https://api.maxar.com/streaming/v1/ogc/gwc/service/wmts?service=WMTS&request=GetTile&version=1.0.0&\" \\\n",
    "           \"layer=Maxar:Imagery&tileMatrixSet={}&tileMatrix=EPSG:4326:18&tileCol=108959&tileRow=73232&format=image/png&\" \\\n",
    "           \"style=raster\".format(srs)\n",
    "\n",
    "wmts_response = requests.request(\"GET\", wmts_url, headers=access_token)\n",
    "\n",
    "display(disp.Image(wmts_response.content))"
   ]
  },
  {
   "cell_type": "markdown",
   "id": "54b4edac",
   "metadata": {},
   "source": [
    "#### Download an Image\n",
    "Now that the desired feature has been isolated to download, a download location will need to specified.\n",
    "*Note: This sets the output location to the current working directory.*"
   ]
  },
  {
   "cell_type": "code",
   "execution_count": null,
   "id": "3d26f9c0",
   "metadata": {},
   "outputs": [],
   "source": [
    "import os\n",
    "output_location = os.path.join(os.getcwd(), 'my_image.jpeg')\n",
    "print(output_location)"
   ]
  },
  {
   "cell_type": "markdown",
   "id": "c2a711b1",
   "metadata": {},
   "source": [
    "The image can now be downloaded as a jpeg."
   ]
  },
  {
   "cell_type": "code",
   "execution_count": null,
   "id": "60b74c56",
   "metadata": {},
   "outputs": [],
   "source": [
    "with open(output_location, 'wb') as output_file:\n",
    "    output_file.write(wms_response.content)\n",
    "print(\"File successfully downloaded to {}\".format(os.getcwd()))"
   ]
  },
  {
   "cell_type": "markdown",
   "id": "cd039a46",
   "metadata": {},
   "source": [
    "#### Basemaps"
   ]
  },
  {
   "cell_type": "markdown",
   "id": "ff79bdcf",
   "metadata": {},
   "source": [
    "#### Search for a seamlines feature\n",
    "The following request will search for imagery on the below Bbox. The return will be a dictionary containing metadata and results for the desired search."
   ]
  },
  {
   "cell_type": "code",
   "execution_count": null,
   "id": "d77ed2e5",
   "metadata": {},
   "outputs": [],
   "source": [
    "bbox = \"39.746196,-104.954672,39.747858,-104.951625\"\n",
    "typename = \"seamline\"\n",
    "output = \"json\"\n",
    "srs = \"EPSG:4326\"\n",
    "cql_filter = \"BBOX(seamline_geometry,{})AND(product_name='VIVID_STANDARD_30')\".format(bbox)\n",
    "\n",
    "seamline_search_url = \"https://api.maxar.com/basemaps/v1/seamlines/wfs?service=WFS&request=GetFeature&version=2.0.0&\" \\\n",
    "                      \"typename={}&outputFormat={}&srsName={}&cql_filter={}\".format(typename, output, srs, cql_filter)\n",
    "\n",
    "seamline_search_response = requests.request(\"GET\", seamline_search_url, headers=access_token)\n",
    "\n",
    "print(seamline_search_response.json())"
   ]
  },
  {
   "cell_type": "markdown",
   "id": "e44e98f7",
   "metadata": {},
   "source": [
    "#### Show seamlines for a given AOI\n",
    "Using the WMS method, a user can obtain seamlines over a desired AOI."
   ]
  },
  {
   "cell_type": "code",
   "execution_count": null,
   "id": "d902df6a",
   "metadata": {},
   "outputs": [],
   "source": [
    "bbox = \"36.985003,-109.028320,40.996484,-102.041016\"\n",
    "cql_filter = \"product_name='VIVID_STANDARD_30'\"\n",
    "\n",
    "seamline_wms_url = \"https://api.maxar.com/basemaps/v1/seamlines/ows?SERVICE=WMS&REQUEST=GetMap&VERSION=1.3.0&BBOX={}\" \\\n",
    "                   \"&CRS={}&LAYERS=Maxar:seamline&HEIGHT=300&WIDTH=300&FORMAT=image/jpeg&TRANSPARENT=True&\" \\\n",
    "                   \"TILED=true&cql_filter={}\".format(bbox, srs, cql_filter)\n",
    "\n",
    "seamline_wms_response = requests.request(\"GET\", seamline_wms_url, headers=access_token)\n",
    "\n",
    "display(disp.Image(seamline_wms_response.content))"
   ]
  },
  {
   "cell_type": "markdown",
   "id": "e43b72d1",
   "metadata": {},
   "source": [
    "A user can also obtain individual seamline tiles via the WMTS method. A larger bbox will return more tiles."
   ]
  },
  {
   "cell_type": "code",
   "execution_count": null,
   "id": "52bb2531",
   "metadata": {},
   "outputs": [],
   "source": [
    "row = 4574\n",
    "col = 6831\n",
    "\n",
    "seamline_wmts_url = \"https://api.maxar.com/basemaps/v1/seamlines/gwc/service/wmts?service=WMTS&request=GetTile&\" \\\n",
    "                    \"version=1.0.0&layer=Maxar:seamline&format=image/jpeg&tileMatrixSet={}&tileMatrix=EPSG:4326:14&\" \\\n",
    "                    \"tileCol={}&tileRow={}&cql_filter={}\".format(srs, col, row, cql_filter)\n",
    "\n",
    "seamline_wmts_response = requests.request(\"GET\", seamline_wmts_url, headers=access_token)\n",
    "\n",
    "display(disp.Image(seamline_wmts_response.content))"
   ]
  }
 ],
 "metadata": {
  "kernelspec": {
   "display_name": "Python 3 (ipykernel)",
   "language": "python",
   "name": "python3"
  },
  "language_info": {
   "codemirror_mode": {
    "name": "ipython",
    "version": 3
   },
   "file_extension": ".py",
   "mimetype": "text/x-python",
   "name": "python",
   "nbconvert_exporter": "python",
   "pygments_lexer": "ipython3",
   "version": "3.7.16"
  }
 },
 "nbformat": 4,
 "nbformat_minor": 5
}
