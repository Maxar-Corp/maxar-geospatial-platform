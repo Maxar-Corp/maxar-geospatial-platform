{
 "cells": [
  {
   "cell_type": "markdown",
   "id": "f37e5fe1",
   "metadata": {},
   "source": [
    "## Getting Started with the Maxar Geospatial Platform Monitoring API\n",
    "\n",
    "This sample workflow will guide a user through using the Maxar Geospatial Platform monitoring API with real world examples. The process will go through:\n",
    "* Validating a monitor\n",
    "* Creating a monitor\n",
    "* Listing monitors and monitor events\n",
    "* Toggling a monitor between enable and disable"
   ]
  },
  {
   "cell_type": "markdown",
   "id": "778def9e",
   "metadata": {},
   "source": [
    "#### Authentication\n",
    "For a more detailed view of how to authorize with MGP, please see the *Auth and Token Service* notebook in this collection"
   ]
  },
  {
   "cell_type": "code",
   "execution_count": null,
   "id": "3ddd788e",
   "metadata": {},
   "outputs": [],
   "source": [
    "import requests\n",
    "import json\n",
    "\n",
    "username = \"your.email@address.com\"\n",
    "password= \"yourpassword\"\n",
    "\n",
    "url = \"https://account.maxar.com/auth/realms/mds/protocol/openid-connect/token\"\n",
    "\n",
    "payload = 'client_id=mgp&username={}&password={}&grant_type=password'.format(username, password)\n",
    "headers = {'Content-Type': 'application/x-www-form-urlencoded'}\n",
    "\n",
    "response = requests.request(\"POST\", url, headers=headers, data=payload)\n",
    "\n",
    "access_token = {'Content-Type': 'application/json', 'Authorization': 'Bearer {}'.format(response.json()['access_token'])}"
   ]
  },
  {
   "cell_type": "markdown",
   "id": "25475c5b",
   "metadata": {},
   "source": [
    "#### Creating a new monitor"
   ]
  },
  {
   "cell_type": "markdown",
   "id": "fbc002e3",
   "metadata": {},
   "source": [
    "Before a new monitor can be created, some variables will need to be established to make the submission process easier. Note that monitors must be set to a time at least 15 minutes into the future."
   ]
  },
  {
   "cell_type": "code",
   "execution_count": null,
   "id": "3d04e98d",
   "metadata": {},
   "outputs": [],
   "source": [
    "import datetime\n",
    "\n",
    "now_start = datetime.datetime.utcnow() + datetime.timedelta(minutes=20)\n",
    "now_time = now_start.isoformat()\n",
    "end_start = datetime.datetime.utcnow() + datetime.timedelta(days=1)\n",
    "end_time = end_start.isoformat()\n",
    "now = now_time.replace(now_time[-7:], \"+00:00\")\n",
    "end = end_time.replace(end_time[-7:], \"+00:00\")\n",
    "print(now)\n",
    "print(end)"
   ]
  },
  {
   "cell_type": "markdown",
   "id": "83cd08a2",
   "metadata": {},
   "source": [
    "The monitoring API utilizes GeoJSON formatts for an Area Of Interest (AOI)."
   ]
  },
  {
   "cell_type": "code",
   "execution_count": null,
   "id": "440a3597",
   "metadata": {},
   "outputs": [],
   "source": [
    "geojson = {\n",
    "    \"type\": \"Polygon\",\n",
    "    \"coordinates\": [\n",
    "        [\n",
    "            [-106.8, 35.1],\n",
    "            [-106.4, 35.1],\n",
    "            [-106.4, 35.4],\n",
    "            [-106.8, 35.4],\n",
    "            [-106.8, 35.1]\n",
    "        ]\n",
    "    ]\n",
    "}"
   ]
  },
  {
   "cell_type": "markdown",
   "id": "9d897a27",
   "metadata": {},
   "source": [
    "The match criteria will be set to find features taken by either WorldView 2 or WorldView 3 with a cloud cover less than 75%."
   ]
  },
  {
   "cell_type": "code",
   "execution_count": null,
   "id": "06938bcc",
   "metadata": {},
   "outputs": [],
   "source": [
    "criteria = {\n",
    "    \"platform\": {\n",
    "        \"in\": [\"worldview-03\", \"worldview-02\"]\n",
    "    },\n",
    "    \"eo:cloud_cover\": {\n",
    "        \"lt\": 75\n",
    "    },\n",
    "    \"aoi:coverage_sqkm\": {\n",
    "        \"gte\": 1\n",
    "    }\n",
    "}"
   ]
  },
  {
   "cell_type": "markdown",
   "id": "518d4071",
   "metadata": {},
   "source": [
    "When a monitor finds imagery over the desired AOI, a notification will be sent to the user. This example will set the notification schema to email a user when imagery matching the desired criteria is found."
   ]
  },
  {
   "cell_type": "code",
   "execution_count": null,
   "id": "bf13d0a3",
   "metadata": {},
   "outputs": [],
   "source": [
    "notifications = [\n",
    "    {\n",
    "        \"type\": \"email\",\n",
    "        \"target\": \"your.email@address.com\"\n",
    "    }\n",
    "]"
   ]
  },
  {
   "cell_type": "markdown",
   "id": "f2d85db7",
   "metadata": {},
   "source": [
    "With the variables defined, the monitor request is almost ready be submitted. Imagery will be searched for in the discovery catalog. Firstly, a user should verify that everything is constructed correctly with a verification call."
   ]
  },
  {
   "cell_type": "code",
   "execution_count": null,
   "id": "f73cc2d6",
   "metadata": {},
   "outputs": [],
   "source": [
    "monitor_verify_url = \"https://api.maxar.com/monitoring/v1/monitors?validation_only=true\"\n",
    "\n",
    "monitor_verify_payload = json.dumps({\"source\": \"discovery/catalog\", \"start_datetime\": now, \"end_datetime\": end, \"description\": \n",
    "                                    \"Your Monitor Description\", \"aoi_geojson\": geojson, \"match_criteria\": criteria, \n",
    "                                    \"monitor_notifications\": notifications})\n",
    "\n",
    "monitor_verify_response = requests.request(\"POST\", monitor_verify_url, headers=access_token, data=monitor_verify_payload)\n",
    "\n",
    "print(monitor_verify_response.json())"
   ]
  },
  {
   "cell_type": "markdown",
   "id": "f79b6c49",
   "metadata": {},
   "source": [
    "Now that the monitor has passed the validation, the monitor request can be submitted."
   ]
  },
  {
   "cell_type": "code",
   "execution_count": null,
   "id": "5801242c",
   "metadata": {},
   "outputs": [],
   "source": [
    "monitor_url = \"https://api.maxar.com/monitoring/v1/monitors\"\n",
    "\n",
    "monitor_payload = json.dumps({\"source\": \"discovery/catalog\", \"start_datetime\": now, \"end_datetime\": end, \"description\": \n",
    "                              \"Your Monitor Description\", \"aoi_geojson\": geojson, \"match_criteria\": criteria, \n",
    "                              \"monitor_notifications\": notifications})\n",
    "\n",
    "monitor_response = requests.request(\"POST\", monitor_url, headers=access_token, data=monitor_payload)\n",
    "\n",
    "print(monitor_response.json())"
   ]
  },
  {
   "cell_type": "markdown",
   "id": "9c759d00",
   "metadata": {},
   "source": [
    "#### Monitor details"
   ]
  },
  {
   "cell_type": "markdown",
   "id": "5a91b016",
   "metadata": {},
   "source": [
    "With the monitor submission created, a user can now look at the details for the monitor by taking the monitor id and passing it into the following request."
   ]
  },
  {
   "cell_type": "code",
   "execution_count": null,
   "id": "d881cee2",
   "metadata": {},
   "outputs": [],
   "source": [
    "new_monitor = monitor_response.json()['data']['id']\n",
    "\n",
    "get_monitor_url = \"https://api.maxar.com/monitoring/v1/monitors/{}\".format(new_monitor)\n",
    "\n",
    "get_monitor_response = requests.request(\"GET\", get_monitor_url, headers=access_token)\n",
    "\n",
    "print(get_monitor_response.json())"
   ]
  },
  {
   "cell_type": "markdown",
   "id": "87dfb742",
   "metadata": {},
   "source": [
    "After a monitor has been submitted, a user can look at the monitor events as they have taken place with the `List Monitor Events` request."
   ]
  },
  {
   "cell_type": "code",
   "execution_count": null,
   "id": "02b5393f",
   "metadata": {},
   "outputs": [],
   "source": [
    "monitor_events_url = \"https://api.maxar.com/monitoring/v1/monitors/{}/events\".format(new_monitor)\n",
    "\n",
    "monitor_events_response = requests.request(\"GET\", monitor_events_url, headers=access_token)\n",
    "\n",
    "print(monitor_events_response.json())"
   ]
  },
  {
   "cell_type": "markdown",
   "id": "84a41bce",
   "metadata": {},
   "source": [
    "#### Toggle monitors"
   ]
  },
  {
   "cell_type": "markdown",
   "id": "3cad8149",
   "metadata": {},
   "source": [
    "There may be times that a user wishes to disable an enabled monitor before the initial end time, or enable a disabled monitor that was disabled prematurely. This can be done with the following request. *Note: Disabled monitors can only be enabled if the end datetime hasn't been reached yet. Enabled monitors can only be disabled if the start datetime has already happened*"
   ]
  },
  {
   "cell_type": "code",
   "execution_count": null,
   "id": "601d7590",
   "metadata": {},
   "outputs": [],
   "source": [
    "disable_monitor_url = \"https://api.maxar.com/monitoring/v1/monitors/{}/disable\".format(new_monitor)\n",
    "\n",
    "disable_monitor_response = requests.request(\"POST\", disable_monitor_url, headers=access_token)\n",
    "\n",
    "print(disable_monitor_response.json())"
   ]
  },
  {
   "cell_type": "code",
   "execution_count": null,
   "id": "07de8223",
   "metadata": {},
   "outputs": [],
   "source": [
    "enable_monitor_url = \"https://api.maxar.com/monitoring/v1/monitors/{}/enable\".format(new_monitor)\n",
    "\n",
    "enable_monitor_response = requests.request(\"POST\", enable_monitor_url, headers=access_token)\n",
    "\n",
    "print(enable_monitor_response.json())"
   ]
  }
 ],
 "metadata": {
  "kernelspec": {
   "display_name": "Python 3 (ipykernel)",
   "language": "python",
   "name": "python3"
  },
  "language_info": {
   "codemirror_mode": {
    "name": "ipython",
    "version": 3
   },
   "file_extension": ".py",
   "mimetype": "text/x-python",
   "name": "python",
   "nbconvert_exporter": "python",
   "pygments_lexer": "ipython3",
   "version": "3.7.16"
  }
 },
 "nbformat": 4,
 "nbformat_minor": 5
}
