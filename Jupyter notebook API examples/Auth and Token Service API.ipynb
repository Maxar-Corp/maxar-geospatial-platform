{
 "cells": [
  {
   "cell_type": "markdown",
   "id": "c07655a6",
   "metadata": {},
   "source": [
    "## Auth and Token Service for MGP via API\n",
    "\n",
    "The following workflow will show a user how to access the MGP API via the requests module for python. Specifically, this notebook will show a user how to:\n",
    "* Get an access token\n",
    "* Create a new API token\n",
    "* List existing API tokens\n",
    "* Delete existing API tokens"
   ]
  },
  {
   "cell_type": "markdown",
   "id": "4ec640f3",
   "metadata": {},
   "source": [
    "#### Fetching an access token"
   ]
  },
  {
   "cell_type": "markdown",
   "id": "7705b6d5",
   "metadata": {},
   "source": [
    "Firstly, the *requests* module needs to be imported to make API calls via python. If an import error occurs, the package will need to be installed onto you machine via the command *pip install requests*. We will also need the json module to interace with json data and to jsonify certain data later on"
   ]
  },
  {
   "cell_type": "code",
   "execution_count": null,
   "id": "c10a0c45",
   "metadata": {},
   "outputs": [],
   "source": [
    "import requests\n",
    "import json"
   ]
  },
  {
   "cell_type": "markdown",
   "id": "e0c51183",
   "metadata": {},
   "source": [
    "Here we will set our username and password as variables"
   ]
  },
  {
   "cell_type": "code",
   "execution_count": null,
   "id": "7d0ae02e",
   "metadata": {},
   "outputs": [],
   "source": [
    "username = \"your.email@address.com\"\n",
    "password= \"yourpassword\""
   ]
  },
  {
   "cell_type": "markdown",
   "id": "f6b6a300",
   "metadata": {},
   "source": [
    "Now we will need to fetch a new token and assign it to a variable"
   ]
  },
  {
   "cell_type": "code",
   "execution_count": null,
   "id": "cd2470fa",
   "metadata": {},
   "outputs": [],
   "source": [
    "url = \"https://account.maxar.com/auth/realms/mds/protocol/openid-connect/token\"\n",
    "\n",
    "payload = 'client_id=mgp&username={}&password={}&grant_type=password'.format(username, password)\n",
    "headers = {'Content-Type': 'application/x-www-form-urlencoded'}\n",
    "\n",
    "response = requests.request(\"POST\", url, headers=headers, data=payload)\n",
    "\n",
    "access_token = {'Content-Type': 'application/json', 'Authorization': 'Bearer {}'.format(response.json()['access_token'])}\n",
    "print(access_token)"
   ]
  },
  {
   "cell_type": "markdown",
   "id": "b629a29b",
   "metadata": {},
   "source": [
    "The previous call can be ran as many times as desired and will fetch a new token every time and set that token to the *access_token* variable. The token can be viewed by printing the *access_token* variable. A user can also refresh their existing token with the Refresh Token request shown below"
   ]
  },
  {
   "cell_type": "code",
   "execution_count": null,
   "id": "bd633f17",
   "metadata": {},
   "outputs": [],
   "source": [
    "refresh_token = response.json()['refresh_token']\n",
    "\n",
    "refresh_payload = 'grant_type=refresh_token&refresh_token={}&client_id=mgp'.format(refresh_token)\n",
    "\n",
    "refresh_response = requests.request(\"POST\", url, headers=headers, data=refresh_payload)\n",
    "\n",
    "access_token = {'Content-Type': 'application/json', 'Authorization': 'Bearer {}'.format(response.json()['access_token'])}"
   ]
  },
  {
   "cell_type": "markdown",
   "id": "23f77bee",
   "metadata": {},
   "source": [
    "#### Creating a new API token\n",
    "An API token is different from an access token. An API token is a query parameter that will be passed into an MGP valid URL that will grant authorization for a user. This is especially convenient when utilizing third party apps such as QGIS"
   ]
  },
  {
   "cell_type": "markdown",
   "id": "ae026714",
   "metadata": {},
   "source": [
    "To create an API token, we will need an access token to authorize the intial call. We will be using the *access_token* variable from above in the headers of this call and the rest of the calls in this notebook"
   ]
  },
  {
   "cell_type": "code",
   "execution_count": null,
   "id": "3b8988a3",
   "metadata": {},
   "outputs": [],
   "source": [
    "create_token_url = \"https://api.maxar.com/token-service/api/v1/token\"\n",
    "\n",
    "create_token_payload = json.dumps({\"name\": \"Your token name\", \"description\": \"Your token description\"})\n",
    "\n",
    "create_token_response = requests.request(\"POST\", create_token_url, headers=access_token, data=create_token_payload)\n",
    "\n",
    "print(create_token_response.json())\n",
    "\n",
    "new_token = create_token_response.json()['id']"
   ]
  },
  {
   "cell_type": "markdown",
   "id": "9c126770",
   "metadata": {},
   "source": [
    "With our newly created token, we can take the data from the *apiToken* variable and pass that into MGP requests to utilize auth in this way. We can list out all of our created tokens with the following request"
   ]
  },
  {
   "cell_type": "code",
   "execution_count": null,
   "id": "aabff273",
   "metadata": {},
   "outputs": [],
   "source": [
    "get_tokens_url = \"https://api.maxar.com/token-service/api/v1/token\"\n",
    "\n",
    "get_tokens_response = requests.request(\"GET\", get_tokens_url, headers=access_token)\n",
    "\n",
    "print(get_tokens_response.json())"
   ]
  },
  {
   "cell_type": "markdown",
   "id": "3ba3fec9",
   "metadata": {},
   "source": [
    "If for some reason a user wants to delete a token, they can pass the *id* of the token into the following call to delete it. Note that the *id* of the token is NOT the same as the *apiToken* variable that gets used for actual authorization"
   ]
  },
  {
   "cell_type": "code",
   "execution_count": null,
   "id": "ff8fb909",
   "metadata": {},
   "outputs": [],
   "source": [
    "delete_token_url = \"https://api.maxar.com/token-service/api/v1/token/id/{}\".format(new_token)\n",
    "\n",
    "delete_token_response = requests.request(\"DELETE\", delete_token_url, headers=access_token)\n",
    "\n",
    "if delete_token_response.status_code == 200:\n",
    "    print(\"Token {} successfully deleted\".format(new_token))\n",
    "else:\n",
    "    print(\"Token {} not deleted, status code {} received\".format(new_token, delete_token_response.status_code))"
   ]
  }
 ],
 "metadata": {
  "kernelspec": {
   "display_name": "Python 3 (ipykernel)",
   "language": "python",
   "name": "python3"
  },
  "language_info": {
   "codemirror_mode": {
    "name": "ipython",
    "version": 3
   },
   "file_extension": ".py",
   "mimetype": "text/x-python",
   "name": "python",
   "nbconvert_exporter": "python",
   "pygments_lexer": "ipython3",
   "version": "3.7.16"
  }
 },
 "nbformat": 4,
 "nbformat_minor": 5
}
